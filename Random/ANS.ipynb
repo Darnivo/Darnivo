{
 "cells": [
  {
   "cell_type": "code",
   "execution_count": 1,
   "id": "a66b04dd",
   "metadata": {},
   "outputs": [],
   "source": [
    "import pandas as pd\n",
    "import numpy as np\n",
    "import matplotlib.pyplot as plt"
   ]
  },
  {
   "cell_type": "code",
   "execution_count": 2,
   "id": "1a21eb49",
   "metadata": {},
   "outputs": [
    {
     "name": "stderr",
     "output_type": "stream",
     "text": [
      "C:\\Users\\darre\\AppData\\Local\\Temp\\ipykernel_17152\\3808885772.py:1: DtypeWarning: Columns (6) have mixed types. Specify dtype option on import or set low_memory=False.\n",
      "  df = pd.read_csv('output.csv')\n"
     ]
    },
    {
     "data": {
      "application/vnd.microsoft.datawrangler.viewer.v0+json": {
       "columns": [
        {
         "name": "index",
         "rawType": "int64",
         "type": "integer"
        },
        {
         "name": "Negara",
         "rawType": "object",
         "type": "string"
        },
        {
         "name": "Tahun",
         "rawType": "int64",
         "type": "integer"
        },
        {
         "name": "Jumlah",
         "rawType": "float64",
         "type": "float"
        },
        {
         "name": "Satuan",
         "rawType": "object",
         "type": "string"
        },
        {
         "name": "NamaSumber",
         "rawType": "object",
         "type": "string"
        },
        {
         "name": "Indikator",
         "rawType": "object",
         "type": "string"
        },
        {
         "name": "Kode HS",
         "rawType": "object",
         "type": "unknown"
        },
        {
         "name": "Label",
         "rawType": "object",
         "type": "string"
        }
       ],
       "ref": "9060fd69-fe6a-459c-addb-b5a8245f2b74",
       "rows": [
        [
         "0",
         "Panama",
         "2003",
         "0.0",
         "US$",
         "Trademap",
         "Ekspor Indonesia ke Negara Mitra",
         "26",
         "Ores, slag and ash"
        ],
        [
         "1",
         "Panama",
         "2003",
         "14632.0",
         "US$",
         "Trademap",
         "Ekspor Indonesia ke Negara Mitra",
         "30",
         "Pharmaceutical products"
        ],
        [
         "2",
         "Panama",
         "2003",
         "2.0",
         "US$",
         "Trademap",
         "Ekspor Indonesia ke Negara Mitra",
         "85",
         "Electrical machinery and equipment and parts thereof; sound recorders and reproducers, television . . ."
        ],
        [
         "3",
         "Panama",
         "2003",
         "818.0",
         "US$",
         "Trademap",
         "Ekspor Indonesia ke Negara Mitra",
         "84",
         "Nuclear reactors, boilers, machinery and mechanical appliances; parts thereof"
        ],
        [
         "4",
         "Panama",
         "2003",
         "11.0",
         "US$",
         "Trademap",
         "Ekspor Indonesia ke Negara Mitra",
         "29",
         "Organic chemicals"
        ],
        [
         "5",
         "Panama",
         "2003",
         "5.0",
         "US$",
         "Trademap",
         "Ekspor Indonesia ke Negara Mitra",
         "64",
         "Footwear, gaiters and the like; parts of such articles"
        ],
        [
         "6",
         "Panama",
         "2003",
         "6376.0",
         "US$",
         "Trademap",
         "Ekspor Indonesia ke Negara Mitra",
         "62",
         "Articles of apparel and clothing accessories, not knitted or crocheted"
        ],
        [
         "7",
         "Panama",
         "2003",
         "743.0",
         "US$",
         "Trademap",
         "Ekspor Indonesia ke Negara Mitra",
         "33",
         "Essential oils and resinoids; perfumery, cosmetic or toilet preparations"
        ],
        [
         "8",
         "Panama",
         "2003",
         "4658.0",
         "US$",
         "Trademap",
         "Ekspor Indonesia ke Negara Mitra",
         "61",
         "Articles of apparel and clothing accessories, knitted or crocheted"
        ],
        [
         "9",
         "Panama",
         "2003",
         "13202.0",
         "US$",
         "Trademap",
         "Ekspor Indonesia ke Negara Mitra",
         "22",
         "Beverages, spirits and vinegar"
        ],
        [
         "10",
         "Panama",
         "2003",
         "107.0",
         "US$",
         "Trademap",
         "Ekspor Indonesia ke Negara Mitra",
         "87",
         "Vehicles other than railway or tramway rolling stock, and parts and accessories thereof"
        ],
        [
         "11",
         "Panama",
         "2003",
         "289.0",
         "US$",
         "Trademap",
         "Ekspor Indonesia ke Negara Mitra",
         "71",
         "Natural or cultured pearls, precious or semi-precious stones, precious metals, metals clad . . ."
        ],
        [
         "12",
         "Panama",
         "2003",
         "7237.0",
         "US$",
         "Trademap",
         "Ekspor Indonesia ke Negara Mitra",
         "39",
         "Plastics and articles thereof"
        ],
        [
         "13",
         "Panama",
         "2003",
         "429.0",
         "US$",
         "Trademap",
         "Ekspor Indonesia ke Negara Mitra",
         "40",
         "Rubber and articles thereof"
        ],
        [
         "14",
         "Panama",
         "2003",
         "57.0",
         "US$",
         "Trademap",
         "Ekspor Indonesia ke Negara Mitra",
         "95",
         "Toys, games and sports requisites; parts and accessories thereof"
        ],
        [
         "15",
         "Panama",
         "2003",
         "165308.0",
         "US$",
         "Trademap",
         "Ekspor Indonesia ke Negara Mitra",
         "08",
         "Edible fruit and nuts; peel of citrus fruit or melons"
        ],
        [
         "16",
         "Panama",
         "2003",
         "24.0",
         "US$",
         "Trademap",
         "Ekspor Indonesia ke Negara Mitra",
         "42",
         "Articles of leather; saddlery and harness; travel goods, handbags and similar containers; articles . . ."
        ],
        [
         "17",
         "Panama",
         "2003",
         "0.0",
         "US$",
         "Trademap",
         "Ekspor Indonesia ke Negara Mitra",
         "90",
         "Optical, photographic, cinematographic, measuring, checking, precision, medical or surgical . . ."
        ],
        [
         "18",
         "Panama",
         "2003",
         "378982.0",
         "US$",
         "Trademap",
         "Ekspor Indonesia ke Negara Mitra",
         "03",
         "Fish and crustaceans, molluscs and other aquatic invertebrates"
        ],
        [
         "19",
         "Panama",
         "2003",
         "15.0",
         "US$",
         "Trademap",
         "Ekspor Indonesia ke Negara Mitra",
         "63",
         "Other made-up textile articles; sets; worn clothing and worn textile articles; rags"
        ],
        [
         "20",
         "Panama",
         "2003",
         "21.0",
         "US$",
         "Trademap",
         "Ekspor Indonesia ke Negara Mitra",
         "54",
         "Man-made filaments; strip and the like of man-made textile materials"
        ],
        [
         "21",
         "Panama",
         "2003",
         "1814.0",
         "US$",
         "Trademap",
         "Ekspor Indonesia ke Negara Mitra",
         "94",
         "Furniture; bedding, mattresses, mattress supports, cushions and similar stuffed furnishings; . . ."
        ],
        [
         "22",
         "Panama",
         "2003",
         "2131.0",
         "US$",
         "Trademap",
         "Ekspor Indonesia ke Negara Mitra",
         "73",
         "Articles of iron or steel"
        ],
        [
         "23",
         "Panama",
         "2003",
         "65.0",
         "US$",
         "Trademap",
         "Ekspor Indonesia ke Negara Mitra",
         "24",
         "Tobacco and manufactured tobacco substitutes; products, whether or not containing nicotine, . . ."
        ],
        [
         "24",
         "Panama",
         "2003",
         "0.0",
         "US$",
         "Trademap",
         "Ekspor Indonesia ke Negara Mitra",
         "91",
         "Clocks and watches and parts thereof"
        ],
        [
         "25",
         "Panama",
         "2003",
         "11791.0",
         "US$",
         "Trademap",
         "Ekspor Indonesia ke Negara Mitra",
         "48",
         "Paper and paperboard; articles of paper pulp, of paper or of paperboard"
        ],
        [
         "26",
         "Panama",
         "2003",
         "38.0",
         "US$",
         "Trademap",
         "Ekspor Indonesia ke Negara Mitra",
         "15",
         "Animal, vegetable or microbial fats and oils and their cleavage products; prepared edible fats; . . ."
        ],
        [
         "27",
         "Panama",
         "2003",
         "9452.0",
         "US$",
         "Trademap",
         "Ekspor Indonesia ke Negara Mitra",
         "44",
         "Wood and articles of wood; wood charcoal"
        ],
        [
         "28",
         "Panama",
         "2003",
         "14726.0",
         "US$",
         "Trademap",
         "Ekspor Indonesia ke Negara Mitra",
         "76",
         "Aluminium and articles thereof"
        ],
        [
         "29",
         "Panama",
         "2003",
         "0.0",
         "US$",
         "Trademap",
         "Ekspor Indonesia ke Negara Mitra",
         "82",
         "Tools, implements, cutlery, spoons and forks, of base metal; parts thereof of base metal"
        ],
        [
         "30",
         "Panama",
         "2003",
         "4963.0",
         "US$",
         "Trademap",
         "Ekspor Indonesia ke Negara Mitra",
         "72",
         "Iron and steel"
        ],
        [
         "31",
         "Panama",
         "2003",
         "12664.0",
         "US$",
         "Trademap",
         "Ekspor Indonesia ke Negara Mitra",
         "23",
         "Residues and waste from the food industries; prepared animal fodder"
        ],
        [
         "32",
         "Panama",
         "2003",
         "6804.0",
         "US$",
         "Trademap",
         "Ekspor Indonesia ke Negara Mitra",
         "96",
         "Miscellaneous manufactured articles"
        ],
        [
         "33",
         "Panama",
         "2003",
         "49.0",
         "US$",
         "Trademap",
         "Ekspor Indonesia ke Negara Mitra",
         "38",
         "Miscellaneous chemical products"
        ],
        [
         "34",
         "Panama",
         "2003",
         "112.0",
         "US$",
         "Trademap",
         "Ekspor Indonesia ke Negara Mitra",
         "83",
         "Miscellaneous articles of base metal"
        ],
        [
         "35",
         "Panama",
         "2003",
         "12951.0",
         "US$",
         "Trademap",
         "Ekspor Indonesia ke Negara Mitra",
         "17",
         "Sugars and sugar confectionery"
        ],
        [
         "36",
         "Panama",
         "2003",
         "93.0",
         "US$",
         "Trademap",
         "Ekspor Indonesia ke Negara Mitra",
         "34",
         "Soap, organic surface-active agents, washing preparations, lubricating preparations, artificial . . ."
        ],
        [
         "37",
         "Panama",
         "2003",
         "13391.0",
         "US$",
         "Trademap",
         "Ekspor Indonesia ke Negara Mitra",
         "02",
         "Meat and edible meat offal"
        ],
        [
         "38",
         "Panama",
         "2003",
         "64.0",
         "US$",
         "Trademap",
         "Ekspor Indonesia ke Negara Mitra",
         "65",
         "Headgear and parts thereof"
        ],
        [
         "39",
         "Panama",
         "2003",
         "1267.0",
         "US$",
         "Trademap",
         "Ekspor Indonesia ke Negara Mitra",
         "32",
         "Tanning or dyeing extracts; tannins and their derivatives; dyes, pigments and other colouring . . ."
        ],
        [
         "40",
         "Panama",
         "2003",
         "2213.0",
         "US$",
         "Trademap",
         "Ekspor Indonesia ke Negara Mitra",
         "70",
         "Glass and glassware"
        ],
        [
         "41",
         "Panama",
         "2003",
         "12813.0",
         "US$",
         "Trademap",
         "Ekspor Indonesia ke Negara Mitra",
         "09",
         "Coffee, tea, maté and spices"
        ],
        [
         "42",
         "Panama",
         "2003",
         "1624.0",
         "US$",
         "Trademap",
         "Ekspor Indonesia ke Negara Mitra",
         "74",
         "Copper and articles thereof"
        ],
        [
         "43",
         "Panama",
         "2003",
         "115.0",
         "US$",
         "Trademap",
         "Ekspor Indonesia ke Negara Mitra",
         "69",
         "Ceramic products"
        ],
        [
         "44",
         "Panama",
         "2003",
         "10005.0",
         "US$",
         "Trademap",
         "Ekspor Indonesia ke Negara Mitra",
         "21",
         "Miscellaneous edible preparations"
        ],
        [
         "45",
         "Panama",
         "2003",
         "17.0",
         "US$",
         "Trademap",
         "Ekspor Indonesia ke Negara Mitra",
         "25",
         "Salt; sulphur; earths and stone; plastering materials, lime and cement"
        ],
        [
         "46",
         "Panama",
         "2003",
         "0.0",
         "US$",
         "Trademap",
         "Ekspor Indonesia ke Negara Mitra",
         "92",
         "Musical instruments; parts and accessories of such articles"
        ],
        [
         "47",
         "Panama",
         "2003",
         "503.0",
         "US$",
         "Trademap",
         "Ekspor Indonesia ke Negara Mitra",
         "49",
         "Printed books, newspapers, pictures and other products of the printing industry; manuscripts, . . ."
        ],
        [
         "48",
         "Panama",
         "2003",
         "0.0",
         "US$",
         "Trademap",
         "Ekspor Indonesia ke Negara Mitra",
         "57",
         "Carpets and other textile floor coverings"
        ],
        [
         "49",
         "Panama",
         "2003",
         "865.0",
         "US$",
         "Trademap",
         "Ekspor Indonesia ke Negara Mitra",
         "04",
         "Dairy produce; birds' eggs; natural honey; edible products of animal origin, not elsewhere . . ."
        ]
       ],
       "shape": {
        "columns": 8,
        "rows": 100788
       }
      },
      "text/html": [
       "<div>\n",
       "<style scoped>\n",
       "    .dataframe tbody tr th:only-of-type {\n",
       "        vertical-align: middle;\n",
       "    }\n",
       "\n",
       "    .dataframe tbody tr th {\n",
       "        vertical-align: top;\n",
       "    }\n",
       "\n",
       "    .dataframe thead th {\n",
       "        text-align: right;\n",
       "    }\n",
       "</style>\n",
       "<table border=\"1\" class=\"dataframe\">\n",
       "  <thead>\n",
       "    <tr style=\"text-align: right;\">\n",
       "      <th></th>\n",
       "      <th>Negara</th>\n",
       "      <th>Tahun</th>\n",
       "      <th>Jumlah</th>\n",
       "      <th>Satuan</th>\n",
       "      <th>NamaSumber</th>\n",
       "      <th>Indikator</th>\n",
       "      <th>Kode HS</th>\n",
       "      <th>Label</th>\n",
       "    </tr>\n",
       "  </thead>\n",
       "  <tbody>\n",
       "    <tr>\n",
       "      <th>0</th>\n",
       "      <td>Panama</td>\n",
       "      <td>2003</td>\n",
       "      <td>0.0</td>\n",
       "      <td>US$</td>\n",
       "      <td>Trademap</td>\n",
       "      <td>Ekspor Indonesia ke Negara Mitra</td>\n",
       "      <td>26</td>\n",
       "      <td>Ores, slag and ash</td>\n",
       "    </tr>\n",
       "    <tr>\n",
       "      <th>1</th>\n",
       "      <td>Panama</td>\n",
       "      <td>2003</td>\n",
       "      <td>14632.0</td>\n",
       "      <td>US$</td>\n",
       "      <td>Trademap</td>\n",
       "      <td>Ekspor Indonesia ke Negara Mitra</td>\n",
       "      <td>30</td>\n",
       "      <td>Pharmaceutical products</td>\n",
       "    </tr>\n",
       "    <tr>\n",
       "      <th>2</th>\n",
       "      <td>Panama</td>\n",
       "      <td>2003</td>\n",
       "      <td>2.0</td>\n",
       "      <td>US$</td>\n",
       "      <td>Trademap</td>\n",
       "      <td>Ekspor Indonesia ke Negara Mitra</td>\n",
       "      <td>85</td>\n",
       "      <td>Electrical machinery and equipment and parts t...</td>\n",
       "    </tr>\n",
       "    <tr>\n",
       "      <th>3</th>\n",
       "      <td>Panama</td>\n",
       "      <td>2003</td>\n",
       "      <td>818.0</td>\n",
       "      <td>US$</td>\n",
       "      <td>Trademap</td>\n",
       "      <td>Ekspor Indonesia ke Negara Mitra</td>\n",
       "      <td>84</td>\n",
       "      <td>Nuclear reactors, boilers, machinery and mecha...</td>\n",
       "    </tr>\n",
       "    <tr>\n",
       "      <th>4</th>\n",
       "      <td>Panama</td>\n",
       "      <td>2003</td>\n",
       "      <td>11.0</td>\n",
       "      <td>US$</td>\n",
       "      <td>Trademap</td>\n",
       "      <td>Ekspor Indonesia ke Negara Mitra</td>\n",
       "      <td>29</td>\n",
       "      <td>Organic chemicals</td>\n",
       "    </tr>\n",
       "    <tr>\n",
       "      <th>...</th>\n",
       "      <td>...</td>\n",
       "      <td>...</td>\n",
       "      <td>...</td>\n",
       "      <td>...</td>\n",
       "      <td>...</td>\n",
       "      <td>...</td>\n",
       "      <td>...</td>\n",
       "      <td>...</td>\n",
       "    </tr>\n",
       "    <tr>\n",
       "      <th>100783</th>\n",
       "      <td>Burkina Faso</td>\n",
       "      <td>2018</td>\n",
       "      <td>45.0</td>\n",
       "      <td>US$</td>\n",
       "      <td>Trademap</td>\n",
       "      <td>Impor Indonesia dari Negara Mitra</td>\n",
       "      <td>47</td>\n",
       "      <td>Pulp of wood or of other fibrous cellulosic ma...</td>\n",
       "    </tr>\n",
       "    <tr>\n",
       "      <th>100784</th>\n",
       "      <td>Burkina Faso</td>\n",
       "      <td>2018</td>\n",
       "      <td>32.0</td>\n",
       "      <td>US$</td>\n",
       "      <td>Trademap</td>\n",
       "      <td>Impor Indonesia dari Negara Mitra</td>\n",
       "      <td>81</td>\n",
       "      <td>Other base metals; cermets; articles thereof</td>\n",
       "    </tr>\n",
       "    <tr>\n",
       "      <th>100785</th>\n",
       "      <td>Burkina Faso</td>\n",
       "      <td>2018</td>\n",
       "      <td>6.0</td>\n",
       "      <td>US$</td>\n",
       "      <td>Trademap</td>\n",
       "      <td>Impor Indonesia dari Negara Mitra</td>\n",
       "      <td>75</td>\n",
       "      <td>Nickel and articles thereof</td>\n",
       "    </tr>\n",
       "    <tr>\n",
       "      <th>100786</th>\n",
       "      <td>Burkina Faso</td>\n",
       "      <td>2018</td>\n",
       "      <td>4.0</td>\n",
       "      <td>US$</td>\n",
       "      <td>Trademap</td>\n",
       "      <td>Impor Indonesia dari Negara Mitra</td>\n",
       "      <td>6</td>\n",
       "      <td>Live trees and other plants; bulbs, roots and ...</td>\n",
       "    </tr>\n",
       "    <tr>\n",
       "      <th>100787</th>\n",
       "      <td>Burkina Faso</td>\n",
       "      <td>2018</td>\n",
       "      <td>15.0</td>\n",
       "      <td>US$</td>\n",
       "      <td>Trademap</td>\n",
       "      <td>Impor Indonesia dari Negara Mitra</td>\n",
       "      <td>50</td>\n",
       "      <td>Silk</td>\n",
       "    </tr>\n",
       "  </tbody>\n",
       "</table>\n",
       "<p>100788 rows × 8 columns</p>\n",
       "</div>"
      ],
      "text/plain": [
       "              Negara  Tahun   Jumlah Satuan NamaSumber  \\\n",
       "0             Panama   2003      0.0    US$   Trademap   \n",
       "1             Panama   2003  14632.0    US$   Trademap   \n",
       "2             Panama   2003      2.0    US$   Trademap   \n",
       "3             Panama   2003    818.0    US$   Trademap   \n",
       "4             Panama   2003     11.0    US$   Trademap   \n",
       "...              ...    ...      ...    ...        ...   \n",
       "100783  Burkina Faso   2018     45.0    US$   Trademap   \n",
       "100784  Burkina Faso   2018     32.0    US$   Trademap   \n",
       "100785  Burkina Faso   2018      6.0    US$   Trademap   \n",
       "100786  Burkina Faso   2018      4.0    US$   Trademap   \n",
       "100787  Burkina Faso   2018     15.0    US$   Trademap   \n",
       "\n",
       "                                Indikator Kode HS  \\\n",
       "0        Ekspor Indonesia ke Negara Mitra      26   \n",
       "1        Ekspor Indonesia ke Negara Mitra      30   \n",
       "2        Ekspor Indonesia ke Negara Mitra      85   \n",
       "3        Ekspor Indonesia ke Negara Mitra      84   \n",
       "4        Ekspor Indonesia ke Negara Mitra      29   \n",
       "...                                   ...     ...   \n",
       "100783  Impor Indonesia dari Negara Mitra      47   \n",
       "100784  Impor Indonesia dari Negara Mitra      81   \n",
       "100785  Impor Indonesia dari Negara Mitra      75   \n",
       "100786  Impor Indonesia dari Negara Mitra       6   \n",
       "100787  Impor Indonesia dari Negara Mitra      50   \n",
       "\n",
       "                                                    Label  \n",
       "0                                      Ores, slag and ash  \n",
       "1                                 Pharmaceutical products  \n",
       "2       Electrical machinery and equipment and parts t...  \n",
       "3       Nuclear reactors, boilers, machinery and mecha...  \n",
       "4                                       Organic chemicals  \n",
       "...                                                   ...  \n",
       "100783  Pulp of wood or of other fibrous cellulosic ma...  \n",
       "100784       Other base metals; cermets; articles thereof  \n",
       "100785                        Nickel and articles thereof  \n",
       "100786  Live trees and other plants; bulbs, roots and ...  \n",
       "100787                                               Silk  \n",
       "\n",
       "[100788 rows x 8 columns]"
      ]
     },
     "execution_count": 2,
     "metadata": {},
     "output_type": "execute_result"
    }
   ],
   "source": [
    "df = pd.read_csv('output.csv')\n",
    "df"
   ]
  },
  {
   "cell_type": "code",
   "execution_count": 3,
   "id": "d05d2e3b",
   "metadata": {},
   "outputs": [
    {
     "data": {
      "application/vnd.microsoft.datawrangler.viewer.v0+json": {
       "columns": [
        {
         "name": "index",
         "rawType": "int64",
         "type": "integer"
        },
        {
         "name": "Kode HS",
         "rawType": "object",
         "type": "unknown"
        },
        {
         "name": "Label",
         "rawType": "object",
         "type": "string"
        }
       ],
       "ref": "a8c338fa-6715-4192-84d8-ad08e31c8dbe",
       "rows": [
        [
         "0",
         "26",
         "Ores, slag and ash"
        ],
        [
         "1",
         "30",
         "Pharmaceutical products"
        ],
        [
         "2",
         "85",
         "Electrical machinery and equipment and parts thereof; sound recorders and reproducers, television . . ."
        ],
        [
         "3",
         "84",
         "Nuclear reactors, boilers, machinery and mechanical appliances; parts thereof"
        ],
        [
         "4",
         "29",
         "Organic chemicals"
        ],
        [
         "5",
         "64",
         "Footwear, gaiters and the like; parts of such articles"
        ],
        [
         "6",
         "62",
         "Articles of apparel and clothing accessories, not knitted or crocheted"
        ],
        [
         "7",
         "33",
         "Essential oils and resinoids; perfumery, cosmetic or toilet preparations"
        ],
        [
         "8",
         "61",
         "Articles of apparel and clothing accessories, knitted or crocheted"
        ],
        [
         "9",
         "22",
         "Beverages, spirits and vinegar"
        ],
        [
         "10",
         "87",
         "Vehicles other than railway or tramway rolling stock, and parts and accessories thereof"
        ],
        [
         "11",
         "71",
         "Natural or cultured pearls, precious or semi-precious stones, precious metals, metals clad . . ."
        ],
        [
         "12",
         "39",
         "Plastics and articles thereof"
        ],
        [
         "13",
         "40",
         "Rubber and articles thereof"
        ],
        [
         "14",
         "95",
         "Toys, games and sports requisites; parts and accessories thereof"
        ],
        [
         "15",
         "08",
         "Edible fruit and nuts; peel of citrus fruit or melons"
        ],
        [
         "16",
         "42",
         "Articles of leather; saddlery and harness; travel goods, handbags and similar containers; articles . . ."
        ],
        [
         "17",
         "90",
         "Optical, photographic, cinematographic, measuring, checking, precision, medical or surgical . . ."
        ],
        [
         "18",
         "03",
         "Fish and crustaceans, molluscs and other aquatic invertebrates"
        ],
        [
         "19",
         "63",
         "Other made-up textile articles; sets; worn clothing and worn textile articles; rags"
        ],
        [
         "20",
         "54",
         "Man-made filaments; strip and the like of man-made textile materials"
        ],
        [
         "21",
         "94",
         "Furniture; bedding, mattresses, mattress supports, cushions and similar stuffed furnishings; . . ."
        ],
        [
         "22",
         "73",
         "Articles of iron or steel"
        ],
        [
         "23",
         "24",
         "Tobacco and manufactured tobacco substitutes; products, whether or not containing nicotine, . . ."
        ],
        [
         "24",
         "91",
         "Clocks and watches and parts thereof"
        ],
        [
         "25",
         "48",
         "Paper and paperboard; articles of paper pulp, of paper or of paperboard"
        ],
        [
         "26",
         "15",
         "Animal, vegetable or microbial fats and oils and their cleavage products; prepared edible fats; . . ."
        ],
        [
         "27",
         "44",
         "Wood and articles of wood; wood charcoal"
        ],
        [
         "28",
         "76",
         "Aluminium and articles thereof"
        ],
        [
         "29",
         "82",
         "Tools, implements, cutlery, spoons and forks, of base metal; parts thereof of base metal"
        ],
        [
         "30",
         "72",
         "Iron and steel"
        ],
        [
         "31",
         "23",
         "Residues and waste from the food industries; prepared animal fodder"
        ],
        [
         "32",
         "96",
         "Miscellaneous manufactured articles"
        ],
        [
         "33",
         "38",
         "Miscellaneous chemical products"
        ],
        [
         "34",
         "83",
         "Miscellaneous articles of base metal"
        ],
        [
         "35",
         "17",
         "Sugars and sugar confectionery"
        ],
        [
         "36",
         "34",
         "Soap, organic surface-active agents, washing preparations, lubricating preparations, artificial . . ."
        ],
        [
         "37",
         "02",
         "Meat and edible meat offal"
        ],
        [
         "38",
         "65",
         "Headgear and parts thereof"
        ],
        [
         "39",
         "32",
         "Tanning or dyeing extracts; tannins and their derivatives; dyes, pigments and other colouring . . ."
        ],
        [
         "40",
         "70",
         "Glass and glassware"
        ],
        [
         "41",
         "09",
         "Coffee, tea, maté and spices"
        ],
        [
         "42",
         "74",
         "Copper and articles thereof"
        ],
        [
         "43",
         "69",
         "Ceramic products"
        ],
        [
         "44",
         "21",
         "Miscellaneous edible preparations"
        ],
        [
         "45",
         "25",
         "Salt; sulphur; earths and stone; plastering materials, lime and cement"
        ],
        [
         "46",
         "92",
         "Musical instruments; parts and accessories of such articles"
        ],
        [
         "47",
         "49",
         "Printed books, newspapers, pictures and other products of the printing industry; manuscripts, . . ."
        ],
        [
         "48",
         "57",
         "Carpets and other textile floor coverings"
        ],
        [
         "49",
         "04",
         "Dairy produce; birds' eggs; natural honey; edible products of animal origin, not elsewhere . . ."
        ]
       ],
       "shape": {
        "columns": 2,
        "rows": 100788
       }
      },
      "text/html": [
       "<div>\n",
       "<style scoped>\n",
       "    .dataframe tbody tr th:only-of-type {\n",
       "        vertical-align: middle;\n",
       "    }\n",
       "\n",
       "    .dataframe tbody tr th {\n",
       "        vertical-align: top;\n",
       "    }\n",
       "\n",
       "    .dataframe thead th {\n",
       "        text-align: right;\n",
       "    }\n",
       "</style>\n",
       "<table border=\"1\" class=\"dataframe\">\n",
       "  <thead>\n",
       "    <tr style=\"text-align: right;\">\n",
       "      <th></th>\n",
       "      <th>Kode HS</th>\n",
       "      <th>Label</th>\n",
       "    </tr>\n",
       "  </thead>\n",
       "  <tbody>\n",
       "    <tr>\n",
       "      <th>0</th>\n",
       "      <td>26</td>\n",
       "      <td>Ores, slag and ash</td>\n",
       "    </tr>\n",
       "    <tr>\n",
       "      <th>1</th>\n",
       "      <td>30</td>\n",
       "      <td>Pharmaceutical products</td>\n",
       "    </tr>\n",
       "    <tr>\n",
       "      <th>2</th>\n",
       "      <td>85</td>\n",
       "      <td>Electrical machinery and equipment and parts t...</td>\n",
       "    </tr>\n",
       "    <tr>\n",
       "      <th>3</th>\n",
       "      <td>84</td>\n",
       "      <td>Nuclear reactors, boilers, machinery and mecha...</td>\n",
       "    </tr>\n",
       "    <tr>\n",
       "      <th>4</th>\n",
       "      <td>29</td>\n",
       "      <td>Organic chemicals</td>\n",
       "    </tr>\n",
       "    <tr>\n",
       "      <th>...</th>\n",
       "      <td>...</td>\n",
       "      <td>...</td>\n",
       "    </tr>\n",
       "    <tr>\n",
       "      <th>100783</th>\n",
       "      <td>47</td>\n",
       "      <td>Pulp of wood or of other fibrous cellulosic ma...</td>\n",
       "    </tr>\n",
       "    <tr>\n",
       "      <th>100784</th>\n",
       "      <td>81</td>\n",
       "      <td>Other base metals; cermets; articles thereof</td>\n",
       "    </tr>\n",
       "    <tr>\n",
       "      <th>100785</th>\n",
       "      <td>75</td>\n",
       "      <td>Nickel and articles thereof</td>\n",
       "    </tr>\n",
       "    <tr>\n",
       "      <th>100786</th>\n",
       "      <td>6</td>\n",
       "      <td>Live trees and other plants; bulbs, roots and ...</td>\n",
       "    </tr>\n",
       "    <tr>\n",
       "      <th>100787</th>\n",
       "      <td>50</td>\n",
       "      <td>Silk</td>\n",
       "    </tr>\n",
       "  </tbody>\n",
       "</table>\n",
       "<p>100788 rows × 2 columns</p>\n",
       "</div>"
      ],
      "text/plain": [
       "       Kode HS                                              Label\n",
       "0           26                                 Ores, slag and ash\n",
       "1           30                            Pharmaceutical products\n",
       "2           85  Electrical machinery and equipment and parts t...\n",
       "3           84  Nuclear reactors, boilers, machinery and mecha...\n",
       "4           29                                  Organic chemicals\n",
       "...        ...                                                ...\n",
       "100783      47  Pulp of wood or of other fibrous cellulosic ma...\n",
       "100784      81       Other base metals; cermets; articles thereof\n",
       "100785      75                        Nickel and articles thereof\n",
       "100786       6  Live trees and other plants; bulbs, roots and ...\n",
       "100787      50                                               Silk\n",
       "\n",
       "[100788 rows x 2 columns]"
      ]
     },
     "execution_count": 3,
     "metadata": {},
     "output_type": "execute_result"
    }
   ],
   "source": [
    "HS_ref_table = df[['Kode HS', 'Label']]\n",
    "HS_ref_table"
   ]
  },
  {
   "cell_type": "code",
   "execution_count": 4,
   "id": "c1c5f0e5",
   "metadata": {},
   "outputs": [
    {
     "data": {
      "application/vnd.microsoft.datawrangler.viewer.v0+json": {
       "columns": [
        {
         "name": "Kode HS",
         "rawType": "object",
         "type": "unknown"
        },
        {
         "name": "Label",
         "rawType": "int64",
         "type": "integer"
        }
       ],
       "ref": "87dbfd9a-b088-45ba-9e2e-bd23d72e57be",
       "rows": [
        [
         "1",
         "1"
        ],
        [
         "2",
         "1"
        ],
        [
         "3",
         "1"
        ],
        [
         "4",
         "1"
        ],
        [
         "5",
         "1"
        ],
        [
         "6",
         "1"
        ],
        [
         "7",
         "1"
        ],
        [
         "8",
         "1"
        ],
        [
         "9",
         "1"
        ],
        [
         "10",
         "1"
        ],
        [
         "11",
         "1"
        ],
        [
         "12",
         "1"
        ],
        [
         "13",
         "1"
        ],
        [
         "14",
         "1"
        ],
        [
         "15",
         "1"
        ],
        [
         "16",
         "1"
        ],
        [
         "17",
         "1"
        ],
        [
         "18",
         "1"
        ],
        [
         "19",
         "1"
        ],
        [
         "20",
         "1"
        ],
        [
         "21",
         "1"
        ],
        [
         "22",
         "1"
        ],
        [
         "23",
         "1"
        ],
        [
         "24",
         "1"
        ],
        [
         "25",
         "1"
        ],
        [
         "26",
         "1"
        ],
        [
         "27",
         "1"
        ],
        [
         "28",
         "1"
        ],
        [
         "29",
         "1"
        ],
        [
         "30",
         "1"
        ],
        [
         "31",
         "1"
        ],
        [
         "32",
         "1"
        ],
        [
         "33",
         "1"
        ],
        [
         "34",
         "1"
        ],
        [
         "35",
         "1"
        ],
        [
         "36",
         "1"
        ],
        [
         "37",
         "1"
        ],
        [
         "38",
         "1"
        ],
        [
         "39",
         "1"
        ],
        [
         "40",
         "1"
        ],
        [
         "41",
         "1"
        ],
        [
         "42",
         "1"
        ],
        [
         "43",
         "1"
        ],
        [
         "44",
         "1"
        ],
        [
         "45",
         "1"
        ],
        [
         "46",
         "1"
        ],
        [
         "47",
         "1"
        ],
        [
         "48",
         "1"
        ],
        [
         "49",
         "1"
        ],
        [
         "50",
         "1"
        ]
       ],
       "shape": {
        "columns": 1,
        "rows": 205
       }
      },
      "text/plain": [
       "Kode HS\n",
       "1       1\n",
       "2       1\n",
       "3       1\n",
       "4       1\n",
       "5       1\n",
       "       ..\n",
       "96      1\n",
       "97      1\n",
       "99      1\n",
       "To      1\n",
       "Tota    1\n",
       "Name: Label, Length: 205, dtype: int64"
      ]
     },
     "execution_count": 4,
     "metadata": {},
     "output_type": "execute_result"
    }
   ],
   "source": [
    "hs_check = df.groupby('Kode HS')['Label'].nunique()\n",
    "hs_check"
   ]
  },
  {
   "cell_type": "code",
   "execution_count": 5,
   "id": "34a80081",
   "metadata": {},
   "outputs": [
    {
     "name": "stdout",
     "output_type": "stream",
     "text": [
      "[1 2]\n"
     ]
    }
   ],
   "source": [
    "print(hs_check.unique())"
   ]
  },
  {
   "cell_type": "code",
   "execution_count": 6,
   "id": "74c8b2b6",
   "metadata": {},
   "outputs": [
    {
     "data": {
      "application/vnd.microsoft.datawrangler.viewer.v0+json": {
       "columns": [
        {
         "name": "index",
         "rawType": "int64",
         "type": "integer"
        },
        {
         "name": "Kode HS",
         "rawType": "object",
         "type": "string"
        },
        {
         "name": "Label",
         "rawType": "object",
         "type": "string"
        }
       ],
       "ref": "93c146d4-68e3-4043-887c-cb0d1c71848f",
       "rows": [
        [
         "0",
         "04",
         "Dairy produce; birds' eggs; natural honey; edible products of animal origin, not elsewhere ..."
        ],
        [
         "1",
         "04",
         "Dairy produce; birds' eggs; natural honey; edible products of animal origin, not elsewhere . . ."
        ],
        [
         "2",
         "12",
         "Oil seeds and oleaginous fruits; miscellaneous grains, seeds and fruit; industrial or medicinal . . ."
        ],
        [
         "3",
         "12",
         "Oil seeds and oleaginous fruits; miscellaneous grains, seeds and fruit; industrial or medicinal ..."
        ],
        [
         "4",
         "15",
         "Animal, vegetable or microbial fats and oils and their cleavage products; prepared edible fats; ..."
        ],
        [
         "5",
         "15",
         "Animal, vegetable or microbial fats and oils and their cleavage products; prepared edible fats; . . ."
        ],
        [
         "6",
         "16",
         "Preparations of meat, of fish, of crustaceans, molluscs or other aquatic invertebrates, or ..."
        ],
        [
         "7",
         "16",
         "Preparations of meat, of fish, of crustaceans, molluscs or other aquatic invertebrates, or . . ."
        ],
        [
         "8",
         "24",
         "Tobacco and manufactured tobacco substitutes; products, whether or not containing nicotine, ..."
        ],
        [
         "9",
         "24",
         "Tobacco and manufactured tobacco substitutes; products, whether or not containing nicotine, . . ."
        ],
        [
         "10",
         "27",
         "Mineral fuels, mineral oils and products of their distillation; bituminous substances; mineral . . ."
        ],
        [
         "11",
         "27",
         "Mineral fuels, mineral oils and products of their distillation; bituminous substances; mineral ..."
        ],
        [
         "12",
         "28",
         "Inorganic chemicals; organic or inorganic compounds of precious metals, of rare-earth metals, ..."
        ],
        [
         "13",
         "28",
         "Inorganic chemicals; organic or inorganic compounds of precious metals, of rare-earth metals, . . ."
        ],
        [
         "14",
         "32",
         "Tanning or dyeing extracts; tannins and their derivatives; dyes, pigments and other colouring ..."
        ],
        [
         "15",
         "32",
         "Tanning or dyeing extracts; tannins and their derivatives; dyes, pigments and other colouring . . ."
        ],
        [
         "16",
         "34",
         "Soap, organic surface-active agents, washing preparations, lubricating preparations, artificial . . ."
        ],
        [
         "17",
         "34",
         "Soap, organic surface-active agents, washing preparations, lubricating preparations, artificial ..."
        ],
        [
         "18",
         "4",
         "Dairy produce; birds' eggs; natural honey; edible products of animal origin, not elsewhere . . ."
        ],
        [
         "19",
         "4",
         "Dairy produce; birds' eggs; natural honey; edible products of animal origin, not elsewhere ..."
        ],
        [
         "20",
         "42",
         "Articles of leather; saddlery and harness; travel goods, handbags and similar containers; articles . . ."
        ],
        [
         "21",
         "42",
         "Articles of leather; saddlery and harness; travel goods, handbags and similar containers; articles ..."
        ],
        [
         "22",
         "47",
         "Pulp of wood or of other fibrous cellulosic material; recovered (waste and scrap) paper or . . ."
        ],
        [
         "23",
         "47",
         "Pulp of wood or of other fibrous cellulosic material; recovered (waste and scrap) paper or ..."
        ],
        [
         "24",
         "49",
         "Printed books, newspapers, pictures and other products of the printing industry; manuscripts, . . ."
        ],
        [
         "25",
         "49",
         "Printed books, newspapers, pictures and other products of the printing industry; manuscripts, ..."
        ],
        [
         "26",
         "59",
         "Impregnated, coated, covered or laminated textile fabrics; textile articles of a kind suitable . . ."
        ],
        [
         "27",
         "59",
         "Impregnated, coated, covered or laminated textile fabrics; textile articles of a kind suitable ..."
        ],
        [
         "28",
         "67",
         "Prepared feathers and down and articles made of feathers or of down; artificial flowers; articles . . ."
        ],
        [
         "29",
         "67",
         "Prepared feathers and down and articles made of feathers or of down; artificial flowers; articles ..."
        ],
        [
         "30",
         "71",
         "Natural or cultured pearls, precious or semi-precious stones, precious metals, metals clad ..."
        ],
        [
         "31",
         "71",
         "Natural or cultured pearls, precious or semi-precious stones, precious metals, metals clad . . ."
        ],
        [
         "32",
         "85",
         "Electrical machinery and equipment and parts thereof; sound recorders and reproducers, television . . ."
        ],
        [
         "33",
         "85",
         "Electrical machinery and equipment and parts thereof; sound recorders and reproducers, television ..."
        ],
        [
         "34",
         "86",
         "Railway or tramway locomotives, rolling stock and parts thereof; railway or tramway track fixtures . . ."
        ],
        [
         "35",
         "86",
         "Railway or tramway locomotives, rolling stock and parts thereof; railway or tramway track fixtures ..."
        ],
        [
         "36",
         "90",
         "Optical, photographic, cinematographic, measuring, checking, precision, medical or surgical ..."
        ],
        [
         "37",
         "90",
         "Optical, photographic, cinematographic, measuring, checking, precision, medical or surgical . . ."
        ],
        [
         "38",
         "94",
         "Furniture; bedding, mattresses, mattress supports, cushions and similar stuffed furnishings; . . ."
        ],
        [
         "39",
         "94",
         "Furniture; bedding, mattresses, mattress supports, cushions and similar stuffed furnishings; ..."
        ]
       ],
       "shape": {
        "columns": 2,
        "rows": 40
       }
      },
      "text/html": [
       "<div>\n",
       "<style scoped>\n",
       "    .dataframe tbody tr th:only-of-type {\n",
       "        vertical-align: middle;\n",
       "    }\n",
       "\n",
       "    .dataframe tbody tr th {\n",
       "        vertical-align: top;\n",
       "    }\n",
       "\n",
       "    .dataframe thead th {\n",
       "        text-align: right;\n",
       "    }\n",
       "</style>\n",
       "<table border=\"1\" class=\"dataframe\">\n",
       "  <thead>\n",
       "    <tr style=\"text-align: right;\">\n",
       "      <th></th>\n",
       "      <th>Kode HS</th>\n",
       "      <th>Label</th>\n",
       "    </tr>\n",
       "  </thead>\n",
       "  <tbody>\n",
       "    <tr>\n",
       "      <th>0</th>\n",
       "      <td>04</td>\n",
       "      <td>Dairy produce; birds' eggs; natural honey; edi...</td>\n",
       "    </tr>\n",
       "    <tr>\n",
       "      <th>1</th>\n",
       "      <td>04</td>\n",
       "      <td>Dairy produce; birds' eggs; natural honey; edi...</td>\n",
       "    </tr>\n",
       "    <tr>\n",
       "      <th>2</th>\n",
       "      <td>12</td>\n",
       "      <td>Oil seeds and oleaginous fruits; miscellaneous...</td>\n",
       "    </tr>\n",
       "    <tr>\n",
       "      <th>3</th>\n",
       "      <td>12</td>\n",
       "      <td>Oil seeds and oleaginous fruits; miscellaneous...</td>\n",
       "    </tr>\n",
       "    <tr>\n",
       "      <th>4</th>\n",
       "      <td>15</td>\n",
       "      <td>Animal, vegetable or microbial fats and oils a...</td>\n",
       "    </tr>\n",
       "    <tr>\n",
       "      <th>5</th>\n",
       "      <td>15</td>\n",
       "      <td>Animal, vegetable or microbial fats and oils a...</td>\n",
       "    </tr>\n",
       "    <tr>\n",
       "      <th>6</th>\n",
       "      <td>16</td>\n",
       "      <td>Preparations of meat, of fish, of crustaceans,...</td>\n",
       "    </tr>\n",
       "    <tr>\n",
       "      <th>7</th>\n",
       "      <td>16</td>\n",
       "      <td>Preparations of meat, of fish, of crustaceans,...</td>\n",
       "    </tr>\n",
       "    <tr>\n",
       "      <th>8</th>\n",
       "      <td>24</td>\n",
       "      <td>Tobacco and manufactured tobacco substitutes; ...</td>\n",
       "    </tr>\n",
       "    <tr>\n",
       "      <th>9</th>\n",
       "      <td>24</td>\n",
       "      <td>Tobacco and manufactured tobacco substitutes; ...</td>\n",
       "    </tr>\n",
       "    <tr>\n",
       "      <th>10</th>\n",
       "      <td>27</td>\n",
       "      <td>Mineral fuels, mineral oils and products of th...</td>\n",
       "    </tr>\n",
       "    <tr>\n",
       "      <th>11</th>\n",
       "      <td>27</td>\n",
       "      <td>Mineral fuels, mineral oils and products of th...</td>\n",
       "    </tr>\n",
       "    <tr>\n",
       "      <th>12</th>\n",
       "      <td>28</td>\n",
       "      <td>Inorganic chemicals; organic or inorganic comp...</td>\n",
       "    </tr>\n",
       "    <tr>\n",
       "      <th>13</th>\n",
       "      <td>28</td>\n",
       "      <td>Inorganic chemicals; organic or inorganic comp...</td>\n",
       "    </tr>\n",
       "    <tr>\n",
       "      <th>14</th>\n",
       "      <td>32</td>\n",
       "      <td>Tanning or dyeing extracts; tannins and their ...</td>\n",
       "    </tr>\n",
       "    <tr>\n",
       "      <th>15</th>\n",
       "      <td>32</td>\n",
       "      <td>Tanning or dyeing extracts; tannins and their ...</td>\n",
       "    </tr>\n",
       "    <tr>\n",
       "      <th>16</th>\n",
       "      <td>34</td>\n",
       "      <td>Soap, organic surface-active agents, washing p...</td>\n",
       "    </tr>\n",
       "    <tr>\n",
       "      <th>17</th>\n",
       "      <td>34</td>\n",
       "      <td>Soap, organic surface-active agents, washing p...</td>\n",
       "    </tr>\n",
       "    <tr>\n",
       "      <th>18</th>\n",
       "      <td>4</td>\n",
       "      <td>Dairy produce; birds' eggs; natural honey; edi...</td>\n",
       "    </tr>\n",
       "    <tr>\n",
       "      <th>19</th>\n",
       "      <td>4</td>\n",
       "      <td>Dairy produce; birds' eggs; natural honey; edi...</td>\n",
       "    </tr>\n",
       "    <tr>\n",
       "      <th>20</th>\n",
       "      <td>42</td>\n",
       "      <td>Articles of leather; saddlery and harness; tra...</td>\n",
       "    </tr>\n",
       "    <tr>\n",
       "      <th>21</th>\n",
       "      <td>42</td>\n",
       "      <td>Articles of leather; saddlery and harness; tra...</td>\n",
       "    </tr>\n",
       "    <tr>\n",
       "      <th>22</th>\n",
       "      <td>47</td>\n",
       "      <td>Pulp of wood or of other fibrous cellulosic ma...</td>\n",
       "    </tr>\n",
       "    <tr>\n",
       "      <th>23</th>\n",
       "      <td>47</td>\n",
       "      <td>Pulp of wood or of other fibrous cellulosic ma...</td>\n",
       "    </tr>\n",
       "    <tr>\n",
       "      <th>24</th>\n",
       "      <td>49</td>\n",
       "      <td>Printed books, newspapers, pictures and other ...</td>\n",
       "    </tr>\n",
       "    <tr>\n",
       "      <th>25</th>\n",
       "      <td>49</td>\n",
       "      <td>Printed books, newspapers, pictures and other ...</td>\n",
       "    </tr>\n",
       "    <tr>\n",
       "      <th>26</th>\n",
       "      <td>59</td>\n",
       "      <td>Impregnated, coated, covered or laminated text...</td>\n",
       "    </tr>\n",
       "    <tr>\n",
       "      <th>27</th>\n",
       "      <td>59</td>\n",
       "      <td>Impregnated, coated, covered or laminated text...</td>\n",
       "    </tr>\n",
       "    <tr>\n",
       "      <th>28</th>\n",
       "      <td>67</td>\n",
       "      <td>Prepared feathers and down and articles made o...</td>\n",
       "    </tr>\n",
       "    <tr>\n",
       "      <th>29</th>\n",
       "      <td>67</td>\n",
       "      <td>Prepared feathers and down and articles made o...</td>\n",
       "    </tr>\n",
       "    <tr>\n",
       "      <th>30</th>\n",
       "      <td>71</td>\n",
       "      <td>Natural or cultured pearls, precious or semi-p...</td>\n",
       "    </tr>\n",
       "    <tr>\n",
       "      <th>31</th>\n",
       "      <td>71</td>\n",
       "      <td>Natural or cultured pearls, precious or semi-p...</td>\n",
       "    </tr>\n",
       "    <tr>\n",
       "      <th>32</th>\n",
       "      <td>85</td>\n",
       "      <td>Electrical machinery and equipment and parts t...</td>\n",
       "    </tr>\n",
       "    <tr>\n",
       "      <th>33</th>\n",
       "      <td>85</td>\n",
       "      <td>Electrical machinery and equipment and parts t...</td>\n",
       "    </tr>\n",
       "    <tr>\n",
       "      <th>34</th>\n",
       "      <td>86</td>\n",
       "      <td>Railway or tramway locomotives, rolling stock ...</td>\n",
       "    </tr>\n",
       "    <tr>\n",
       "      <th>35</th>\n",
       "      <td>86</td>\n",
       "      <td>Railway or tramway locomotives, rolling stock ...</td>\n",
       "    </tr>\n",
       "    <tr>\n",
       "      <th>36</th>\n",
       "      <td>90</td>\n",
       "      <td>Optical, photographic, cinematographic, measur...</td>\n",
       "    </tr>\n",
       "    <tr>\n",
       "      <th>37</th>\n",
       "      <td>90</td>\n",
       "      <td>Optical, photographic, cinematographic, measur...</td>\n",
       "    </tr>\n",
       "    <tr>\n",
       "      <th>38</th>\n",
       "      <td>94</td>\n",
       "      <td>Furniture; bedding, mattresses, mattress suppo...</td>\n",
       "    </tr>\n",
       "    <tr>\n",
       "      <th>39</th>\n",
       "      <td>94</td>\n",
       "      <td>Furniture; bedding, mattresses, mattress suppo...</td>\n",
       "    </tr>\n",
       "  </tbody>\n",
       "</table>\n",
       "</div>"
      ],
      "text/plain": [
       "   Kode HS                                              Label\n",
       "0       04  Dairy produce; birds' eggs; natural honey; edi...\n",
       "1       04  Dairy produce; birds' eggs; natural honey; edi...\n",
       "2       12  Oil seeds and oleaginous fruits; miscellaneous...\n",
       "3       12  Oil seeds and oleaginous fruits; miscellaneous...\n",
       "4       15  Animal, vegetable or microbial fats and oils a...\n",
       "5       15  Animal, vegetable or microbial fats and oils a...\n",
       "6       16  Preparations of meat, of fish, of crustaceans,...\n",
       "7       16  Preparations of meat, of fish, of crustaceans,...\n",
       "8       24  Tobacco and manufactured tobacco substitutes; ...\n",
       "9       24  Tobacco and manufactured tobacco substitutes; ...\n",
       "10      27  Mineral fuels, mineral oils and products of th...\n",
       "11      27  Mineral fuels, mineral oils and products of th...\n",
       "12      28  Inorganic chemicals; organic or inorganic comp...\n",
       "13      28  Inorganic chemicals; organic or inorganic comp...\n",
       "14      32  Tanning or dyeing extracts; tannins and their ...\n",
       "15      32  Tanning or dyeing extracts; tannins and their ...\n",
       "16      34  Soap, organic surface-active agents, washing p...\n",
       "17      34  Soap, organic surface-active agents, washing p...\n",
       "18       4  Dairy produce; birds' eggs; natural honey; edi...\n",
       "19       4  Dairy produce; birds' eggs; natural honey; edi...\n",
       "20      42  Articles of leather; saddlery and harness; tra...\n",
       "21      42  Articles of leather; saddlery and harness; tra...\n",
       "22      47  Pulp of wood or of other fibrous cellulosic ma...\n",
       "23      47  Pulp of wood or of other fibrous cellulosic ma...\n",
       "24      49  Printed books, newspapers, pictures and other ...\n",
       "25      49  Printed books, newspapers, pictures and other ...\n",
       "26      59  Impregnated, coated, covered or laminated text...\n",
       "27      59  Impregnated, coated, covered or laminated text...\n",
       "28      67  Prepared feathers and down and articles made o...\n",
       "29      67  Prepared feathers and down and articles made o...\n",
       "30      71  Natural or cultured pearls, precious or semi-p...\n",
       "31      71  Natural or cultured pearls, precious or semi-p...\n",
       "32      85  Electrical machinery and equipment and parts t...\n",
       "33      85  Electrical machinery and equipment and parts t...\n",
       "34      86  Railway or tramway locomotives, rolling stock ...\n",
       "35      86  Railway or tramway locomotives, rolling stock ...\n",
       "36      90  Optical, photographic, cinematographic, measur...\n",
       "37      90  Optical, photographic, cinematographic, measur...\n",
       "38      94  Furniture; bedding, mattresses, mattress suppo...\n",
       "39      94  Furniture; bedding, mattresses, mattress suppo..."
      ]
     },
     "execution_count": 6,
     "metadata": {},
     "output_type": "execute_result"
    }
   ],
   "source": [
    "hs_dupe_codes = hs_check[hs_check >1].index\n",
    "HS_ref_nodupe = HS_ref_table.drop_duplicates()\n",
    "hs_dupe_list = HS_ref_nodupe[HS_ref_nodupe['Kode HS'].isin(hs_dupe_codes)]\n",
    "\n",
    "hs_dupe_list = hs_dupe_list.sort_values(by='Kode HS').reset_index(drop=True)\n",
    "hs_dupe_list"
   ]
  },
  {
   "cell_type": "code",
   "execution_count": 7,
   "id": "35d0e15e",
   "metadata": {},
   "outputs": [
    {
     "name": "stdout",
     "output_type": "stream",
     "text": [
      "\"Dairy produce; birds' eggs; natural honey; edible products of animal origin, not elsewhere ...\"\n",
      "\"Dairy produce; birds' eggs; natural honey; edible products of animal origin, not elsewhere . . .\"\n"
     ]
    }
   ],
   "source": [
    "print(f\"\\\"{hs_dupe_list['Label'][0]}\\\"\")\n",
    "print(f\"\\\"{hs_dupe_list['Label'][1]}\\\"\")"
   ]
  },
  {
   "cell_type": "code",
   "execution_count": null,
   "id": "252c020c",
   "metadata": {},
   "outputs": [],
   "source": [
    "# First  entry is U+0020 space then '...'\n",
    "# Second entry is U+00A0 space (nbsp) then '. . .'"
   ]
  },
  {
   "cell_type": "code",
   "execution_count": null,
   "id": "34e2dacc",
   "metadata": {},
   "outputs": [],
   "source": [
    "# regex replace ' . . .' with ' ...' in df label\n",
    "df['Label'] = df['Label'].str.replace(r'\\u00A0\\.\\s\\.\\s\\.', ' ...', regex=True)"
   ]
  },
  {
   "cell_type": "code",
   "execution_count": 10,
   "id": "22acbef5",
   "metadata": {},
   "outputs": [
    {
     "name": "stdout",
     "output_type": "stream",
     "text": [
      "[1]\n"
     ]
    }
   ],
   "source": [
    "print(df.groupby('Kode HS')['Label'].nunique().unique())\n",
    "# [1] -> fixed label"
   ]
  },
  {
   "cell_type": "code",
   "execution_count": 11,
   "id": "236dd781",
   "metadata": {},
   "outputs": [
    {
     "data": {
      "text/plain": [
       "array(['26', '30', '85', '84', '29', '64', '62', '33', '61', '22', '87',\n",
       "       '71', '39', '40', '95', '08', '42', '90', '03', '63', '54', '94',\n",
       "       '73', '24', '91', '48', '15', '44', '76', '82', '72', '23', '96',\n",
       "       '38', '83', '17', '34', '02', '65', '32', '70', '09', '74', '69',\n",
       "       '21', '25', '92', '49', '57', '04', '27', '67', '16', '37', '18',\n",
       "       '20', '19', '66', '68', '12', '56', '89', '35', '28', '31', '78',\n",
       "       '05', '41', '07', '58', '59', '47', '52', '55', '99', '81', '11',\n",
       "       '36', '86', '79', '13', '97', '88', '46', '45', '01', '10', '06',\n",
       "       '53', '75', '51', '93', '43', '60', '50', '80', '14', 'To', '4',\n",
       "       '2', '8', '7', '3', '9', '6', '1', '5', 'Tota', 7, 44, 40, 22, 15,\n",
       "       69, 34, 20, 24, 32, 70, 29, 64, 68, 81, 83, 17, 42, 16, 96, 18, 3,\n",
       "       9, 95, 63, 99, 23, 82, 57, 1, 88, 49, 52, 11, 47, 12, 35, 6, 56,\n",
       "       89, 59, 13, 55, 86, 54, 65, 79, 31, 58, 97, 75, 67, 36, 37, 60, 46,\n",
       "       92, 50, 80, 66, 53, 45, 14, 93, 51, 41, 78, 43, 5, 26, 84, 28, 85,\n",
       "       87, 71, 27, 39, 4, 30, 73, 2, 72, 76, 90, 8, 94, 33, 25, 21, 38,\n",
       "       19, 91, 74, 61, 48, 10, 62], dtype=object)"
      ]
     },
     "execution_count": 11,
     "metadata": {},
     "output_type": "execute_result"
    }
   ],
   "source": [
    "df['Kode HS'].unique()"
   ]
  },
  {
   "cell_type": "code",
   "execution_count": 12,
   "id": "d52dd082",
   "metadata": {},
   "outputs": [
    {
     "data": {
      "application/vnd.microsoft.datawrangler.viewer.v0+json": {
       "columns": [
        {
         "name": "index",
         "rawType": "int64",
         "type": "integer"
        },
        {
         "name": "Negara",
         "rawType": "object",
         "type": "string"
        },
        {
         "name": "Tahun",
         "rawType": "int64",
         "type": "integer"
        },
        {
         "name": "Jumlah",
         "rawType": "float64",
         "type": "float"
        },
        {
         "name": "Satuan",
         "rawType": "object",
         "type": "string"
        },
        {
         "name": "NamaSumber",
         "rawType": "object",
         "type": "string"
        },
        {
         "name": "Indikator",
         "rawType": "object",
         "type": "string"
        },
        {
         "name": "Kode HS",
         "rawType": "object",
         "type": "string"
        },
        {
         "name": "Label",
         "rawType": "object",
         "type": "string"
        }
       ],
       "ref": "292cd240-6fb0-42f5-ae23-4ebd146f28d3",
       "rows": [
        [
         "35351",
         "Panama",
         "2004",
         "3590297.0",
         "US$",
         "Trademap",
         "Impor Indonesia dari Negara Mitra",
         "Tota",
         "All products"
        ],
        [
         "35449",
         "Panama",
         "2005",
         "4152486.0",
         "US$",
         "Trademap",
         "Impor Indonesia dari Negara Mitra",
         "Tota",
         "All products"
        ],
        [
         "35547",
         "Panama",
         "2006",
         "10774926.0",
         "US$",
         "Trademap",
         "Impor Indonesia dari Negara Mitra",
         "Tota",
         "All products"
        ],
        [
         "35645",
         "Panama",
         "2007",
         "13268935.0",
         "US$",
         "Trademap",
         "Impor Indonesia dari Negara Mitra",
         "Tota",
         "All products"
        ],
        [
         "35743",
         "Panama",
         "2008",
         "15736509.0",
         "US$",
         "Trademap",
         "Impor Indonesia dari Negara Mitra",
         "Tota",
         "All products"
        ]
       ],
       "shape": {
        "columns": 8,
        "rows": 5
       }
      },
      "text/html": [
       "<div>\n",
       "<style scoped>\n",
       "    .dataframe tbody tr th:only-of-type {\n",
       "        vertical-align: middle;\n",
       "    }\n",
       "\n",
       "    .dataframe tbody tr th {\n",
       "        vertical-align: top;\n",
       "    }\n",
       "\n",
       "    .dataframe thead th {\n",
       "        text-align: right;\n",
       "    }\n",
       "</style>\n",
       "<table border=\"1\" class=\"dataframe\">\n",
       "  <thead>\n",
       "    <tr style=\"text-align: right;\">\n",
       "      <th></th>\n",
       "      <th>Negara</th>\n",
       "      <th>Tahun</th>\n",
       "      <th>Jumlah</th>\n",
       "      <th>Satuan</th>\n",
       "      <th>NamaSumber</th>\n",
       "      <th>Indikator</th>\n",
       "      <th>Kode HS</th>\n",
       "      <th>Label</th>\n",
       "    </tr>\n",
       "  </thead>\n",
       "  <tbody>\n",
       "    <tr>\n",
       "      <th>35351</th>\n",
       "      <td>Panama</td>\n",
       "      <td>2004</td>\n",
       "      <td>3590297.0</td>\n",
       "      <td>US$</td>\n",
       "      <td>Trademap</td>\n",
       "      <td>Impor Indonesia dari Negara Mitra</td>\n",
       "      <td>Tota</td>\n",
       "      <td>All products</td>\n",
       "    </tr>\n",
       "    <tr>\n",
       "      <th>35449</th>\n",
       "      <td>Panama</td>\n",
       "      <td>2005</td>\n",
       "      <td>4152486.0</td>\n",
       "      <td>US$</td>\n",
       "      <td>Trademap</td>\n",
       "      <td>Impor Indonesia dari Negara Mitra</td>\n",
       "      <td>Tota</td>\n",
       "      <td>All products</td>\n",
       "    </tr>\n",
       "    <tr>\n",
       "      <th>35547</th>\n",
       "      <td>Panama</td>\n",
       "      <td>2006</td>\n",
       "      <td>10774926.0</td>\n",
       "      <td>US$</td>\n",
       "      <td>Trademap</td>\n",
       "      <td>Impor Indonesia dari Negara Mitra</td>\n",
       "      <td>Tota</td>\n",
       "      <td>All products</td>\n",
       "    </tr>\n",
       "    <tr>\n",
       "      <th>35645</th>\n",
       "      <td>Panama</td>\n",
       "      <td>2007</td>\n",
       "      <td>13268935.0</td>\n",
       "      <td>US$</td>\n",
       "      <td>Trademap</td>\n",
       "      <td>Impor Indonesia dari Negara Mitra</td>\n",
       "      <td>Tota</td>\n",
       "      <td>All products</td>\n",
       "    </tr>\n",
       "    <tr>\n",
       "      <th>35743</th>\n",
       "      <td>Panama</td>\n",
       "      <td>2008</td>\n",
       "      <td>15736509.0</td>\n",
       "      <td>US$</td>\n",
       "      <td>Trademap</td>\n",
       "      <td>Impor Indonesia dari Negara Mitra</td>\n",
       "      <td>Tota</td>\n",
       "      <td>All products</td>\n",
       "    </tr>\n",
       "  </tbody>\n",
       "</table>\n",
       "</div>"
      ],
      "text/plain": [
       "       Negara  Tahun      Jumlah Satuan NamaSumber  \\\n",
       "35351  Panama   2004   3590297.0    US$   Trademap   \n",
       "35449  Panama   2005   4152486.0    US$   Trademap   \n",
       "35547  Panama   2006  10774926.0    US$   Trademap   \n",
       "35645  Panama   2007  13268935.0    US$   Trademap   \n",
       "35743  Panama   2008  15736509.0    US$   Trademap   \n",
       "\n",
       "                               Indikator Kode HS         Label  \n",
       "35351  Impor Indonesia dari Negara Mitra    Tota  All products  \n",
       "35449  Impor Indonesia dari Negara Mitra    Tota  All products  \n",
       "35547  Impor Indonesia dari Negara Mitra    Tota  All products  \n",
       "35645  Impor Indonesia dari Negara Mitra    Tota  All products  \n",
       "35743  Impor Indonesia dari Negara Mitra    Tota  All products  "
      ]
     },
     "execution_count": 12,
     "metadata": {},
     "output_type": "execute_result"
    }
   ],
   "source": [
    "df[df['Kode HS'] == 'Tota'].head()"
   ]
  },
  {
   "cell_type": "code",
   "execution_count": 13,
   "id": "2be99685",
   "metadata": {},
   "outputs": [
    {
     "data": {
      "application/vnd.microsoft.datawrangler.viewer.v0+json": {
       "columns": [
        {
         "name": "index",
         "rawType": "int64",
         "type": "integer"
        },
        {
         "name": "Negara",
         "rawType": "object",
         "type": "string"
        },
        {
         "name": "Tahun",
         "rawType": "int64",
         "type": "integer"
        },
        {
         "name": "Jumlah",
         "rawType": "float64",
         "type": "float"
        },
        {
         "name": "Satuan",
         "rawType": "object",
         "type": "string"
        },
        {
         "name": "NamaSumber",
         "rawType": "object",
         "type": "string"
        },
        {
         "name": "Indikator",
         "rawType": "object",
         "type": "string"
        },
        {
         "name": "Kode HS",
         "rawType": "object",
         "type": "string"
        },
        {
         "name": "Label",
         "rawType": "object",
         "type": "string"
        }
       ],
       "ref": "21e07994-bca1-42bf-9cba-988cd9d617ad",
       "rows": [
        [
         "97",
         "Panama",
         "2004",
         "891105.0",
         "US$",
         "Trademap",
         "Ekspor Indonesia ke Negara Mitra",
         "To",
         "All products"
        ],
        [
         "195",
         "Panama",
         "2005",
         "963216.0",
         "US$",
         "Trademap",
         "Ekspor Indonesia ke Negara Mitra",
         "To",
         "All products"
        ],
        [
         "293",
         "Panama",
         "2006",
         "8033926.0",
         "US$",
         "Trademap",
         "Ekspor Indonesia ke Negara Mitra",
         "To",
         "All products"
        ],
        [
         "391",
         "Panama",
         "2007",
         "8820595.0",
         "US$",
         "Trademap",
         "Ekspor Indonesia ke Negara Mitra",
         "To",
         "All products"
        ],
        [
         "489",
         "Panama",
         "2008",
         "9816620.0",
         "US$",
         "Trademap",
         "Ekspor Indonesia ke Negara Mitra",
         "To",
         "All products"
        ]
       ],
       "shape": {
        "columns": 8,
        "rows": 5
       }
      },
      "text/html": [
       "<div>\n",
       "<style scoped>\n",
       "    .dataframe tbody tr th:only-of-type {\n",
       "        vertical-align: middle;\n",
       "    }\n",
       "\n",
       "    .dataframe tbody tr th {\n",
       "        vertical-align: top;\n",
       "    }\n",
       "\n",
       "    .dataframe thead th {\n",
       "        text-align: right;\n",
       "    }\n",
       "</style>\n",
       "<table border=\"1\" class=\"dataframe\">\n",
       "  <thead>\n",
       "    <tr style=\"text-align: right;\">\n",
       "      <th></th>\n",
       "      <th>Negara</th>\n",
       "      <th>Tahun</th>\n",
       "      <th>Jumlah</th>\n",
       "      <th>Satuan</th>\n",
       "      <th>NamaSumber</th>\n",
       "      <th>Indikator</th>\n",
       "      <th>Kode HS</th>\n",
       "      <th>Label</th>\n",
       "    </tr>\n",
       "  </thead>\n",
       "  <tbody>\n",
       "    <tr>\n",
       "      <th>97</th>\n",
       "      <td>Panama</td>\n",
       "      <td>2004</td>\n",
       "      <td>891105.0</td>\n",
       "      <td>US$</td>\n",
       "      <td>Trademap</td>\n",
       "      <td>Ekspor Indonesia ke Negara Mitra</td>\n",
       "      <td>To</td>\n",
       "      <td>All products</td>\n",
       "    </tr>\n",
       "    <tr>\n",
       "      <th>195</th>\n",
       "      <td>Panama</td>\n",
       "      <td>2005</td>\n",
       "      <td>963216.0</td>\n",
       "      <td>US$</td>\n",
       "      <td>Trademap</td>\n",
       "      <td>Ekspor Indonesia ke Negara Mitra</td>\n",
       "      <td>To</td>\n",
       "      <td>All products</td>\n",
       "    </tr>\n",
       "    <tr>\n",
       "      <th>293</th>\n",
       "      <td>Panama</td>\n",
       "      <td>2006</td>\n",
       "      <td>8033926.0</td>\n",
       "      <td>US$</td>\n",
       "      <td>Trademap</td>\n",
       "      <td>Ekspor Indonesia ke Negara Mitra</td>\n",
       "      <td>To</td>\n",
       "      <td>All products</td>\n",
       "    </tr>\n",
       "    <tr>\n",
       "      <th>391</th>\n",
       "      <td>Panama</td>\n",
       "      <td>2007</td>\n",
       "      <td>8820595.0</td>\n",
       "      <td>US$</td>\n",
       "      <td>Trademap</td>\n",
       "      <td>Ekspor Indonesia ke Negara Mitra</td>\n",
       "      <td>To</td>\n",
       "      <td>All products</td>\n",
       "    </tr>\n",
       "    <tr>\n",
       "      <th>489</th>\n",
       "      <td>Panama</td>\n",
       "      <td>2008</td>\n",
       "      <td>9816620.0</td>\n",
       "      <td>US$</td>\n",
       "      <td>Trademap</td>\n",
       "      <td>Ekspor Indonesia ke Negara Mitra</td>\n",
       "      <td>To</td>\n",
       "      <td>All products</td>\n",
       "    </tr>\n",
       "  </tbody>\n",
       "</table>\n",
       "</div>"
      ],
      "text/plain": [
       "     Negara  Tahun     Jumlah Satuan NamaSumber  \\\n",
       "97   Panama   2004   891105.0    US$   Trademap   \n",
       "195  Panama   2005   963216.0    US$   Trademap   \n",
       "293  Panama   2006  8033926.0    US$   Trademap   \n",
       "391  Panama   2007  8820595.0    US$   Trademap   \n",
       "489  Panama   2008  9816620.0    US$   Trademap   \n",
       "\n",
       "                            Indikator Kode HS         Label  \n",
       "97   Ekspor Indonesia ke Negara Mitra      To  All products  \n",
       "195  Ekspor Indonesia ke Negara Mitra      To  All products  \n",
       "293  Ekspor Indonesia ke Negara Mitra      To  All products  \n",
       "391  Ekspor Indonesia ke Negara Mitra      To  All products  \n",
       "489  Ekspor Indonesia ke Negara Mitra      To  All products  "
      ]
     },
     "execution_count": 13,
     "metadata": {},
     "output_type": "execute_result"
    }
   ],
   "source": [
    "df[df['Kode HS'] == 'To'].head()"
   ]
  },
  {
   "cell_type": "code",
   "execution_count": 14,
   "id": "e6b33045",
   "metadata": {},
   "outputs": [],
   "source": [
    "# Replace 'Tota' with 'To' in 'Kode HS' to placeholder 999\n",
    "df['Kode HS'] = df['Kode HS'].replace({'Tota': 999})\n",
    "df['Kode HS'] = df['Kode HS'].replace({'To': 999})"
   ]
  },
  {
   "cell_type": "code",
   "execution_count": 15,
   "id": "c5ece8ff",
   "metadata": {},
   "outputs": [
    {
     "data": {
      "application/vnd.microsoft.datawrangler.viewer.v0+json": {
       "columns": [
        {
         "name": "index",
         "rawType": "int64",
         "type": "integer"
        },
        {
         "name": "Kode HS",
         "rawType": "int64",
         "type": "integer"
        },
        {
         "name": "Label",
         "rawType": "object",
         "type": "string"
        }
       ],
       "ref": "5900afed-f679-45e9-bb62-16896cd574bc",
       "rows": [
        [
         "0",
         "1",
         "Live animals"
        ],
        [
         "1",
         "2",
         "Meat and edible meat offal"
        ],
        [
         "2",
         "3",
         "Fish and crustaceans, molluscs and other aquatic invertebrates"
        ],
        [
         "3",
         "4",
         "Dairy produce; birds' eggs; natural honey; edible products of animal origin, not elsewhere ..."
        ],
        [
         "4",
         "5",
         "Products of animal origin, not elsewhere specified or included"
        ],
        [
         "5",
         "6",
         "Live trees and other plants; bulbs, roots and the like; cut flowers and ornamental foliage"
        ],
        [
         "6",
         "7",
         "Edible vegetables and certain roots and tubers"
        ],
        [
         "7",
         "8",
         "Edible fruit and nuts; peel of citrus fruit or melons"
        ],
        [
         "8",
         "9",
         "Coffee, tea, maté and spices"
        ],
        [
         "9",
         "10",
         "Cereals"
        ],
        [
         "10",
         "11",
         "Products of the milling industry; malt; starches; inulin; wheat gluten"
        ],
        [
         "11",
         "12",
         "Oil seeds and oleaginous fruits; miscellaneous grains, seeds and fruit; industrial or medicinal ..."
        ],
        [
         "12",
         "13",
         "Lac; gums, resins and other vegetable saps and extracts"
        ],
        [
         "13",
         "14",
         "Vegetable plaiting materials; vegetable products not elsewhere specified or included"
        ],
        [
         "14",
         "15",
         "Animal, vegetable or microbial fats and oils and their cleavage products; prepared edible fats; ..."
        ],
        [
         "15",
         "16",
         "Preparations of meat, of fish, of crustaceans, molluscs or other aquatic invertebrates, or ..."
        ],
        [
         "16",
         "17",
         "Sugars and sugar confectionery"
        ],
        [
         "17",
         "18",
         "Cocoa and cocoa preparations"
        ],
        [
         "18",
         "19",
         "Preparations of cereals, flour, starch or milk; pastrycooks' products"
        ],
        [
         "19",
         "20",
         "Preparations of vegetables, fruit, nuts or other parts of plants"
        ],
        [
         "20",
         "21",
         "Miscellaneous edible preparations"
        ],
        [
         "21",
         "22",
         "Beverages, spirits and vinegar"
        ],
        [
         "22",
         "23",
         "Residues and waste from the food industries; prepared animal fodder"
        ],
        [
         "23",
         "24",
         "Tobacco and manufactured tobacco substitutes; products, whether or not containing nicotine, ..."
        ],
        [
         "24",
         "25",
         "Salt; sulphur; earths and stone; plastering materials, lime and cement"
        ],
        [
         "25",
         "26",
         "Ores, slag and ash"
        ],
        [
         "26",
         "27",
         "Mineral fuels, mineral oils and products of their distillation; bituminous substances; mineral ..."
        ],
        [
         "27",
         "28",
         "Inorganic chemicals; organic or inorganic compounds of precious metals, of rare-earth metals, ..."
        ],
        [
         "28",
         "29",
         "Organic chemicals"
        ],
        [
         "29",
         "30",
         "Pharmaceutical products"
        ],
        [
         "30",
         "31",
         "Fertilisers"
        ],
        [
         "31",
         "32",
         "Tanning or dyeing extracts; tannins and their derivatives; dyes, pigments and other colouring ..."
        ],
        [
         "32",
         "33",
         "Essential oils and resinoids; perfumery, cosmetic or toilet preparations"
        ],
        [
         "33",
         "34",
         "Soap, organic surface-active agents, washing preparations, lubricating preparations, artificial ..."
        ],
        [
         "34",
         "35",
         "Albuminoidal substances; modified starches; glues; enzymes"
        ],
        [
         "35",
         "36",
         "Explosives; pyrotechnic products; matches; pyrophoric alloys; certain combustible preparations"
        ],
        [
         "36",
         "37",
         "Photographic or cinematographic goods"
        ],
        [
         "37",
         "38",
         "Miscellaneous chemical products"
        ],
        [
         "38",
         "39",
         "Plastics and articles thereof"
        ],
        [
         "39",
         "40",
         "Rubber and articles thereof"
        ],
        [
         "40",
         "41",
         "Raw hides and skins (other than furskins) and leather"
        ],
        [
         "41",
         "42",
         "Articles of leather; saddlery and harness; travel goods, handbags and similar containers; articles ..."
        ],
        [
         "42",
         "43",
         "Furskins and artificial fur; manufactures thereof"
        ],
        [
         "43",
         "44",
         "Wood and articles of wood; wood charcoal"
        ],
        [
         "44",
         "45",
         "Cork and articles of cork"
        ],
        [
         "45",
         "46",
         "Manufactures of straw, of esparto or of other plaiting materials; basketware and wickerwork"
        ],
        [
         "46",
         "47",
         "Pulp of wood or of other fibrous cellulosic material; recovered (waste and scrap) paper or ..."
        ],
        [
         "47",
         "48",
         "Paper and paperboard; articles of paper pulp, of paper or of paperboard"
        ],
        [
         "48",
         "49",
         "Printed books, newspapers, pictures and other products of the printing industry; manuscripts, ..."
        ],
        [
         "49",
         "50",
         "Silk"
        ]
       ],
       "shape": {
        "columns": 2,
        "rows": 98
       }
      },
      "text/html": [
       "<div>\n",
       "<style scoped>\n",
       "    .dataframe tbody tr th:only-of-type {\n",
       "        vertical-align: middle;\n",
       "    }\n",
       "\n",
       "    .dataframe tbody tr th {\n",
       "        vertical-align: top;\n",
       "    }\n",
       "\n",
       "    .dataframe thead th {\n",
       "        text-align: right;\n",
       "    }\n",
       "</style>\n",
       "<table border=\"1\" class=\"dataframe\">\n",
       "  <thead>\n",
       "    <tr style=\"text-align: right;\">\n",
       "      <th></th>\n",
       "      <th>Kode HS</th>\n",
       "      <th>Label</th>\n",
       "    </tr>\n",
       "  </thead>\n",
       "  <tbody>\n",
       "    <tr>\n",
       "      <th>0</th>\n",
       "      <td>1</td>\n",
       "      <td>Live animals</td>\n",
       "    </tr>\n",
       "    <tr>\n",
       "      <th>1</th>\n",
       "      <td>2</td>\n",
       "      <td>Meat and edible meat offal</td>\n",
       "    </tr>\n",
       "    <tr>\n",
       "      <th>2</th>\n",
       "      <td>3</td>\n",
       "      <td>Fish and crustaceans, molluscs and other aquat...</td>\n",
       "    </tr>\n",
       "    <tr>\n",
       "      <th>3</th>\n",
       "      <td>4</td>\n",
       "      <td>Dairy produce; birds' eggs; natural honey; edi...</td>\n",
       "    </tr>\n",
       "    <tr>\n",
       "      <th>4</th>\n",
       "      <td>5</td>\n",
       "      <td>Products of animal origin, not elsewhere speci...</td>\n",
       "    </tr>\n",
       "    <tr>\n",
       "      <th>...</th>\n",
       "      <td>...</td>\n",
       "      <td>...</td>\n",
       "    </tr>\n",
       "    <tr>\n",
       "      <th>93</th>\n",
       "      <td>95</td>\n",
       "      <td>Toys, games and sports requisites; parts and a...</td>\n",
       "    </tr>\n",
       "    <tr>\n",
       "      <th>94</th>\n",
       "      <td>96</td>\n",
       "      <td>Miscellaneous manufactured articles</td>\n",
       "    </tr>\n",
       "    <tr>\n",
       "      <th>95</th>\n",
       "      <td>97</td>\n",
       "      <td>Works of art, collectors' pieces and antiques</td>\n",
       "    </tr>\n",
       "    <tr>\n",
       "      <th>96</th>\n",
       "      <td>99</td>\n",
       "      <td>Commodities not elsewhere specified</td>\n",
       "    </tr>\n",
       "    <tr>\n",
       "      <th>97</th>\n",
       "      <td>999</td>\n",
       "      <td>All products</td>\n",
       "    </tr>\n",
       "  </tbody>\n",
       "</table>\n",
       "<p>98 rows × 2 columns</p>\n",
       "</div>"
      ],
      "text/plain": [
       "    Kode HS                                              Label\n",
       "0         1                                       Live animals\n",
       "1         2                         Meat and edible meat offal\n",
       "2         3  Fish and crustaceans, molluscs and other aquat...\n",
       "3         4  Dairy produce; birds' eggs; natural honey; edi...\n",
       "4         5  Products of animal origin, not elsewhere speci...\n",
       "..      ...                                                ...\n",
       "93       95  Toys, games and sports requisites; parts and a...\n",
       "94       96                Miscellaneous manufactured articles\n",
       "95       97      Works of art, collectors' pieces and antiques\n",
       "96       99                Commodities not elsewhere specified\n",
       "97      999                                       All products\n",
       "\n",
       "[98 rows x 2 columns]"
      ]
     },
     "execution_count": 15,
     "metadata": {},
     "output_type": "execute_result"
    }
   ],
   "source": [
    "# Ensure 'Kode HS' column is of string type to avoid type comparison issues\n",
    "df['Kode HS'] = df['Kode HS'].astype(int)\n",
    "\n",
    "fixed_HS_ref_table = df[['Kode HS', 'Label']].drop_duplicates().sort_values(by='Kode HS').reset_index(drop=True)\n",
    "fixed_HS_ref_table\n",
    "# Missing HS code > 77 & 98"
   ]
  },
  {
   "cell_type": "markdown",
   "id": "e214aef6",
   "metadata": {},
   "source": [
    "# Cleaning"
   ]
  },
  {
   "cell_type": "code",
   "execution_count": 16,
   "id": "3ec57983",
   "metadata": {},
   "outputs": [
    {
     "name": "stdout",
     "output_type": "stream",
     "text": [
      "Negara           0\n",
      "Tahun            0\n",
      "Jumlah        6725\n",
      "Satuan           0\n",
      "NamaSumber       0\n",
      "Indikator        0\n",
      "Kode HS          0\n",
      "Label            0\n",
      "dtype: int64\n"
     ]
    }
   ],
   "source": [
    "# Total missing per column\n",
    "print(df.isnull().sum())"
   ]
  },
  {
   "cell_type": "code",
   "execution_count": 17,
   "id": "1dfd6bdc",
   "metadata": {},
   "outputs": [
    {
     "name": "stdout",
     "output_type": "stream",
     "text": [
      "Total count: 5773\n"
     ]
    }
   ],
   "source": [
    "# Check jumlah\n",
    "print(\"Total count:\", len(df[df['Jumlah'] == 0]))"
   ]
  },
  {
   "cell_type": "code",
   "execution_count": 18,
   "id": "266c569f",
   "metadata": {},
   "outputs": [
    {
     "data": {
      "application/vnd.microsoft.datawrangler.viewer.v0+json": {
       "columns": [
        {
         "name": "index",
         "rawType": "int64",
         "type": "integer"
        },
        {
         "name": "Negara",
         "rawType": "object",
         "type": "string"
        },
        {
         "name": "Tahun",
         "rawType": "int64",
         "type": "integer"
        },
        {
         "name": "Jumlah",
         "rawType": "float64",
         "type": "float"
        },
        {
         "name": "Satuan",
         "rawType": "object",
         "type": "string"
        },
        {
         "name": "NamaSumber",
         "rawType": "object",
         "type": "string"
        },
        {
         "name": "Indikator",
         "rawType": "object",
         "type": "string"
        },
        {
         "name": "Kode HS",
         "rawType": "int64",
         "type": "integer"
        },
        {
         "name": "Label",
         "rawType": "object",
         "type": "string"
        }
       ],
       "ref": "1d7bc496-8ada-41c9-b2d0-b0935c5bd9a5",
       "rows": [
        [
         "0",
         "Panama",
         "2003",
         "0.0",
         "US$",
         "Trademap",
         "Ekspor Indonesia ke Negara Mitra",
         "26",
         "Ores, slag and ash"
        ],
        [
         "17",
         "Panama",
         "2003",
         "0.0",
         "US$",
         "Trademap",
         "Ekspor Indonesia ke Negara Mitra",
         "90",
         "Optical, photographic, cinematographic, measuring, checking, precision, medical or surgical ..."
        ],
        [
         "24",
         "Panama",
         "2003",
         "0.0",
         "US$",
         "Trademap",
         "Ekspor Indonesia ke Negara Mitra",
         "91",
         "Clocks and watches and parts thereof"
        ],
        [
         "29",
         "Panama",
         "2003",
         "0.0",
         "US$",
         "Trademap",
         "Ekspor Indonesia ke Negara Mitra",
         "82",
         "Tools, implements, cutlery, spoons and forks, of base metal; parts thereof of base metal"
        ],
        [
         "46",
         "Panama",
         "2003",
         "0.0",
         "US$",
         "Trademap",
         "Ekspor Indonesia ke Negara Mitra",
         "92",
         "Musical instruments; parts and accessories of such articles"
        ],
        [
         "48",
         "Panama",
         "2003",
         "0.0",
         "US$",
         "Trademap",
         "Ekspor Indonesia ke Negara Mitra",
         "57",
         "Carpets and other textile floor coverings"
        ],
        [
         "51",
         "Panama",
         "2003",
         "0.0",
         "US$",
         "Trademap",
         "Ekspor Indonesia ke Negara Mitra",
         "67",
         "Prepared feathers and down and articles made of feathers or of down; artificial flowers; articles ..."
        ],
        [
         "57",
         "Panama",
         "2003",
         "0.0",
         "US$",
         "Trademap",
         "Ekspor Indonesia ke Negara Mitra",
         "66",
         "Umbrellas, sun umbrellas, walking sticks, seat-sticks, whips, riding-crops and parts thereof"
        ],
        [
         "60",
         "Panama",
         "2003",
         "0.0",
         "US$",
         "Trademap",
         "Ekspor Indonesia ke Negara Mitra",
         "56",
         "Wadding, felt and nonwovens; special yarns; twine, cordage, ropes and cables and articles thereof"
        ],
        [
         "61",
         "Panama",
         "2003",
         "0.0",
         "US$",
         "Trademap",
         "Ekspor Indonesia ke Negara Mitra",
         "89",
         "Ships, boats and floating structures"
        ],
        [
         "64",
         "Panama",
         "2003",
         "0.0",
         "US$",
         "Trademap",
         "Ekspor Indonesia ke Negara Mitra",
         "31",
         "Fertilisers"
        ],
        [
         "69",
         "Panama",
         "2003",
         "0.0",
         "US$",
         "Trademap",
         "Ekspor Indonesia ke Negara Mitra",
         "58",
         "Special woven fabrics; tufted textile fabrics; lace; tapestries; trimmings; embroidery"
        ],
        [
         "70",
         "Panama",
         "2003",
         "0.0",
         "US$",
         "Trademap",
         "Ekspor Indonesia ke Negara Mitra",
         "59",
         "Impregnated, coated, covered or laminated textile fabrics; textile articles of a kind suitable ..."
        ],
        [
         "72",
         "Panama",
         "2003",
         "0.0",
         "US$",
         "Trademap",
         "Ekspor Indonesia ke Negara Mitra",
         "52",
         "Cotton"
        ],
        [
         "73",
         "Panama",
         "2003",
         "0.0",
         "US$",
         "Trademap",
         "Ekspor Indonesia ke Negara Mitra",
         "55",
         "Man-made staple fibres"
        ],
        [
         "74",
         "Panama",
         "2003",
         "0.0",
         "US$",
         "Trademap",
         "Ekspor Indonesia ke Negara Mitra",
         "99",
         "Commodities not elsewhere specified"
        ],
        [
         "75",
         "Panama",
         "2003",
         "0.0",
         "US$",
         "Trademap",
         "Ekspor Indonesia ke Negara Mitra",
         "81",
         "Other base metals; cermets; articles thereof"
        ],
        [
         "78",
         "Panama",
         "2003",
         "0.0",
         "US$",
         "Trademap",
         "Ekspor Indonesia ke Negara Mitra",
         "86",
         "Railway or tramway locomotives, rolling stock and parts thereof; railway or tramway track fixtures ..."
        ],
        [
         "79",
         "Panama",
         "2003",
         "0.0",
         "US$",
         "Trademap",
         "Ekspor Indonesia ke Negara Mitra",
         "79",
         "Zinc and articles thereof"
        ],
        [
         "82",
         "Panama",
         "2003",
         "0.0",
         "US$",
         "Trademap",
         "Ekspor Indonesia ke Negara Mitra",
         "88",
         "Aircraft, spacecraft, and parts thereof"
        ],
        [
         "84",
         "Panama",
         "2003",
         "0.0",
         "US$",
         "Trademap",
         "Ekspor Indonesia ke Negara Mitra",
         "45",
         "Cork and articles of cork"
        ],
        [
         "86",
         "Panama",
         "2003",
         "0.0",
         "US$",
         "Trademap",
         "Ekspor Indonesia ke Negara Mitra",
         "10",
         "Cereals"
        ],
        [
         "89",
         "Panama",
         "2003",
         "0.0",
         "US$",
         "Trademap",
         "Ekspor Indonesia ke Negara Mitra",
         "75",
         "Nickel and articles thereof"
        ],
        [
         "90",
         "Panama",
         "2003",
         "0.0",
         "US$",
         "Trademap",
         "Ekspor Indonesia ke Negara Mitra",
         "51",
         "Wool, fine or coarse animal hair; horsehair yarn and woven fabric"
        ],
        [
         "91",
         "Panama",
         "2003",
         "0.0",
         "US$",
         "Trademap",
         "Ekspor Indonesia ke Negara Mitra",
         "93",
         "Arms and ammunition; parts and accessories thereof"
        ],
        [
         "92",
         "Panama",
         "2003",
         "0.0",
         "US$",
         "Trademap",
         "Ekspor Indonesia ke Negara Mitra",
         "43",
         "Furskins and artificial fur; manufactures thereof"
        ],
        [
         "93",
         "Panama",
         "2003",
         "0.0",
         "US$",
         "Trademap",
         "Ekspor Indonesia ke Negara Mitra",
         "60",
         "Knitted or crocheted fabrics"
        ],
        [
         "94",
         "Panama",
         "2003",
         "0.0",
         "US$",
         "Trademap",
         "Ekspor Indonesia ke Negara Mitra",
         "50",
         "Silk"
        ],
        [
         "95",
         "Panama",
         "2003",
         "0.0",
         "US$",
         "Trademap",
         "Ekspor Indonesia ke Negara Mitra",
         "80",
         "Tin and articles thereof"
        ],
        [
         "96",
         "Panama",
         "2003",
         "0.0",
         "US$",
         "Trademap",
         "Ekspor Indonesia ke Negara Mitra",
         "14",
         "Vegetable plaiting materials; vegetable products not elsewhere specified or included"
        ],
        [
         "98",
         "Panama",
         "2004",
         "0.0",
         "US$",
         "Trademap",
         "Ekspor Indonesia ke Negara Mitra",
         "26",
         "Ores, slag and ash"
        ],
        [
         "115",
         "Panama",
         "2004",
         "0.0",
         "US$",
         "Trademap",
         "Ekspor Indonesia ke Negara Mitra",
         "90",
         "Optical, photographic, cinematographic, measuring, checking, precision, medical or surgical ..."
        ],
        [
         "118",
         "Panama",
         "2004",
         "0.0",
         "US$",
         "Trademap",
         "Ekspor Indonesia ke Negara Mitra",
         "54",
         "Man-made filaments; strip and the like of man-made textile materials"
        ],
        [
         "122",
         "Panama",
         "2004",
         "0.0",
         "US$",
         "Trademap",
         "Ekspor Indonesia ke Negara Mitra",
         "91",
         "Clocks and watches and parts thereof"
        ],
        [
         "127",
         "Panama",
         "2004",
         "0.0",
         "US$",
         "Trademap",
         "Ekspor Indonesia ke Negara Mitra",
         "82",
         "Tools, implements, cutlery, spoons and forks, of base metal; parts thereof of base metal"
        ],
        [
         "144",
         "Panama",
         "2004",
         "0.0",
         "US$",
         "Trademap",
         "Ekspor Indonesia ke Negara Mitra",
         "92",
         "Musical instruments; parts and accessories of such articles"
        ],
        [
         "146",
         "Panama",
         "2004",
         "0.0",
         "US$",
         "Trademap",
         "Ekspor Indonesia ke Negara Mitra",
         "57",
         "Carpets and other textile floor coverings"
        ],
        [
         "149",
         "Panama",
         "2004",
         "0.0",
         "US$",
         "Trademap",
         "Ekspor Indonesia ke Negara Mitra",
         "67",
         "Prepared feathers and down and articles made of feathers or of down; artificial flowers; articles ..."
        ],
        [
         "155",
         "Panama",
         "2004",
         "0.0",
         "US$",
         "Trademap",
         "Ekspor Indonesia ke Negara Mitra",
         "66",
         "Umbrellas, sun umbrellas, walking sticks, seat-sticks, whips, riding-crops and parts thereof"
        ],
        [
         "158",
         "Panama",
         "2004",
         "0.0",
         "US$",
         "Trademap",
         "Ekspor Indonesia ke Negara Mitra",
         "56",
         "Wadding, felt and nonwovens; special yarns; twine, cordage, ropes and cables and articles thereof"
        ],
        [
         "162",
         "Panama",
         "2004",
         "0.0",
         "US$",
         "Trademap",
         "Ekspor Indonesia ke Negara Mitra",
         "31",
         "Fertilisers"
        ],
        [
         "167",
         "Panama",
         "2004",
         "0.0",
         "US$",
         "Trademap",
         "Ekspor Indonesia ke Negara Mitra",
         "58",
         "Special woven fabrics; tufted textile fabrics; lace; tapestries; trimmings; embroidery"
        ],
        [
         "168",
         "Panama",
         "2004",
         "0.0",
         "US$",
         "Trademap",
         "Ekspor Indonesia ke Negara Mitra",
         "59",
         "Impregnated, coated, covered or laminated textile fabrics; textile articles of a kind suitable ..."
        ],
        [
         "170",
         "Panama",
         "2004",
         "0.0",
         "US$",
         "Trademap",
         "Ekspor Indonesia ke Negara Mitra",
         "52",
         "Cotton"
        ],
        [
         "171",
         "Panama",
         "2004",
         "0.0",
         "US$",
         "Trademap",
         "Ekspor Indonesia ke Negara Mitra",
         "55",
         "Man-made staple fibres"
        ],
        [
         "172",
         "Panama",
         "2004",
         "0.0",
         "US$",
         "Trademap",
         "Ekspor Indonesia ke Negara Mitra",
         "99",
         "Commodities not elsewhere specified"
        ],
        [
         "173",
         "Panama",
         "2004",
         "0.0",
         "US$",
         "Trademap",
         "Ekspor Indonesia ke Negara Mitra",
         "81",
         "Other base metals; cermets; articles thereof"
        ],
        [
         "177",
         "Panama",
         "2004",
         "0.0",
         "US$",
         "Trademap",
         "Ekspor Indonesia ke Negara Mitra",
         "79",
         "Zinc and articles thereof"
        ],
        [
         "179",
         "Panama",
         "2004",
         "0.0",
         "US$",
         "Trademap",
         "Ekspor Indonesia ke Negara Mitra",
         "97",
         "Works of art, collectors' pieces and antiques"
        ],
        [
         "180",
         "Panama",
         "2004",
         "0.0",
         "US$",
         "Trademap",
         "Ekspor Indonesia ke Negara Mitra",
         "88",
         "Aircraft, spacecraft, and parts thereof"
        ]
       ],
       "shape": {
        "columns": 8,
        "rows": 5773
       }
      },
      "text/html": [
       "<div>\n",
       "<style scoped>\n",
       "    .dataframe tbody tr th:only-of-type {\n",
       "        vertical-align: middle;\n",
       "    }\n",
       "\n",
       "    .dataframe tbody tr th {\n",
       "        vertical-align: top;\n",
       "    }\n",
       "\n",
       "    .dataframe thead th {\n",
       "        text-align: right;\n",
       "    }\n",
       "</style>\n",
       "<table border=\"1\" class=\"dataframe\">\n",
       "  <thead>\n",
       "    <tr style=\"text-align: right;\">\n",
       "      <th></th>\n",
       "      <th>Negara</th>\n",
       "      <th>Tahun</th>\n",
       "      <th>Jumlah</th>\n",
       "      <th>Satuan</th>\n",
       "      <th>NamaSumber</th>\n",
       "      <th>Indikator</th>\n",
       "      <th>Kode HS</th>\n",
       "      <th>Label</th>\n",
       "    </tr>\n",
       "  </thead>\n",
       "  <tbody>\n",
       "    <tr>\n",
       "      <th>0</th>\n",
       "      <td>Panama</td>\n",
       "      <td>2003</td>\n",
       "      <td>0.0</td>\n",
       "      <td>US$</td>\n",
       "      <td>Trademap</td>\n",
       "      <td>Ekspor Indonesia ke Negara Mitra</td>\n",
       "      <td>26</td>\n",
       "      <td>Ores, slag and ash</td>\n",
       "    </tr>\n",
       "    <tr>\n",
       "      <th>17</th>\n",
       "      <td>Panama</td>\n",
       "      <td>2003</td>\n",
       "      <td>0.0</td>\n",
       "      <td>US$</td>\n",
       "      <td>Trademap</td>\n",
       "      <td>Ekspor Indonesia ke Negara Mitra</td>\n",
       "      <td>90</td>\n",
       "      <td>Optical, photographic, cinematographic, measur...</td>\n",
       "    </tr>\n",
       "    <tr>\n",
       "      <th>24</th>\n",
       "      <td>Panama</td>\n",
       "      <td>2003</td>\n",
       "      <td>0.0</td>\n",
       "      <td>US$</td>\n",
       "      <td>Trademap</td>\n",
       "      <td>Ekspor Indonesia ke Negara Mitra</td>\n",
       "      <td>91</td>\n",
       "      <td>Clocks and watches and parts thereof</td>\n",
       "    </tr>\n",
       "    <tr>\n",
       "      <th>29</th>\n",
       "      <td>Panama</td>\n",
       "      <td>2003</td>\n",
       "      <td>0.0</td>\n",
       "      <td>US$</td>\n",
       "      <td>Trademap</td>\n",
       "      <td>Ekspor Indonesia ke Negara Mitra</td>\n",
       "      <td>82</td>\n",
       "      <td>Tools, implements, cutlery, spoons and forks, ...</td>\n",
       "    </tr>\n",
       "    <tr>\n",
       "      <th>46</th>\n",
       "      <td>Panama</td>\n",
       "      <td>2003</td>\n",
       "      <td>0.0</td>\n",
       "      <td>US$</td>\n",
       "      <td>Trademap</td>\n",
       "      <td>Ekspor Indonesia ke Negara Mitra</td>\n",
       "      <td>92</td>\n",
       "      <td>Musical instruments; parts and accessories of ...</td>\n",
       "    </tr>\n",
       "    <tr>\n",
       "      <th>...</th>\n",
       "      <td>...</td>\n",
       "      <td>...</td>\n",
       "      <td>...</td>\n",
       "      <td>...</td>\n",
       "      <td>...</td>\n",
       "      <td>...</td>\n",
       "      <td>...</td>\n",
       "      <td>...</td>\n",
       "    </tr>\n",
       "    <tr>\n",
       "      <th>100498</th>\n",
       "      <td>Burkina Faso</td>\n",
       "      <td>2015</td>\n",
       "      <td>0.0</td>\n",
       "      <td>US$</td>\n",
       "      <td>Trademap</td>\n",
       "      <td>Impor Indonesia dari Negara Mitra</td>\n",
       "      <td>6</td>\n",
       "      <td>Live trees and other plants; bulbs, roots and ...</td>\n",
       "    </tr>\n",
       "    <tr>\n",
       "      <th>100502</th>\n",
       "      <td>Burkina Faso</td>\n",
       "      <td>2015</td>\n",
       "      <td>0.0</td>\n",
       "      <td>US$</td>\n",
       "      <td>Trademap</td>\n",
       "      <td>Impor Indonesia dari Negara Mitra</td>\n",
       "      <td>41</td>\n",
       "      <td>Raw hides and skins (other than furskins) and ...</td>\n",
       "    </tr>\n",
       "    <tr>\n",
       "      <th>100593</th>\n",
       "      <td>Burkina Faso</td>\n",
       "      <td>2016</td>\n",
       "      <td>0.0</td>\n",
       "      <td>US$</td>\n",
       "      <td>Trademap</td>\n",
       "      <td>Impor Indonesia dari Negara Mitra</td>\n",
       "      <td>75</td>\n",
       "      <td>Nickel and articles thereof</td>\n",
       "    </tr>\n",
       "    <tr>\n",
       "      <th>100599</th>\n",
       "      <td>Burkina Faso</td>\n",
       "      <td>2016</td>\n",
       "      <td>0.0</td>\n",
       "      <td>US$</td>\n",
       "      <td>Trademap</td>\n",
       "      <td>Impor Indonesia dari Negara Mitra</td>\n",
       "      <td>80</td>\n",
       "      <td>Tin and articles thereof</td>\n",
       "    </tr>\n",
       "    <tr>\n",
       "      <th>100694</th>\n",
       "      <td>Burkina Faso</td>\n",
       "      <td>2017</td>\n",
       "      <td>0.0</td>\n",
       "      <td>US$</td>\n",
       "      <td>Trademap</td>\n",
       "      <td>Impor Indonesia dari Negara Mitra</td>\n",
       "      <td>41</td>\n",
       "      <td>Raw hides and skins (other than furskins) and ...</td>\n",
       "    </tr>\n",
       "  </tbody>\n",
       "</table>\n",
       "<p>5773 rows × 8 columns</p>\n",
       "</div>"
      ],
      "text/plain": [
       "              Negara  Tahun  Jumlah Satuan NamaSumber  \\\n",
       "0             Panama   2003     0.0    US$   Trademap   \n",
       "17            Panama   2003     0.0    US$   Trademap   \n",
       "24            Panama   2003     0.0    US$   Trademap   \n",
       "29            Panama   2003     0.0    US$   Trademap   \n",
       "46            Panama   2003     0.0    US$   Trademap   \n",
       "...              ...    ...     ...    ...        ...   \n",
       "100498  Burkina Faso   2015     0.0    US$   Trademap   \n",
       "100502  Burkina Faso   2015     0.0    US$   Trademap   \n",
       "100593  Burkina Faso   2016     0.0    US$   Trademap   \n",
       "100599  Burkina Faso   2016     0.0    US$   Trademap   \n",
       "100694  Burkina Faso   2017     0.0    US$   Trademap   \n",
       "\n",
       "                                Indikator  Kode HS  \\\n",
       "0        Ekspor Indonesia ke Negara Mitra       26   \n",
       "17       Ekspor Indonesia ke Negara Mitra       90   \n",
       "24       Ekspor Indonesia ke Negara Mitra       91   \n",
       "29       Ekspor Indonesia ke Negara Mitra       82   \n",
       "46       Ekspor Indonesia ke Negara Mitra       92   \n",
       "...                                   ...      ...   \n",
       "100498  Impor Indonesia dari Negara Mitra        6   \n",
       "100502  Impor Indonesia dari Negara Mitra       41   \n",
       "100593  Impor Indonesia dari Negara Mitra       75   \n",
       "100599  Impor Indonesia dari Negara Mitra       80   \n",
       "100694  Impor Indonesia dari Negara Mitra       41   \n",
       "\n",
       "                                                    Label  \n",
       "0                                      Ores, slag and ash  \n",
       "17      Optical, photographic, cinematographic, measur...  \n",
       "24                   Clocks and watches and parts thereof  \n",
       "29      Tools, implements, cutlery, spoons and forks, ...  \n",
       "46      Musical instruments; parts and accessories of ...  \n",
       "...                                                   ...  \n",
       "100498  Live trees and other plants; bulbs, roots and ...  \n",
       "100502  Raw hides and skins (other than furskins) and ...  \n",
       "100593                        Nickel and articles thereof  \n",
       "100599                           Tin and articles thereof  \n",
       "100694  Raw hides and skins (other than furskins) and ...  \n",
       "\n",
       "[5773 rows x 8 columns]"
      ]
     },
     "execution_count": 18,
     "metadata": {},
     "output_type": "execute_result"
    }
   ],
   "source": [
    "df[df['Jumlah'] == 0]"
   ]
  },
  {
   "cell_type": "code",
   "execution_count": 19,
   "id": "e6fa944e",
   "metadata": {},
   "outputs": [
    {
     "data": {
      "application/vnd.microsoft.datawrangler.viewer.v0+json": {
       "columns": [
        {
         "name": "index",
         "rawType": "int64",
         "type": "integer"
        },
        {
         "name": "Negara",
         "rawType": "object",
         "type": "string"
        },
        {
         "name": "Tahun",
         "rawType": "int64",
         "type": "integer"
        },
        {
         "name": "Jumlah",
         "rawType": "float64",
         "type": "float"
        },
        {
         "name": "Satuan",
         "rawType": "object",
         "type": "string"
        },
        {
         "name": "NamaSumber",
         "rawType": "object",
         "type": "string"
        },
        {
         "name": "Indikator",
         "rawType": "object",
         "type": "string"
        },
        {
         "name": "Kode HS",
         "rawType": "int64",
         "type": "integer"
        },
        {
         "name": "Label",
         "rawType": "object",
         "type": "string"
        }
       ],
       "ref": "09f3a563-00a7-4252-af85-4ceb9bed1d28",
       "rows": [
        [
         "2057",
         "Nigeria",
         "2004",
         null,
         "US$",
         "Trademap",
         "Ekspor Indonesia ke Negara Mitra",
         "999",
         "All products"
        ],
        [
         "2058",
         "Nigeria",
         "2004",
         null,
         "US$",
         "Trademap",
         "Ekspor Indonesia ke Negara Mitra",
         "27",
         "Mineral fuels, mineral oils and products of their distillation; bituminous substances; mineral ..."
        ],
        [
         "2059",
         "Nigeria",
         "2004",
         null,
         "US$",
         "Trademap",
         "Ekspor Indonesia ke Negara Mitra",
         "31",
         "Fertilisers"
        ],
        [
         "2060",
         "Nigeria",
         "2004",
         null,
         "US$",
         "Trademap",
         "Ekspor Indonesia ke Negara Mitra",
         "89",
         "Ships, boats and floating structures"
        ],
        [
         "2061",
         "Nigeria",
         "2004",
         null,
         "US$",
         "Trademap",
         "Ekspor Indonesia ke Negara Mitra",
         "18",
         "Cocoa and cocoa preparations"
        ],
        [
         "2062",
         "Nigeria",
         "2004",
         null,
         "US$",
         "Trademap",
         "Ekspor Indonesia ke Negara Mitra",
         "12",
         "Oil seeds and oleaginous fruits; miscellaneous grains, seeds and fruit; industrial or medicinal ..."
        ],
        [
         "2063",
         "Nigeria",
         "2004",
         null,
         "US$",
         "Trademap",
         "Ekspor Indonesia ke Negara Mitra",
         "76",
         "Aluminium and articles thereof"
        ],
        [
         "2064",
         "Nigeria",
         "2004",
         null,
         "US$",
         "Trademap",
         "Ekspor Indonesia ke Negara Mitra",
         "8",
         "Edible fruit and nuts; peel of citrus fruit or melons"
        ],
        [
         "2065",
         "Nigeria",
         "2004",
         null,
         "US$",
         "Trademap",
         "Ekspor Indonesia ke Negara Mitra",
         "71",
         "Natural or cultured pearls, precious or semi-precious stones, precious metals, metals clad ..."
        ],
        [
         "2066",
         "Nigeria",
         "2004",
         null,
         "US$",
         "Trademap",
         "Ekspor Indonesia ke Negara Mitra",
         "24",
         "Tobacco and manufactured tobacco substitutes; products, whether or not containing nicotine, ..."
        ],
        [
         "2067",
         "Nigeria",
         "2004",
         null,
         "US$",
         "Trademap",
         "Ekspor Indonesia ke Negara Mitra",
         "74",
         "Copper and articles thereof"
        ],
        [
         "2068",
         "Nigeria",
         "2004",
         null,
         "US$",
         "Trademap",
         "Ekspor Indonesia ke Negara Mitra",
         "26",
         "Ores, slag and ash"
        ],
        [
         "2069",
         "Nigeria",
         "2004",
         null,
         "US$",
         "Trademap",
         "Ekspor Indonesia ke Negara Mitra",
         "78",
         "Lead and articles thereof"
        ],
        [
         "2070",
         "Nigeria",
         "2004",
         null,
         "US$",
         "Trademap",
         "Ekspor Indonesia ke Negara Mitra",
         "23",
         "Residues and waste from the food industries; prepared animal fodder"
        ],
        [
         "2071",
         "Nigeria",
         "2004",
         null,
         "US$",
         "Trademap",
         "Ekspor Indonesia ke Negara Mitra",
         "41",
         "Raw hides and skins (other than furskins) and leather"
        ],
        [
         "2072",
         "Nigeria",
         "2004",
         null,
         "US$",
         "Trademap",
         "Ekspor Indonesia ke Negara Mitra",
         "25",
         "Salt; sulphur; earths and stone; plastering materials, lime and cement"
        ],
        [
         "2073",
         "Nigeria",
         "2004",
         null,
         "US$",
         "Trademap",
         "Ekspor Indonesia ke Negara Mitra",
         "40",
         "Rubber and articles thereof"
        ],
        [
         "2074",
         "Nigeria",
         "2004",
         null,
         "US$",
         "Trademap",
         "Ekspor Indonesia ke Negara Mitra",
         "39",
         "Plastics and articles thereof"
        ],
        [
         "2075",
         "Nigeria",
         "2004",
         null,
         "US$",
         "Trademap",
         "Ekspor Indonesia ke Negara Mitra",
         "9",
         "Coffee, tea, maté and spices"
        ],
        [
         "2076",
         "Nigeria",
         "2004",
         null,
         "US$",
         "Trademap",
         "Ekspor Indonesia ke Negara Mitra",
         "3",
         "Fish and crustaceans, molluscs and other aquatic invertebrates"
        ],
        [
         "2077",
         "Nigeria",
         "2004",
         null,
         "US$",
         "Trademap",
         "Ekspor Indonesia ke Negara Mitra",
         "87",
         "Vehicles other than railway or tramway rolling stock, and parts and accessories thereof"
        ],
        [
         "2078",
         "Nigeria",
         "2004",
         null,
         "US$",
         "Trademap",
         "Ekspor Indonesia ke Negara Mitra",
         "88",
         "Aircraft, spacecraft, and parts thereof"
        ],
        [
         "2079",
         "Nigeria",
         "2004",
         null,
         "US$",
         "Trademap",
         "Ekspor Indonesia ke Negara Mitra",
         "6",
         "Live trees and other plants; bulbs, roots and the like; cut flowers and ornamental foliage"
        ],
        [
         "2080",
         "Nigeria",
         "2004",
         null,
         "US$",
         "Trademap",
         "Ekspor Indonesia ke Negara Mitra",
         "70",
         "Glass and glassware"
        ],
        [
         "2081",
         "Nigeria",
         "2004",
         null,
         "US$",
         "Trademap",
         "Ekspor Indonesia ke Negara Mitra",
         "21",
         "Miscellaneous edible preparations"
        ],
        [
         "2082",
         "Nigeria",
         "2004",
         null,
         "US$",
         "Trademap",
         "Ekspor Indonesia ke Negara Mitra",
         "28",
         "Inorganic chemicals; organic or inorganic compounds of precious metals, of rare-earth metals, ..."
        ],
        [
         "2083",
         "Nigeria",
         "2004",
         null,
         "US$",
         "Trademap",
         "Ekspor Indonesia ke Negara Mitra",
         "72",
         "Iron and steel"
        ],
        [
         "2084",
         "Nigeria",
         "2004",
         null,
         "US$",
         "Trademap",
         "Ekspor Indonesia ke Negara Mitra",
         "15",
         "Animal, vegetable or microbial fats and oils and their cleavage products; prepared edible fats; ..."
        ],
        [
         "2085",
         "Nigeria",
         "2004",
         null,
         "US$",
         "Trademap",
         "Ekspor Indonesia ke Negara Mitra",
         "38",
         "Miscellaneous chemical products"
        ],
        [
         "2086",
         "Nigeria",
         "2004",
         null,
         "US$",
         "Trademap",
         "Ekspor Indonesia ke Negara Mitra",
         "52",
         "Cotton"
        ],
        [
         "2087",
         "Nigeria",
         "2004",
         null,
         "US$",
         "Trademap",
         "Ekspor Indonesia ke Negara Mitra",
         "34",
         "Soap, organic surface-active agents, washing preparations, lubricating preparations, artificial ..."
        ],
        [
         "2088",
         "Nigeria",
         "2004",
         null,
         "US$",
         "Trademap",
         "Ekspor Indonesia ke Negara Mitra",
         "85",
         "Electrical machinery and equipment and parts thereof; sound recorders and reproducers, television ..."
        ],
        [
         "2089",
         "Nigeria",
         "2004",
         null,
         "US$",
         "Trademap",
         "Ekspor Indonesia ke Negara Mitra",
         "67",
         "Prepared feathers and down and articles made of feathers or of down; artificial flowers; articles ..."
        ],
        [
         "2090",
         "Nigeria",
         "2004",
         null,
         "US$",
         "Trademap",
         "Ekspor Indonesia ke Negara Mitra",
         "83",
         "Miscellaneous articles of base metal"
        ],
        [
         "2091",
         "Nigeria",
         "2004",
         null,
         "US$",
         "Trademap",
         "Ekspor Indonesia ke Negara Mitra",
         "33",
         "Essential oils and resinoids; perfumery, cosmetic or toilet preparations"
        ],
        [
         "2092",
         "Nigeria",
         "2004",
         null,
         "US$",
         "Trademap",
         "Ekspor Indonesia ke Negara Mitra",
         "22",
         "Beverages, spirits and vinegar"
        ],
        [
         "2093",
         "Nigeria",
         "2004",
         null,
         "US$",
         "Trademap",
         "Ekspor Indonesia ke Negara Mitra",
         "84",
         "Nuclear reactors, boilers, machinery and mechanical appliances; parts thereof"
        ],
        [
         "2094",
         "Nigeria",
         "2004",
         null,
         "US$",
         "Trademap",
         "Ekspor Indonesia ke Negara Mitra",
         "48",
         "Paper and paperboard; articles of paper pulp, of paper or of paperboard"
        ],
        [
         "2095",
         "Nigeria",
         "2004",
         null,
         "US$",
         "Trademap",
         "Ekspor Indonesia ke Negara Mitra",
         "4",
         "Dairy produce; birds' eggs; natural honey; edible products of animal origin, not elsewhere ..."
        ],
        [
         "2096",
         "Nigeria",
         "2004",
         null,
         "US$",
         "Trademap",
         "Ekspor Indonesia ke Negara Mitra",
         "63",
         "Other made-up textile articles; sets; worn clothing and worn textile articles; rags"
        ],
        [
         "2097",
         "Nigeria",
         "2004",
         null,
         "US$",
         "Trademap",
         "Ekspor Indonesia ke Negara Mitra",
         "11",
         "Products of the milling industry; malt; starches; inulin; wheat gluten"
        ],
        [
         "2098",
         "Nigeria",
         "2004",
         null,
         "US$",
         "Trademap",
         "Ekspor Indonesia ke Negara Mitra",
         "73",
         "Articles of iron or steel"
        ],
        [
         "2099",
         "Nigeria",
         "2004",
         null,
         "US$",
         "Trademap",
         "Ekspor Indonesia ke Negara Mitra",
         "13",
         "Lac; gums, resins and other vegetable saps and extracts"
        ],
        [
         "2100",
         "Nigeria",
         "2004",
         null,
         "US$",
         "Trademap",
         "Ekspor Indonesia ke Negara Mitra",
         "19",
         "Preparations of cereals, flour, starch or milk; pastrycooks' products"
        ],
        [
         "2101",
         "Nigeria",
         "2004",
         null,
         "US$",
         "Trademap",
         "Ekspor Indonesia ke Negara Mitra",
         "10",
         "Cereals"
        ],
        [
         "2102",
         "Nigeria",
         "2004",
         null,
         "US$",
         "Trademap",
         "Ekspor Indonesia ke Negara Mitra",
         "17",
         "Sugars and sugar confectionery"
        ],
        [
         "2103",
         "Nigeria",
         "2004",
         null,
         "US$",
         "Trademap",
         "Ekspor Indonesia ke Negara Mitra",
         "7",
         "Edible vegetables and certain roots and tubers"
        ],
        [
         "2104",
         "Nigeria",
         "2004",
         null,
         "US$",
         "Trademap",
         "Ekspor Indonesia ke Negara Mitra",
         "79",
         "Zinc and articles thereof"
        ],
        [
         "2105",
         "Nigeria",
         "2004",
         null,
         "US$",
         "Trademap",
         "Ekspor Indonesia ke Negara Mitra",
         "29",
         "Organic chemicals"
        ],
        [
         "2106",
         "Nigeria",
         "2004",
         null,
         "US$",
         "Trademap",
         "Ekspor Indonesia ke Negara Mitra",
         "55",
         "Man-made staple fibres"
        ]
       ],
       "shape": {
        "columns": 8,
        "rows": 6725
       }
      },
      "text/html": [
       "<div>\n",
       "<style scoped>\n",
       "    .dataframe tbody tr th:only-of-type {\n",
       "        vertical-align: middle;\n",
       "    }\n",
       "\n",
       "    .dataframe tbody tr th {\n",
       "        vertical-align: top;\n",
       "    }\n",
       "\n",
       "    .dataframe thead th {\n",
       "        text-align: right;\n",
       "    }\n",
       "</style>\n",
       "<table border=\"1\" class=\"dataframe\">\n",
       "  <thead>\n",
       "    <tr style=\"text-align: right;\">\n",
       "      <th></th>\n",
       "      <th>Negara</th>\n",
       "      <th>Tahun</th>\n",
       "      <th>Jumlah</th>\n",
       "      <th>Satuan</th>\n",
       "      <th>NamaSumber</th>\n",
       "      <th>Indikator</th>\n",
       "      <th>Kode HS</th>\n",
       "      <th>Label</th>\n",
       "    </tr>\n",
       "  </thead>\n",
       "  <tbody>\n",
       "    <tr>\n",
       "      <th>2057</th>\n",
       "      <td>Nigeria</td>\n",
       "      <td>2004</td>\n",
       "      <td>NaN</td>\n",
       "      <td>US$</td>\n",
       "      <td>Trademap</td>\n",
       "      <td>Ekspor Indonesia ke Negara Mitra</td>\n",
       "      <td>999</td>\n",
       "      <td>All products</td>\n",
       "    </tr>\n",
       "    <tr>\n",
       "      <th>2058</th>\n",
       "      <td>Nigeria</td>\n",
       "      <td>2004</td>\n",
       "      <td>NaN</td>\n",
       "      <td>US$</td>\n",
       "      <td>Trademap</td>\n",
       "      <td>Ekspor Indonesia ke Negara Mitra</td>\n",
       "      <td>27</td>\n",
       "      <td>Mineral fuels, mineral oils and products of th...</td>\n",
       "    </tr>\n",
       "    <tr>\n",
       "      <th>2059</th>\n",
       "      <td>Nigeria</td>\n",
       "      <td>2004</td>\n",
       "      <td>NaN</td>\n",
       "      <td>US$</td>\n",
       "      <td>Trademap</td>\n",
       "      <td>Ekspor Indonesia ke Negara Mitra</td>\n",
       "      <td>31</td>\n",
       "      <td>Fertilisers</td>\n",
       "    </tr>\n",
       "    <tr>\n",
       "      <th>2060</th>\n",
       "      <td>Nigeria</td>\n",
       "      <td>2004</td>\n",
       "      <td>NaN</td>\n",
       "      <td>US$</td>\n",
       "      <td>Trademap</td>\n",
       "      <td>Ekspor Indonesia ke Negara Mitra</td>\n",
       "      <td>89</td>\n",
       "      <td>Ships, boats and floating structures</td>\n",
       "    </tr>\n",
       "    <tr>\n",
       "      <th>2061</th>\n",
       "      <td>Nigeria</td>\n",
       "      <td>2004</td>\n",
       "      <td>NaN</td>\n",
       "      <td>US$</td>\n",
       "      <td>Trademap</td>\n",
       "      <td>Ekspor Indonesia ke Negara Mitra</td>\n",
       "      <td>18</td>\n",
       "      <td>Cocoa and cocoa preparations</td>\n",
       "    </tr>\n",
       "    <tr>\n",
       "      <th>...</th>\n",
       "      <td>...</td>\n",
       "      <td>...</td>\n",
       "      <td>...</td>\n",
       "      <td>...</td>\n",
       "      <td>...</td>\n",
       "      <td>...</td>\n",
       "      <td>...</td>\n",
       "      <td>...</td>\n",
       "    </tr>\n",
       "    <tr>\n",
       "      <th>95371</th>\n",
       "      <td>British Virgin Islands</td>\n",
       "      <td>2023</td>\n",
       "      <td>NaN</td>\n",
       "      <td>US$</td>\n",
       "      <td>Trademap</td>\n",
       "      <td>Impor Indonesia dari Negara Mitra</td>\n",
       "      <td>93</td>\n",
       "      <td>Arms and ammunition; parts and accessories the...</td>\n",
       "    </tr>\n",
       "    <tr>\n",
       "      <th>95372</th>\n",
       "      <td>British Virgin Islands</td>\n",
       "      <td>2023</td>\n",
       "      <td>NaN</td>\n",
       "      <td>US$</td>\n",
       "      <td>Trademap</td>\n",
       "      <td>Impor Indonesia dari Negara Mitra</td>\n",
       "      <td>43</td>\n",
       "      <td>Furskins and artificial fur; manufactures thereof</td>\n",
       "    </tr>\n",
       "    <tr>\n",
       "      <th>95373</th>\n",
       "      <td>British Virgin Islands</td>\n",
       "      <td>2023</td>\n",
       "      <td>NaN</td>\n",
       "      <td>US$</td>\n",
       "      <td>Trademap</td>\n",
       "      <td>Impor Indonesia dari Negara Mitra</td>\n",
       "      <td>53</td>\n",
       "      <td>Other vegetable textile fibres; paper yarn and...</td>\n",
       "    </tr>\n",
       "    <tr>\n",
       "      <th>95374</th>\n",
       "      <td>British Virgin Islands</td>\n",
       "      <td>2023</td>\n",
       "      <td>NaN</td>\n",
       "      <td>US$</td>\n",
       "      <td>Trademap</td>\n",
       "      <td>Impor Indonesia dari Negara Mitra</td>\n",
       "      <td>50</td>\n",
       "      <td>Silk</td>\n",
       "    </tr>\n",
       "    <tr>\n",
       "      <th>95375</th>\n",
       "      <td>British Virgin Islands</td>\n",
       "      <td>2023</td>\n",
       "      <td>NaN</td>\n",
       "      <td>US$</td>\n",
       "      <td>Trademap</td>\n",
       "      <td>Impor Indonesia dari Negara Mitra</td>\n",
       "      <td>51</td>\n",
       "      <td>Wool, fine or coarse animal hair; horsehair ya...</td>\n",
       "    </tr>\n",
       "  </tbody>\n",
       "</table>\n",
       "<p>6725 rows × 8 columns</p>\n",
       "</div>"
      ],
      "text/plain": [
       "                       Negara  Tahun  Jumlah Satuan NamaSumber  \\\n",
       "2057                  Nigeria   2004     NaN    US$   Trademap   \n",
       "2058                  Nigeria   2004     NaN    US$   Trademap   \n",
       "2059                  Nigeria   2004     NaN    US$   Trademap   \n",
       "2060                  Nigeria   2004     NaN    US$   Trademap   \n",
       "2061                  Nigeria   2004     NaN    US$   Trademap   \n",
       "...                       ...    ...     ...    ...        ...   \n",
       "95371  British Virgin Islands   2023     NaN    US$   Trademap   \n",
       "95372  British Virgin Islands   2023     NaN    US$   Trademap   \n",
       "95373  British Virgin Islands   2023     NaN    US$   Trademap   \n",
       "95374  British Virgin Islands   2023     NaN    US$   Trademap   \n",
       "95375  British Virgin Islands   2023     NaN    US$   Trademap   \n",
       "\n",
       "                               Indikator  Kode HS  \\\n",
       "2057    Ekspor Indonesia ke Negara Mitra      999   \n",
       "2058    Ekspor Indonesia ke Negara Mitra       27   \n",
       "2059    Ekspor Indonesia ke Negara Mitra       31   \n",
       "2060    Ekspor Indonesia ke Negara Mitra       89   \n",
       "2061    Ekspor Indonesia ke Negara Mitra       18   \n",
       "...                                  ...      ...   \n",
       "95371  Impor Indonesia dari Negara Mitra       93   \n",
       "95372  Impor Indonesia dari Negara Mitra       43   \n",
       "95373  Impor Indonesia dari Negara Mitra       53   \n",
       "95374  Impor Indonesia dari Negara Mitra       50   \n",
       "95375  Impor Indonesia dari Negara Mitra       51   \n",
       "\n",
       "                                                   Label  \n",
       "2057                                        All products  \n",
       "2058   Mineral fuels, mineral oils and products of th...  \n",
       "2059                                         Fertilisers  \n",
       "2060                Ships, boats and floating structures  \n",
       "2061                        Cocoa and cocoa preparations  \n",
       "...                                                  ...  \n",
       "95371  Arms and ammunition; parts and accessories the...  \n",
       "95372  Furskins and artificial fur; manufactures thereof  \n",
       "95373  Other vegetable textile fibres; paper yarn and...  \n",
       "95374                                               Silk  \n",
       "95375  Wool, fine or coarse animal hair; horsehair ya...  \n",
       "\n",
       "[6725 rows x 8 columns]"
      ]
     },
     "execution_count": 19,
     "metadata": {},
     "output_type": "execute_result"
    }
   ],
   "source": [
    "# Check null jumlah\n",
    "df[df['Jumlah'].isnull()]"
   ]
  },
  {
   "cell_type": "code",
   "execution_count": 20,
   "id": "291022bb",
   "metadata": {},
   "outputs": [
    {
     "data": {
      "application/vnd.microsoft.datawrangler.viewer.v0+json": {
       "columns": [
        {
         "name": "index",
         "rawType": "int64",
         "type": "integer"
        },
        {
         "name": "Negara",
         "rawType": "object",
         "type": "string"
        },
        {
         "name": "Tahun",
         "rawType": "int64",
         "type": "integer"
        },
        {
         "name": "Jumlah",
         "rawType": "float64",
         "type": "float"
        },
        {
         "name": "Satuan",
         "rawType": "object",
         "type": "string"
        },
        {
         "name": "NamaSumber",
         "rawType": "object",
         "type": "string"
        },
        {
         "name": "Indikator",
         "rawType": "object",
         "type": "string"
        },
        {
         "name": "Kode HS",
         "rawType": "int64",
         "type": "integer"
        },
        {
         "name": "Label",
         "rawType": "object",
         "type": "string"
        }
       ],
       "ref": "b19ed4cb-0d73-4879-b70b-149596bf5675",
       "rows": [
        [
         "1",
         "Panama",
         "2003",
         "14632.0",
         "US$",
         "Trademap",
         "Ekspor Indonesia ke Negara Mitra",
         "30",
         "Pharmaceutical products"
        ],
        [
         "2",
         "Panama",
         "2003",
         "2.0",
         "US$",
         "Trademap",
         "Ekspor Indonesia ke Negara Mitra",
         "85",
         "Electrical machinery and equipment and parts thereof; sound recorders and reproducers, television ..."
        ],
        [
         "3",
         "Panama",
         "2003",
         "818.0",
         "US$",
         "Trademap",
         "Ekspor Indonesia ke Negara Mitra",
         "84",
         "Nuclear reactors, boilers, machinery and mechanical appliances; parts thereof"
        ],
        [
         "4",
         "Panama",
         "2003",
         "11.0",
         "US$",
         "Trademap",
         "Ekspor Indonesia ke Negara Mitra",
         "29",
         "Organic chemicals"
        ],
        [
         "5",
         "Panama",
         "2003",
         "5.0",
         "US$",
         "Trademap",
         "Ekspor Indonesia ke Negara Mitra",
         "64",
         "Footwear, gaiters and the like; parts of such articles"
        ],
        [
         "6",
         "Panama",
         "2003",
         "6376.0",
         "US$",
         "Trademap",
         "Ekspor Indonesia ke Negara Mitra",
         "62",
         "Articles of apparel and clothing accessories, not knitted or crocheted"
        ],
        [
         "7",
         "Panama",
         "2003",
         "743.0",
         "US$",
         "Trademap",
         "Ekspor Indonesia ke Negara Mitra",
         "33",
         "Essential oils and resinoids; perfumery, cosmetic or toilet preparations"
        ],
        [
         "8",
         "Panama",
         "2003",
         "4658.0",
         "US$",
         "Trademap",
         "Ekspor Indonesia ke Negara Mitra",
         "61",
         "Articles of apparel and clothing accessories, knitted or crocheted"
        ],
        [
         "9",
         "Panama",
         "2003",
         "13202.0",
         "US$",
         "Trademap",
         "Ekspor Indonesia ke Negara Mitra",
         "22",
         "Beverages, spirits and vinegar"
        ],
        [
         "10",
         "Panama",
         "2003",
         "107.0",
         "US$",
         "Trademap",
         "Ekspor Indonesia ke Negara Mitra",
         "87",
         "Vehicles other than railway or tramway rolling stock, and parts and accessories thereof"
        ],
        [
         "11",
         "Panama",
         "2003",
         "289.0",
         "US$",
         "Trademap",
         "Ekspor Indonesia ke Negara Mitra",
         "71",
         "Natural or cultured pearls, precious or semi-precious stones, precious metals, metals clad ..."
        ],
        [
         "12",
         "Panama",
         "2003",
         "7237.0",
         "US$",
         "Trademap",
         "Ekspor Indonesia ke Negara Mitra",
         "39",
         "Plastics and articles thereof"
        ],
        [
         "13",
         "Panama",
         "2003",
         "429.0",
         "US$",
         "Trademap",
         "Ekspor Indonesia ke Negara Mitra",
         "40",
         "Rubber and articles thereof"
        ],
        [
         "14",
         "Panama",
         "2003",
         "57.0",
         "US$",
         "Trademap",
         "Ekspor Indonesia ke Negara Mitra",
         "95",
         "Toys, games and sports requisites; parts and accessories thereof"
        ],
        [
         "15",
         "Panama",
         "2003",
         "165308.0",
         "US$",
         "Trademap",
         "Ekspor Indonesia ke Negara Mitra",
         "8",
         "Edible fruit and nuts; peel of citrus fruit or melons"
        ],
        [
         "16",
         "Panama",
         "2003",
         "24.0",
         "US$",
         "Trademap",
         "Ekspor Indonesia ke Negara Mitra",
         "42",
         "Articles of leather; saddlery and harness; travel goods, handbags and similar containers; articles ..."
        ],
        [
         "18",
         "Panama",
         "2003",
         "378982.0",
         "US$",
         "Trademap",
         "Ekspor Indonesia ke Negara Mitra",
         "3",
         "Fish and crustaceans, molluscs and other aquatic invertebrates"
        ],
        [
         "19",
         "Panama",
         "2003",
         "15.0",
         "US$",
         "Trademap",
         "Ekspor Indonesia ke Negara Mitra",
         "63",
         "Other made-up textile articles; sets; worn clothing and worn textile articles; rags"
        ],
        [
         "20",
         "Panama",
         "2003",
         "21.0",
         "US$",
         "Trademap",
         "Ekspor Indonesia ke Negara Mitra",
         "54",
         "Man-made filaments; strip and the like of man-made textile materials"
        ],
        [
         "21",
         "Panama",
         "2003",
         "1814.0",
         "US$",
         "Trademap",
         "Ekspor Indonesia ke Negara Mitra",
         "94",
         "Furniture; bedding, mattresses, mattress supports, cushions and similar stuffed furnishings; ..."
        ],
        [
         "22",
         "Panama",
         "2003",
         "2131.0",
         "US$",
         "Trademap",
         "Ekspor Indonesia ke Negara Mitra",
         "73",
         "Articles of iron or steel"
        ],
        [
         "23",
         "Panama",
         "2003",
         "65.0",
         "US$",
         "Trademap",
         "Ekspor Indonesia ke Negara Mitra",
         "24",
         "Tobacco and manufactured tobacco substitutes; products, whether or not containing nicotine, ..."
        ],
        [
         "25",
         "Panama",
         "2003",
         "11791.0",
         "US$",
         "Trademap",
         "Ekspor Indonesia ke Negara Mitra",
         "48",
         "Paper and paperboard; articles of paper pulp, of paper or of paperboard"
        ],
        [
         "26",
         "Panama",
         "2003",
         "38.0",
         "US$",
         "Trademap",
         "Ekspor Indonesia ke Negara Mitra",
         "15",
         "Animal, vegetable or microbial fats and oils and their cleavage products; prepared edible fats; ..."
        ],
        [
         "27",
         "Panama",
         "2003",
         "9452.0",
         "US$",
         "Trademap",
         "Ekspor Indonesia ke Negara Mitra",
         "44",
         "Wood and articles of wood; wood charcoal"
        ],
        [
         "28",
         "Panama",
         "2003",
         "14726.0",
         "US$",
         "Trademap",
         "Ekspor Indonesia ke Negara Mitra",
         "76",
         "Aluminium and articles thereof"
        ],
        [
         "30",
         "Panama",
         "2003",
         "4963.0",
         "US$",
         "Trademap",
         "Ekspor Indonesia ke Negara Mitra",
         "72",
         "Iron and steel"
        ],
        [
         "31",
         "Panama",
         "2003",
         "12664.0",
         "US$",
         "Trademap",
         "Ekspor Indonesia ke Negara Mitra",
         "23",
         "Residues and waste from the food industries; prepared animal fodder"
        ],
        [
         "32",
         "Panama",
         "2003",
         "6804.0",
         "US$",
         "Trademap",
         "Ekspor Indonesia ke Negara Mitra",
         "96",
         "Miscellaneous manufactured articles"
        ],
        [
         "33",
         "Panama",
         "2003",
         "49.0",
         "US$",
         "Trademap",
         "Ekspor Indonesia ke Negara Mitra",
         "38",
         "Miscellaneous chemical products"
        ],
        [
         "34",
         "Panama",
         "2003",
         "112.0",
         "US$",
         "Trademap",
         "Ekspor Indonesia ke Negara Mitra",
         "83",
         "Miscellaneous articles of base metal"
        ],
        [
         "35",
         "Panama",
         "2003",
         "12951.0",
         "US$",
         "Trademap",
         "Ekspor Indonesia ke Negara Mitra",
         "17",
         "Sugars and sugar confectionery"
        ],
        [
         "36",
         "Panama",
         "2003",
         "93.0",
         "US$",
         "Trademap",
         "Ekspor Indonesia ke Negara Mitra",
         "34",
         "Soap, organic surface-active agents, washing preparations, lubricating preparations, artificial ..."
        ],
        [
         "37",
         "Panama",
         "2003",
         "13391.0",
         "US$",
         "Trademap",
         "Ekspor Indonesia ke Negara Mitra",
         "2",
         "Meat and edible meat offal"
        ],
        [
         "38",
         "Panama",
         "2003",
         "64.0",
         "US$",
         "Trademap",
         "Ekspor Indonesia ke Negara Mitra",
         "65",
         "Headgear and parts thereof"
        ],
        [
         "39",
         "Panama",
         "2003",
         "1267.0",
         "US$",
         "Trademap",
         "Ekspor Indonesia ke Negara Mitra",
         "32",
         "Tanning or dyeing extracts; tannins and their derivatives; dyes, pigments and other colouring ..."
        ],
        [
         "40",
         "Panama",
         "2003",
         "2213.0",
         "US$",
         "Trademap",
         "Ekspor Indonesia ke Negara Mitra",
         "70",
         "Glass and glassware"
        ],
        [
         "41",
         "Panama",
         "2003",
         "12813.0",
         "US$",
         "Trademap",
         "Ekspor Indonesia ke Negara Mitra",
         "9",
         "Coffee, tea, maté and spices"
        ],
        [
         "42",
         "Panama",
         "2003",
         "1624.0",
         "US$",
         "Trademap",
         "Ekspor Indonesia ke Negara Mitra",
         "74",
         "Copper and articles thereof"
        ],
        [
         "43",
         "Panama",
         "2003",
         "115.0",
         "US$",
         "Trademap",
         "Ekspor Indonesia ke Negara Mitra",
         "69",
         "Ceramic products"
        ],
        [
         "44",
         "Panama",
         "2003",
         "10005.0",
         "US$",
         "Trademap",
         "Ekspor Indonesia ke Negara Mitra",
         "21",
         "Miscellaneous edible preparations"
        ],
        [
         "45",
         "Panama",
         "2003",
         "17.0",
         "US$",
         "Trademap",
         "Ekspor Indonesia ke Negara Mitra",
         "25",
         "Salt; sulphur; earths and stone; plastering materials, lime and cement"
        ],
        [
         "47",
         "Panama",
         "2003",
         "503.0",
         "US$",
         "Trademap",
         "Ekspor Indonesia ke Negara Mitra",
         "49",
         "Printed books, newspapers, pictures and other products of the printing industry; manuscripts, ..."
        ],
        [
         "49",
         "Panama",
         "2003",
         "865.0",
         "US$",
         "Trademap",
         "Ekspor Indonesia ke Negara Mitra",
         "4",
         "Dairy produce; birds' eggs; natural honey; edible products of animal origin, not elsewhere ..."
        ],
        [
         "50",
         "Panama",
         "2003",
         "537.0",
         "US$",
         "Trademap",
         "Ekspor Indonesia ke Negara Mitra",
         "27",
         "Mineral fuels, mineral oils and products of their distillation; bituminous substances; mineral ..."
        ],
        [
         "52",
         "Panama",
         "2003",
         "22643.0",
         "US$",
         "Trademap",
         "Ekspor Indonesia ke Negara Mitra",
         "16",
         "Preparations of meat, of fish, of crustaceans, molluscs or other aquatic invertebrates, or ..."
        ],
        [
         "53",
         "Panama",
         "2003",
         "3.0",
         "US$",
         "Trademap",
         "Ekspor Indonesia ke Negara Mitra",
         "37",
         "Photographic or cinematographic goods"
        ],
        [
         "54",
         "Panama",
         "2003",
         "2393.0",
         "US$",
         "Trademap",
         "Ekspor Indonesia ke Negara Mitra",
         "18",
         "Cocoa and cocoa preparations"
        ],
        [
         "55",
         "Panama",
         "2003",
         "1256.0",
         "US$",
         "Trademap",
         "Ekspor Indonesia ke Negara Mitra",
         "20",
         "Preparations of vegetables, fruit, nuts or other parts of plants"
        ],
        [
         "56",
         "Panama",
         "2003",
         "918.0",
         "US$",
         "Trademap",
         "Ekspor Indonesia ke Negara Mitra",
         "19",
         "Preparations of cereals, flour, starch or milk; pastrycooks' products"
        ]
       ],
       "shape": {
        "columns": 8,
        "rows": 88290
       }
      },
      "text/html": [
       "<div>\n",
       "<style scoped>\n",
       "    .dataframe tbody tr th:only-of-type {\n",
       "        vertical-align: middle;\n",
       "    }\n",
       "\n",
       "    .dataframe tbody tr th {\n",
       "        vertical-align: top;\n",
       "    }\n",
       "\n",
       "    .dataframe thead th {\n",
       "        text-align: right;\n",
       "    }\n",
       "</style>\n",
       "<table border=\"1\" class=\"dataframe\">\n",
       "  <thead>\n",
       "    <tr style=\"text-align: right;\">\n",
       "      <th></th>\n",
       "      <th>Negara</th>\n",
       "      <th>Tahun</th>\n",
       "      <th>Jumlah</th>\n",
       "      <th>Satuan</th>\n",
       "      <th>NamaSumber</th>\n",
       "      <th>Indikator</th>\n",
       "      <th>Kode HS</th>\n",
       "      <th>Label</th>\n",
       "    </tr>\n",
       "  </thead>\n",
       "  <tbody>\n",
       "    <tr>\n",
       "      <th>1</th>\n",
       "      <td>Panama</td>\n",
       "      <td>2003</td>\n",
       "      <td>14632.0</td>\n",
       "      <td>US$</td>\n",
       "      <td>Trademap</td>\n",
       "      <td>Ekspor Indonesia ke Negara Mitra</td>\n",
       "      <td>30</td>\n",
       "      <td>Pharmaceutical products</td>\n",
       "    </tr>\n",
       "    <tr>\n",
       "      <th>2</th>\n",
       "      <td>Panama</td>\n",
       "      <td>2003</td>\n",
       "      <td>2.0</td>\n",
       "      <td>US$</td>\n",
       "      <td>Trademap</td>\n",
       "      <td>Ekspor Indonesia ke Negara Mitra</td>\n",
       "      <td>85</td>\n",
       "      <td>Electrical machinery and equipment and parts t...</td>\n",
       "    </tr>\n",
       "    <tr>\n",
       "      <th>3</th>\n",
       "      <td>Panama</td>\n",
       "      <td>2003</td>\n",
       "      <td>818.0</td>\n",
       "      <td>US$</td>\n",
       "      <td>Trademap</td>\n",
       "      <td>Ekspor Indonesia ke Negara Mitra</td>\n",
       "      <td>84</td>\n",
       "      <td>Nuclear reactors, boilers, machinery and mecha...</td>\n",
       "    </tr>\n",
       "    <tr>\n",
       "      <th>4</th>\n",
       "      <td>Panama</td>\n",
       "      <td>2003</td>\n",
       "      <td>11.0</td>\n",
       "      <td>US$</td>\n",
       "      <td>Trademap</td>\n",
       "      <td>Ekspor Indonesia ke Negara Mitra</td>\n",
       "      <td>29</td>\n",
       "      <td>Organic chemicals</td>\n",
       "    </tr>\n",
       "    <tr>\n",
       "      <th>5</th>\n",
       "      <td>Panama</td>\n",
       "      <td>2003</td>\n",
       "      <td>5.0</td>\n",
       "      <td>US$</td>\n",
       "      <td>Trademap</td>\n",
       "      <td>Ekspor Indonesia ke Negara Mitra</td>\n",
       "      <td>64</td>\n",
       "      <td>Footwear, gaiters and the like; parts of such ...</td>\n",
       "    </tr>\n",
       "    <tr>\n",
       "      <th>...</th>\n",
       "      <td>...</td>\n",
       "      <td>...</td>\n",
       "      <td>...</td>\n",
       "      <td>...</td>\n",
       "      <td>...</td>\n",
       "      <td>...</td>\n",
       "      <td>...</td>\n",
       "      <td>...</td>\n",
       "    </tr>\n",
       "    <tr>\n",
       "      <th>100783</th>\n",
       "      <td>Burkina Faso</td>\n",
       "      <td>2018</td>\n",
       "      <td>45.0</td>\n",
       "      <td>US$</td>\n",
       "      <td>Trademap</td>\n",
       "      <td>Impor Indonesia dari Negara Mitra</td>\n",
       "      <td>47</td>\n",
       "      <td>Pulp of wood or of other fibrous cellulosic ma...</td>\n",
       "    </tr>\n",
       "    <tr>\n",
       "      <th>100784</th>\n",
       "      <td>Burkina Faso</td>\n",
       "      <td>2018</td>\n",
       "      <td>32.0</td>\n",
       "      <td>US$</td>\n",
       "      <td>Trademap</td>\n",
       "      <td>Impor Indonesia dari Negara Mitra</td>\n",
       "      <td>81</td>\n",
       "      <td>Other base metals; cermets; articles thereof</td>\n",
       "    </tr>\n",
       "    <tr>\n",
       "      <th>100785</th>\n",
       "      <td>Burkina Faso</td>\n",
       "      <td>2018</td>\n",
       "      <td>6.0</td>\n",
       "      <td>US$</td>\n",
       "      <td>Trademap</td>\n",
       "      <td>Impor Indonesia dari Negara Mitra</td>\n",
       "      <td>75</td>\n",
       "      <td>Nickel and articles thereof</td>\n",
       "    </tr>\n",
       "    <tr>\n",
       "      <th>100786</th>\n",
       "      <td>Burkina Faso</td>\n",
       "      <td>2018</td>\n",
       "      <td>4.0</td>\n",
       "      <td>US$</td>\n",
       "      <td>Trademap</td>\n",
       "      <td>Impor Indonesia dari Negara Mitra</td>\n",
       "      <td>6</td>\n",
       "      <td>Live trees and other plants; bulbs, roots and ...</td>\n",
       "    </tr>\n",
       "    <tr>\n",
       "      <th>100787</th>\n",
       "      <td>Burkina Faso</td>\n",
       "      <td>2018</td>\n",
       "      <td>15.0</td>\n",
       "      <td>US$</td>\n",
       "      <td>Trademap</td>\n",
       "      <td>Impor Indonesia dari Negara Mitra</td>\n",
       "      <td>50</td>\n",
       "      <td>Silk</td>\n",
       "    </tr>\n",
       "  </tbody>\n",
       "</table>\n",
       "<p>88290 rows × 8 columns</p>\n",
       "</div>"
      ],
      "text/plain": [
       "              Negara  Tahun   Jumlah Satuan NamaSumber  \\\n",
       "1             Panama   2003  14632.0    US$   Trademap   \n",
       "2             Panama   2003      2.0    US$   Trademap   \n",
       "3             Panama   2003    818.0    US$   Trademap   \n",
       "4             Panama   2003     11.0    US$   Trademap   \n",
       "5             Panama   2003      5.0    US$   Trademap   \n",
       "...              ...    ...      ...    ...        ...   \n",
       "100783  Burkina Faso   2018     45.0    US$   Trademap   \n",
       "100784  Burkina Faso   2018     32.0    US$   Trademap   \n",
       "100785  Burkina Faso   2018      6.0    US$   Trademap   \n",
       "100786  Burkina Faso   2018      4.0    US$   Trademap   \n",
       "100787  Burkina Faso   2018     15.0    US$   Trademap   \n",
       "\n",
       "                                Indikator  Kode HS  \\\n",
       "1        Ekspor Indonesia ke Negara Mitra       30   \n",
       "2        Ekspor Indonesia ke Negara Mitra       85   \n",
       "3        Ekspor Indonesia ke Negara Mitra       84   \n",
       "4        Ekspor Indonesia ke Negara Mitra       29   \n",
       "5        Ekspor Indonesia ke Negara Mitra       64   \n",
       "...                                   ...      ...   \n",
       "100783  Impor Indonesia dari Negara Mitra       47   \n",
       "100784  Impor Indonesia dari Negara Mitra       81   \n",
       "100785  Impor Indonesia dari Negara Mitra       75   \n",
       "100786  Impor Indonesia dari Negara Mitra        6   \n",
       "100787  Impor Indonesia dari Negara Mitra       50   \n",
       "\n",
       "                                                    Label  \n",
       "1                                 Pharmaceutical products  \n",
       "2       Electrical machinery and equipment and parts t...  \n",
       "3       Nuclear reactors, boilers, machinery and mecha...  \n",
       "4                                       Organic chemicals  \n",
       "5       Footwear, gaiters and the like; parts of such ...  \n",
       "...                                                   ...  \n",
       "100783  Pulp of wood or of other fibrous cellulosic ma...  \n",
       "100784       Other base metals; cermets; articles thereof  \n",
       "100785                        Nickel and articles thereof  \n",
       "100786  Live trees and other plants; bulbs, roots and ...  \n",
       "100787                                               Silk  \n",
       "\n",
       "[88290 rows x 8 columns]"
      ]
     },
     "execution_count": 20,
     "metadata": {},
     "output_type": "execute_result"
    }
   ],
   "source": [
    "# remove Jumlah missing and null\n",
    "filtered_df = df[df['Jumlah'] > 0]\n",
    "filtered_df = filtered_df.dropna(subset=['Jumlah'])\n",
    "\n",
    "filtered_df\n"
   ]
  },
  {
   "cell_type": "code",
   "execution_count": 21,
   "id": "b2dee75b",
   "metadata": {},
   "outputs": [
    {
     "name": "stdout",
     "output_type": "stream",
     "text": [
      "88290\n"
     ]
    }
   ],
   "source": [
    "print(100788 - 6725 - 5773)"
   ]
  },
  {
   "cell_type": "code",
   "execution_count": 22,
   "id": "09442dc8",
   "metadata": {},
   "outputs": [
    {
     "name": "stdout",
     "output_type": "stream",
     "text": [
      "Unique values in Negara: 38\n",
      "Unique values in Tahun: 21\n",
      "Unique values in Jumlah: 48213\n",
      "Unique values in Satuan: 1\n",
      "Unique values in NamaSumber: 1\n",
      "Unique values in Indikator: 2\n",
      "Unique values in Kode HS: 98\n",
      "Unique values in Label: 98\n"
     ]
    }
   ],
   "source": [
    "# Check unique vals per column\n",
    "\n",
    "for col in filtered_df.columns:\n",
    "    print(f\"Unique values in {col}: {filtered_df[col].nunique()}\")"
   ]
  },
  {
   "cell_type": "code",
   "execution_count": 23,
   "id": "852f6dd2",
   "metadata": {},
   "outputs": [
    {
     "name": "stdout",
     "output_type": "stream",
     "text": [
      "Unique values in Negara: ['Panama' 'Nigeria' 'Afghanistan' 'Albania' 'Algeria' 'American Samoa'\n",
      " 'Andorra' 'Angola' 'Anguilla' 'Antigua and Barbuda' 'Argentina' 'Armenia'\n",
      " 'Aruba' 'Australia' 'Austria' 'Azerbaijan' 'Bahamas' 'Bahrain'\n",
      " 'Bangladesh' 'Barbados' 'Belarus' 'Belgium' 'Belize' 'Benin' 'Bermuda'\n",
      " 'Bhutan' 'Bolivia  Plurinational State of'\n",
      " 'Bonaire  Sint Eustatius and Saba' 'Bosnia and Herzegovina' 'Botswana'\n",
      " 'Bouvet Island' 'Brazil' 'British Antarctic Territory'\n",
      " 'British Indian Ocean Territory' 'British Virgin Islands'\n",
      " 'Brunei Darussalam' 'Bulgaria' 'Burkina Faso']\n",
      "\n",
      "Unique values in Tahun: [2003 2004 2005 2006 2007 2008 2009 2010 2011 2012 2013 2014 2015 2016\n",
      " 2017 2018 2019 2020 2021 2022 2023]\n",
      "\n"
     ]
    }
   ],
   "source": [
    "# List all unique vals in Negara\n",
    "print(\"Unique values in Negara:\", filtered_df['Negara'].unique(), end='\\n\\n')\n",
    "\n",
    "print(\"Unique values in Tahun:\", filtered_df['Tahun'].unique(), end='\\n\\n')"
   ]
  },
  {
   "cell_type": "code",
   "execution_count": 24,
   "id": "7f3c8e50",
   "metadata": {},
   "outputs": [
    {
     "name": "stdout",
     "output_type": "stream",
     "text": [
      "Unique values in Satuan: ['US$']\n",
      "\n",
      "Unique values in NamaSumber: ['Trademap']\n",
      "\n",
      "Unique values in Indikator: ['Ekspor Indonesia ke Negara Mitra' 'Impor Indonesia dari Negara Mitra']\n",
      "\n"
     ]
    }
   ],
   "source": [
    "print(\"Unique values in Satuan:\", filtered_df['Satuan'].unique(), end='\\n\\n')\n",
    "\n",
    "print(\"Unique values in NamaSumber:\", filtered_df['NamaSumber'].unique(), end='\\n\\n')\n",
    "\n",
    "print(\"Unique values in Indikator:\", filtered_df['Indikator'].unique(), end='\\n\\n')"
   ]
  },
  {
   "cell_type": "code",
   "execution_count": 25,
   "id": "fbe0ccab",
   "metadata": {},
   "outputs": [
    {
     "name": "stdout",
     "output_type": "stream",
     "text": [
      "Unique values in Kode HS: [ 30  85  84  29  64  62  33  61  22  87  71  39  40  95   8  42   3  63\n",
      "  54  94  73  24  48  15  44  76  72  23  96  38  83  17  34   2  65  32\n",
      "  70   9  74  69  21  25  49   4  27  16  37  18  20  19  68  12  35  28\n",
      "  78   5  41   7  47  11  36  13  97  46   1   6  53 999  89  86  10  14\n",
      "  90  31  58  26  91  82  92  57  67  66  56  59  52  55  81  79  88  45\n",
      "  75  51  93  43  60  50  80  99]\n",
      "\n",
      "Unique values in Label: ['Pharmaceutical products'\n",
      " 'Electrical machinery and equipment and parts thereof; sound recorders and reproducers, television ...'\n",
      " 'Nuclear reactors, boilers, machinery and mechanical appliances; parts thereof'\n",
      " 'Organic chemicals'\n",
      " 'Footwear, gaiters and the like; parts of such articles'\n",
      " 'Articles of apparel and clothing accessories, not knitted or crocheted'\n",
      " 'Essential oils and resinoids; perfumery, cosmetic or toilet preparations'\n",
      " 'Articles of apparel and clothing accessories, knitted or crocheted'\n",
      " 'Beverages, spirits and vinegar'\n",
      " 'Vehicles other than railway or tramway rolling stock, and parts and accessories thereof'\n",
      " 'Natural or cultured pearls, precious or semi-precious stones, precious metals, metals clad ...'\n",
      " 'Plastics and articles thereof' 'Rubber and articles thereof'\n",
      " 'Toys, games and sports requisites; parts and accessories thereof'\n",
      " 'Edible fruit and nuts; peel of citrus fruit or melons'\n",
      " 'Articles of leather; saddlery and harness; travel goods, handbags and similar containers; articles ...'\n",
      " 'Fish and crustaceans, molluscs and other aquatic invertebrates'\n",
      " 'Other made-up textile articles; sets; worn clothing and worn textile articles; rags'\n",
      " 'Man-made filaments; strip and the like of man-made textile materials'\n",
      " 'Furniture; bedding, mattresses, mattress supports, cushions and similar stuffed furnishings; ...'\n",
      " 'Articles of iron or steel'\n",
      " 'Tobacco and manufactured tobacco substitutes; products, whether or not containing nicotine, ...'\n",
      " 'Paper and paperboard; articles of paper pulp, of paper or of paperboard'\n",
      " 'Animal, vegetable or microbial fats and oils and their cleavage products; prepared edible fats; ...'\n",
      " 'Wood and articles of wood; wood charcoal'\n",
      " 'Aluminium and articles thereof' 'Iron and steel'\n",
      " 'Residues and waste from the food industries; prepared animal fodder'\n",
      " 'Miscellaneous manufactured articles' 'Miscellaneous chemical products'\n",
      " 'Miscellaneous articles of base metal' 'Sugars and sugar confectionery'\n",
      " 'Soap, organic surface-active agents, washing preparations, lubricating preparations, artificial ...'\n",
      " 'Meat and edible meat offal' 'Headgear and parts thereof'\n",
      " 'Tanning or dyeing extracts; tannins and their derivatives; dyes, pigments and other colouring ...'\n",
      " 'Glass and glassware' 'Coffee, tea, maté and spices'\n",
      " 'Copper and articles thereof' 'Ceramic products'\n",
      " 'Miscellaneous edible preparations'\n",
      " 'Salt; sulphur; earths and stone; plastering materials, lime and cement'\n",
      " 'Printed books, newspapers, pictures and other products of the printing industry; manuscripts, ...'\n",
      " \"Dairy produce; birds' eggs; natural honey; edible products of animal origin, not elsewhere ...\"\n",
      " 'Mineral fuels, mineral oils and products of their distillation; bituminous substances; mineral ...'\n",
      " 'Preparations of meat, of fish, of crustaceans, molluscs or other aquatic invertebrates, or ...'\n",
      " 'Photographic or cinematographic goods' 'Cocoa and cocoa preparations'\n",
      " 'Preparations of vegetables, fruit, nuts or other parts of plants'\n",
      " \"Preparations of cereals, flour, starch or milk; pastrycooks' products\"\n",
      " 'Articles of stone, plaster, cement, asbestos, mica or similar materials'\n",
      " 'Oil seeds and oleaginous fruits; miscellaneous grains, seeds and fruit; industrial or medicinal ...'\n",
      " 'Albuminoidal substances; modified starches; glues; enzymes'\n",
      " 'Inorganic chemicals; organic or inorganic compounds of precious metals, of rare-earth metals, ...'\n",
      " 'Lead and articles thereof'\n",
      " 'Products of animal origin, not elsewhere specified or included'\n",
      " 'Raw hides and skins (other than furskins) and leather'\n",
      " 'Edible vegetables and certain roots and tubers'\n",
      " 'Pulp of wood or of other fibrous cellulosic material; recovered (waste and scrap) paper or ...'\n",
      " 'Products of the milling industry; malt; starches; inulin; wheat gluten'\n",
      " 'Explosives; pyrotechnic products; matches; pyrophoric alloys; certain combustible preparations'\n",
      " 'Lac; gums, resins and other vegetable saps and extracts'\n",
      " \"Works of art, collectors' pieces and antiques\"\n",
      " 'Manufactures of straw, of esparto or of other plaiting materials; basketware and wickerwork'\n",
      " 'Live animals'\n",
      " 'Live trees and other plants; bulbs, roots and the like; cut flowers and ornamental foliage'\n",
      " 'Other vegetable textile fibres; paper yarn and woven fabrics of paper yarn'\n",
      " 'All products' 'Ships, boats and floating structures'\n",
      " 'Railway or tramway locomotives, rolling stock and parts thereof; railway or tramway track fixtures ...'\n",
      " 'Cereals'\n",
      " 'Vegetable plaiting materials; vegetable products not elsewhere specified or included'\n",
      " 'Optical, photographic, cinematographic, measuring, checking, precision, medical or surgical ...'\n",
      " 'Fertilisers'\n",
      " 'Special woven fabrics; tufted textile fabrics; lace; tapestries; trimmings; embroidery'\n",
      " 'Ores, slag and ash' 'Clocks and watches and parts thereof'\n",
      " 'Tools, implements, cutlery, spoons and forks, of base metal; parts thereof of base metal'\n",
      " 'Musical instruments; parts and accessories of such articles'\n",
      " 'Carpets and other textile floor coverings'\n",
      " 'Prepared feathers and down and articles made of feathers or of down; artificial flowers; articles ...'\n",
      " 'Umbrellas, sun umbrellas, walking sticks, seat-sticks, whips, riding-crops and parts thereof'\n",
      " 'Wadding, felt and nonwovens; special yarns; twine, cordage, ropes and cables and articles thereof'\n",
      " 'Impregnated, coated, covered or laminated textile fabrics; textile articles of a kind suitable ...'\n",
      " 'Cotton' 'Man-made staple fibres'\n",
      " 'Other base metals; cermets; articles thereof'\n",
      " 'Zinc and articles thereof' 'Aircraft, spacecraft, and parts thereof'\n",
      " 'Cork and articles of cork' 'Nickel and articles thereof'\n",
      " 'Wool, fine or coarse animal hair; horsehair yarn and woven fabric'\n",
      " 'Arms and ammunition; parts and accessories thereof'\n",
      " 'Furskins and artificial fur; manufactures thereof'\n",
      " 'Knitted or crocheted fabrics' 'Silk' 'Tin and articles thereof'\n",
      " 'Commodities not elsewhere specified']\n",
      "\n"
     ]
    }
   ],
   "source": [
    "print(\"Unique values in Kode HS:\", filtered_df['Kode HS'].unique(), end='\\n\\n')\n",
    "\n",
    "print(\"Unique values in Label:\", filtered_df['Label'].unique(), end='\\n\\n')"
   ]
  },
  {
   "cell_type": "code",
   "execution_count": 26,
   "id": "480a6da7",
   "metadata": {},
   "outputs": [],
   "source": [
    "final_df = filtered_df.copy()\n",
    "\n",
    "# remove irrelevant columns\n",
    "# final_df = final_df.drop(columns=['Satuan', 'NamaSumber', 'Kode HS', 'Label'])\n",
    "final_df = final_df.drop(columns=['Satuan', 'NamaSumber','Label'])\n",
    "\n",
    "# simplify Indikator\n",
    "final_df['Indikator'] = final_df['Indikator'].str.split().str[0]"
   ]
  },
  {
   "cell_type": "code",
   "execution_count": 27,
   "id": "62f746fb",
   "metadata": {},
   "outputs": [
    {
     "data": {
      "application/vnd.microsoft.datawrangler.viewer.v0+json": {
       "columns": [
        {
         "name": "index",
         "rawType": "int64",
         "type": "integer"
        },
        {
         "name": "Negara",
         "rawType": "object",
         "type": "string"
        },
        {
         "name": "Tahun",
         "rawType": "int64",
         "type": "integer"
        },
        {
         "name": "Jumlah",
         "rawType": "float64",
         "type": "float"
        },
        {
         "name": "Indikator",
         "rawType": "object",
         "type": "string"
        },
        {
         "name": "Kode HS",
         "rawType": "int64",
         "type": "integer"
        }
       ],
       "ref": "561f2320-1a8c-4712-ab5e-d1f3f85c102b",
       "rows": [
        [
         "1",
         "Panama",
         "2003",
         "14632.0",
         "Ekspor",
         "30"
        ],
        [
         "2",
         "Panama",
         "2003",
         "2.0",
         "Ekspor",
         "85"
        ],
        [
         "3",
         "Panama",
         "2003",
         "818.0",
         "Ekspor",
         "84"
        ],
        [
         "4",
         "Panama",
         "2003",
         "11.0",
         "Ekspor",
         "29"
        ],
        [
         "5",
         "Panama",
         "2003",
         "5.0",
         "Ekspor",
         "64"
        ],
        [
         "6",
         "Panama",
         "2003",
         "6376.0",
         "Ekspor",
         "62"
        ],
        [
         "7",
         "Panama",
         "2003",
         "743.0",
         "Ekspor",
         "33"
        ],
        [
         "8",
         "Panama",
         "2003",
         "4658.0",
         "Ekspor",
         "61"
        ],
        [
         "9",
         "Panama",
         "2003",
         "13202.0",
         "Ekspor",
         "22"
        ],
        [
         "10",
         "Panama",
         "2003",
         "107.0",
         "Ekspor",
         "87"
        ],
        [
         "11",
         "Panama",
         "2003",
         "289.0",
         "Ekspor",
         "71"
        ],
        [
         "12",
         "Panama",
         "2003",
         "7237.0",
         "Ekspor",
         "39"
        ],
        [
         "13",
         "Panama",
         "2003",
         "429.0",
         "Ekspor",
         "40"
        ],
        [
         "14",
         "Panama",
         "2003",
         "57.0",
         "Ekspor",
         "95"
        ],
        [
         "15",
         "Panama",
         "2003",
         "165308.0",
         "Ekspor",
         "8"
        ],
        [
         "16",
         "Panama",
         "2003",
         "24.0",
         "Ekspor",
         "42"
        ],
        [
         "18",
         "Panama",
         "2003",
         "378982.0",
         "Ekspor",
         "3"
        ],
        [
         "19",
         "Panama",
         "2003",
         "15.0",
         "Ekspor",
         "63"
        ],
        [
         "20",
         "Panama",
         "2003",
         "21.0",
         "Ekspor",
         "54"
        ],
        [
         "21",
         "Panama",
         "2003",
         "1814.0",
         "Ekspor",
         "94"
        ],
        [
         "22",
         "Panama",
         "2003",
         "2131.0",
         "Ekspor",
         "73"
        ],
        [
         "23",
         "Panama",
         "2003",
         "65.0",
         "Ekspor",
         "24"
        ],
        [
         "25",
         "Panama",
         "2003",
         "11791.0",
         "Ekspor",
         "48"
        ],
        [
         "26",
         "Panama",
         "2003",
         "38.0",
         "Ekspor",
         "15"
        ],
        [
         "27",
         "Panama",
         "2003",
         "9452.0",
         "Ekspor",
         "44"
        ],
        [
         "28",
         "Panama",
         "2003",
         "14726.0",
         "Ekspor",
         "76"
        ],
        [
         "30",
         "Panama",
         "2003",
         "4963.0",
         "Ekspor",
         "72"
        ],
        [
         "31",
         "Panama",
         "2003",
         "12664.0",
         "Ekspor",
         "23"
        ],
        [
         "32",
         "Panama",
         "2003",
         "6804.0",
         "Ekspor",
         "96"
        ],
        [
         "33",
         "Panama",
         "2003",
         "49.0",
         "Ekspor",
         "38"
        ],
        [
         "34",
         "Panama",
         "2003",
         "112.0",
         "Ekspor",
         "83"
        ],
        [
         "35",
         "Panama",
         "2003",
         "12951.0",
         "Ekspor",
         "17"
        ],
        [
         "36",
         "Panama",
         "2003",
         "93.0",
         "Ekspor",
         "34"
        ],
        [
         "37",
         "Panama",
         "2003",
         "13391.0",
         "Ekspor",
         "2"
        ],
        [
         "38",
         "Panama",
         "2003",
         "64.0",
         "Ekspor",
         "65"
        ],
        [
         "39",
         "Panama",
         "2003",
         "1267.0",
         "Ekspor",
         "32"
        ],
        [
         "40",
         "Panama",
         "2003",
         "2213.0",
         "Ekspor",
         "70"
        ],
        [
         "41",
         "Panama",
         "2003",
         "12813.0",
         "Ekspor",
         "9"
        ],
        [
         "42",
         "Panama",
         "2003",
         "1624.0",
         "Ekspor",
         "74"
        ],
        [
         "43",
         "Panama",
         "2003",
         "115.0",
         "Ekspor",
         "69"
        ],
        [
         "44",
         "Panama",
         "2003",
         "10005.0",
         "Ekspor",
         "21"
        ],
        [
         "45",
         "Panama",
         "2003",
         "17.0",
         "Ekspor",
         "25"
        ],
        [
         "47",
         "Panama",
         "2003",
         "503.0",
         "Ekspor",
         "49"
        ],
        [
         "49",
         "Panama",
         "2003",
         "865.0",
         "Ekspor",
         "4"
        ],
        [
         "50",
         "Panama",
         "2003",
         "537.0",
         "Ekspor",
         "27"
        ],
        [
         "52",
         "Panama",
         "2003",
         "22643.0",
         "Ekspor",
         "16"
        ],
        [
         "53",
         "Panama",
         "2003",
         "3.0",
         "Ekspor",
         "37"
        ],
        [
         "54",
         "Panama",
         "2003",
         "2393.0",
         "Ekspor",
         "18"
        ],
        [
         "55",
         "Panama",
         "2003",
         "1256.0",
         "Ekspor",
         "20"
        ],
        [
         "56",
         "Panama",
         "2003",
         "918.0",
         "Ekspor",
         "19"
        ]
       ],
       "shape": {
        "columns": 5,
        "rows": 88290
       }
      },
      "text/html": [
       "<div>\n",
       "<style scoped>\n",
       "    .dataframe tbody tr th:only-of-type {\n",
       "        vertical-align: middle;\n",
       "    }\n",
       "\n",
       "    .dataframe tbody tr th {\n",
       "        vertical-align: top;\n",
       "    }\n",
       "\n",
       "    .dataframe thead th {\n",
       "        text-align: right;\n",
       "    }\n",
       "</style>\n",
       "<table border=\"1\" class=\"dataframe\">\n",
       "  <thead>\n",
       "    <tr style=\"text-align: right;\">\n",
       "      <th></th>\n",
       "      <th>Negara</th>\n",
       "      <th>Tahun</th>\n",
       "      <th>Jumlah</th>\n",
       "      <th>Indikator</th>\n",
       "      <th>Kode HS</th>\n",
       "    </tr>\n",
       "  </thead>\n",
       "  <tbody>\n",
       "    <tr>\n",
       "      <th>1</th>\n",
       "      <td>Panama</td>\n",
       "      <td>2003</td>\n",
       "      <td>14632.0</td>\n",
       "      <td>Ekspor</td>\n",
       "      <td>30</td>\n",
       "    </tr>\n",
       "    <tr>\n",
       "      <th>2</th>\n",
       "      <td>Panama</td>\n",
       "      <td>2003</td>\n",
       "      <td>2.0</td>\n",
       "      <td>Ekspor</td>\n",
       "      <td>85</td>\n",
       "    </tr>\n",
       "    <tr>\n",
       "      <th>3</th>\n",
       "      <td>Panama</td>\n",
       "      <td>2003</td>\n",
       "      <td>818.0</td>\n",
       "      <td>Ekspor</td>\n",
       "      <td>84</td>\n",
       "    </tr>\n",
       "    <tr>\n",
       "      <th>4</th>\n",
       "      <td>Panama</td>\n",
       "      <td>2003</td>\n",
       "      <td>11.0</td>\n",
       "      <td>Ekspor</td>\n",
       "      <td>29</td>\n",
       "    </tr>\n",
       "    <tr>\n",
       "      <th>5</th>\n",
       "      <td>Panama</td>\n",
       "      <td>2003</td>\n",
       "      <td>5.0</td>\n",
       "      <td>Ekspor</td>\n",
       "      <td>64</td>\n",
       "    </tr>\n",
       "    <tr>\n",
       "      <th>...</th>\n",
       "      <td>...</td>\n",
       "      <td>...</td>\n",
       "      <td>...</td>\n",
       "      <td>...</td>\n",
       "      <td>...</td>\n",
       "    </tr>\n",
       "    <tr>\n",
       "      <th>100783</th>\n",
       "      <td>Burkina Faso</td>\n",
       "      <td>2018</td>\n",
       "      <td>45.0</td>\n",
       "      <td>Impor</td>\n",
       "      <td>47</td>\n",
       "    </tr>\n",
       "    <tr>\n",
       "      <th>100784</th>\n",
       "      <td>Burkina Faso</td>\n",
       "      <td>2018</td>\n",
       "      <td>32.0</td>\n",
       "      <td>Impor</td>\n",
       "      <td>81</td>\n",
       "    </tr>\n",
       "    <tr>\n",
       "      <th>100785</th>\n",
       "      <td>Burkina Faso</td>\n",
       "      <td>2018</td>\n",
       "      <td>6.0</td>\n",
       "      <td>Impor</td>\n",
       "      <td>75</td>\n",
       "    </tr>\n",
       "    <tr>\n",
       "      <th>100786</th>\n",
       "      <td>Burkina Faso</td>\n",
       "      <td>2018</td>\n",
       "      <td>4.0</td>\n",
       "      <td>Impor</td>\n",
       "      <td>6</td>\n",
       "    </tr>\n",
       "    <tr>\n",
       "      <th>100787</th>\n",
       "      <td>Burkina Faso</td>\n",
       "      <td>2018</td>\n",
       "      <td>15.0</td>\n",
       "      <td>Impor</td>\n",
       "      <td>50</td>\n",
       "    </tr>\n",
       "  </tbody>\n",
       "</table>\n",
       "<p>88290 rows × 5 columns</p>\n",
       "</div>"
      ],
      "text/plain": [
       "              Negara  Tahun   Jumlah Indikator  Kode HS\n",
       "1             Panama   2003  14632.0    Ekspor       30\n",
       "2             Panama   2003      2.0    Ekspor       85\n",
       "3             Panama   2003    818.0    Ekspor       84\n",
       "4             Panama   2003     11.0    Ekspor       29\n",
       "5             Panama   2003      5.0    Ekspor       64\n",
       "...              ...    ...      ...       ...      ...\n",
       "100783  Burkina Faso   2018     45.0     Impor       47\n",
       "100784  Burkina Faso   2018     32.0     Impor       81\n",
       "100785  Burkina Faso   2018      6.0     Impor       75\n",
       "100786  Burkina Faso   2018      4.0     Impor        6\n",
       "100787  Burkina Faso   2018     15.0     Impor       50\n",
       "\n",
       "[88290 rows x 5 columns]"
      ]
     },
     "execution_count": 27,
     "metadata": {},
     "output_type": "execute_result"
    }
   ],
   "source": [
    "final_df"
   ]
  },
  {
   "cell_type": "code",
   "execution_count": 28,
   "id": "497fbdc3",
   "metadata": {},
   "outputs": [],
   "source": [
    "# final_df['Jumlah'] = final_df['Jumlah'].astype(int)"
   ]
  },
  {
   "cell_type": "markdown",
   "id": "db31564c",
   "metadata": {},
   "source": [
    "# NO1 Visualisasi"
   ]
  },
  {
   "cell_type": "code",
   "execution_count": 29,
   "id": "0ede0ae3",
   "metadata": {},
   "outputs": [
    {
     "data": {
      "application/vnd.microsoft.datawrangler.viewer.v0+json": {
       "columns": [
        {
         "name": "index",
         "rawType": "int64",
         "type": "integer"
        },
        {
         "name": "Tahun",
         "rawType": "int64",
         "type": "integer"
        },
        {
         "name": "Indikator",
         "rawType": "object",
         "type": "string"
        },
        {
         "name": "Jumlah",
         "rawType": "float64",
         "type": "float"
        }
       ],
       "ref": "12c30a37-aba7-451f-ac1e-f173a1e449e4",
       "rows": [
        [
         "0",
         "2003",
         "Ekspor",
         "90731009.0"
        ],
        [
         "1",
         "2003",
         "Impor",
         "89925272.0"
        ],
        [
         "2",
         "2004",
         "Ekspor",
         "288141791.0"
        ],
        [
         "3",
         "2004",
         "Impor",
         "706236727.0"
        ],
        [
         "4",
         "2005",
         "Ekspor",
         "338939630.0"
        ],
        [
         "5",
         "2005",
         "Impor",
         "798833834.0"
        ],
        [
         "6",
         "2006",
         "Ekspor",
         "526641366.0"
        ],
        [
         "7",
         "2006",
         "Impor",
         "963354075.0"
        ],
        [
         "8",
         "2007",
         "Ekspor",
         "617477508.0"
        ],
        [
         "9",
         "2007",
         "Impor",
         "1169205977.0"
        ],
        [
         "10",
         "2008",
         "Ekspor",
         "771453879.0"
        ],
        [
         "11",
         "2008",
         "Impor",
         "1387211734.0"
        ],
        [
         "12",
         "2009",
         "Ekspor",
         "588876871.0"
        ],
        [
         "13",
         "2009",
         "Impor",
         "1126891281.0"
        ],
        [
         "14",
         "2010",
         "Ekspor",
         "792216613.0"
        ],
        [
         "15",
         "2010",
         "Impor",
         "1347418160.0"
        ],
        [
         "16",
         "2011",
         "Ekspor",
         "1021808545.0"
        ],
        [
         "17",
         "2011",
         "Impor",
         "1653549498.0"
        ],
        [
         "18",
         "2012",
         "Ekspor",
         "1033139490.0"
        ],
        [
         "19",
         "2012",
         "Impor",
         "1574405707.0"
        ],
        [
         "20",
         "2013",
         "Ekspor",
         "915463915.0"
        ],
        [
         "21",
         "2013",
         "Impor",
         "1612014542.0"
        ],
        [
         "22",
         "2014",
         "Ekspor",
         "884749545.0"
        ],
        [
         "23",
         "2014",
         "Impor",
         "1563223761.0"
        ],
        [
         "24",
         "2015",
         "Ekspor",
         "655809289.0"
        ],
        [
         "25",
         "2015",
         "Impor",
         "1327238551.0"
        ],
        [
         "26",
         "2016",
         "Ekspor",
         "609090601.0"
        ],
        [
         "27",
         "2016",
         "Impor",
         "1266590871.0"
        ],
        [
         "28",
         "2017",
         "Ekspor",
         "694688867.0"
        ],
        [
         "29",
         "2017",
         "Impor",
         "1384375791.0"
        ],
        [
         "30",
         "2018",
         "Ekspor",
         "793294836.0"
        ],
        [
         "31",
         "2018",
         "Impor",
         "1534255586.0"
        ],
        [
         "32",
         "2019",
         "Ekspor",
         "799510242.0"
        ],
        [
         "33",
         "2019",
         "Impor",
         "1472521180.0"
        ],
        [
         "34",
         "2020",
         "Ekspor",
         "675908546.0"
        ],
        [
         "35",
         "2020",
         "Impor",
         "1347241620.0"
        ],
        [
         "36",
         "2021",
         "Ekspor",
         "917771552.0"
        ],
        [
         "37",
         "2021",
         "Impor",
         "1739594214.0"
        ],
        [
         "38",
         "2022",
         "Ekspor",
         "1109110039.0"
        ],
        [
         "39",
         "2022",
         "Impor",
         "2001043715.0"
        ],
        [
         "40",
         "2023",
         "Ekspor",
         "661470328.0"
        ],
        [
         "41",
         "2023",
         "Impor",
         "1439710962.0"
        ]
       ],
       "shape": {
        "columns": 3,
        "rows": 42
       }
      },
      "text/html": [
       "<div>\n",
       "<style scoped>\n",
       "    .dataframe tbody tr th:only-of-type {\n",
       "        vertical-align: middle;\n",
       "    }\n",
       "\n",
       "    .dataframe tbody tr th {\n",
       "        vertical-align: top;\n",
       "    }\n",
       "\n",
       "    .dataframe thead th {\n",
       "        text-align: right;\n",
       "    }\n",
       "</style>\n",
       "<table border=\"1\" class=\"dataframe\">\n",
       "  <thead>\n",
       "    <tr style=\"text-align: right;\">\n",
       "      <th></th>\n",
       "      <th>Tahun</th>\n",
       "      <th>Indikator</th>\n",
       "      <th>Jumlah</th>\n",
       "    </tr>\n",
       "  </thead>\n",
       "  <tbody>\n",
       "    <tr>\n",
       "      <th>0</th>\n",
       "      <td>2003</td>\n",
       "      <td>Ekspor</td>\n",
       "      <td>9.073101e+07</td>\n",
       "    </tr>\n",
       "    <tr>\n",
       "      <th>1</th>\n",
       "      <td>2003</td>\n",
       "      <td>Impor</td>\n",
       "      <td>8.992527e+07</td>\n",
       "    </tr>\n",
       "    <tr>\n",
       "      <th>2</th>\n",
       "      <td>2004</td>\n",
       "      <td>Ekspor</td>\n",
       "      <td>2.881418e+08</td>\n",
       "    </tr>\n",
       "    <tr>\n",
       "      <th>3</th>\n",
       "      <td>2004</td>\n",
       "      <td>Impor</td>\n",
       "      <td>7.062367e+08</td>\n",
       "    </tr>\n",
       "    <tr>\n",
       "      <th>4</th>\n",
       "      <td>2005</td>\n",
       "      <td>Ekspor</td>\n",
       "      <td>3.389396e+08</td>\n",
       "    </tr>\n",
       "    <tr>\n",
       "      <th>5</th>\n",
       "      <td>2005</td>\n",
       "      <td>Impor</td>\n",
       "      <td>7.988338e+08</td>\n",
       "    </tr>\n",
       "    <tr>\n",
       "      <th>6</th>\n",
       "      <td>2006</td>\n",
       "      <td>Ekspor</td>\n",
       "      <td>5.266414e+08</td>\n",
       "    </tr>\n",
       "    <tr>\n",
       "      <th>7</th>\n",
       "      <td>2006</td>\n",
       "      <td>Impor</td>\n",
       "      <td>9.633541e+08</td>\n",
       "    </tr>\n",
       "    <tr>\n",
       "      <th>8</th>\n",
       "      <td>2007</td>\n",
       "      <td>Ekspor</td>\n",
       "      <td>6.174775e+08</td>\n",
       "    </tr>\n",
       "    <tr>\n",
       "      <th>9</th>\n",
       "      <td>2007</td>\n",
       "      <td>Impor</td>\n",
       "      <td>1.169206e+09</td>\n",
       "    </tr>\n",
       "    <tr>\n",
       "      <th>10</th>\n",
       "      <td>2008</td>\n",
       "      <td>Ekspor</td>\n",
       "      <td>7.714539e+08</td>\n",
       "    </tr>\n",
       "    <tr>\n",
       "      <th>11</th>\n",
       "      <td>2008</td>\n",
       "      <td>Impor</td>\n",
       "      <td>1.387212e+09</td>\n",
       "    </tr>\n",
       "    <tr>\n",
       "      <th>12</th>\n",
       "      <td>2009</td>\n",
       "      <td>Ekspor</td>\n",
       "      <td>5.888769e+08</td>\n",
       "    </tr>\n",
       "    <tr>\n",
       "      <th>13</th>\n",
       "      <td>2009</td>\n",
       "      <td>Impor</td>\n",
       "      <td>1.126891e+09</td>\n",
       "    </tr>\n",
       "    <tr>\n",
       "      <th>14</th>\n",
       "      <td>2010</td>\n",
       "      <td>Ekspor</td>\n",
       "      <td>7.922166e+08</td>\n",
       "    </tr>\n",
       "    <tr>\n",
       "      <th>15</th>\n",
       "      <td>2010</td>\n",
       "      <td>Impor</td>\n",
       "      <td>1.347418e+09</td>\n",
       "    </tr>\n",
       "    <tr>\n",
       "      <th>16</th>\n",
       "      <td>2011</td>\n",
       "      <td>Ekspor</td>\n",
       "      <td>1.021809e+09</td>\n",
       "    </tr>\n",
       "    <tr>\n",
       "      <th>17</th>\n",
       "      <td>2011</td>\n",
       "      <td>Impor</td>\n",
       "      <td>1.653549e+09</td>\n",
       "    </tr>\n",
       "    <tr>\n",
       "      <th>18</th>\n",
       "      <td>2012</td>\n",
       "      <td>Ekspor</td>\n",
       "      <td>1.033139e+09</td>\n",
       "    </tr>\n",
       "    <tr>\n",
       "      <th>19</th>\n",
       "      <td>2012</td>\n",
       "      <td>Impor</td>\n",
       "      <td>1.574406e+09</td>\n",
       "    </tr>\n",
       "    <tr>\n",
       "      <th>20</th>\n",
       "      <td>2013</td>\n",
       "      <td>Ekspor</td>\n",
       "      <td>9.154639e+08</td>\n",
       "    </tr>\n",
       "    <tr>\n",
       "      <th>21</th>\n",
       "      <td>2013</td>\n",
       "      <td>Impor</td>\n",
       "      <td>1.612015e+09</td>\n",
       "    </tr>\n",
       "    <tr>\n",
       "      <th>22</th>\n",
       "      <td>2014</td>\n",
       "      <td>Ekspor</td>\n",
       "      <td>8.847495e+08</td>\n",
       "    </tr>\n",
       "    <tr>\n",
       "      <th>23</th>\n",
       "      <td>2014</td>\n",
       "      <td>Impor</td>\n",
       "      <td>1.563224e+09</td>\n",
       "    </tr>\n",
       "    <tr>\n",
       "      <th>24</th>\n",
       "      <td>2015</td>\n",
       "      <td>Ekspor</td>\n",
       "      <td>6.558093e+08</td>\n",
       "    </tr>\n",
       "    <tr>\n",
       "      <th>25</th>\n",
       "      <td>2015</td>\n",
       "      <td>Impor</td>\n",
       "      <td>1.327239e+09</td>\n",
       "    </tr>\n",
       "    <tr>\n",
       "      <th>26</th>\n",
       "      <td>2016</td>\n",
       "      <td>Ekspor</td>\n",
       "      <td>6.090906e+08</td>\n",
       "    </tr>\n",
       "    <tr>\n",
       "      <th>27</th>\n",
       "      <td>2016</td>\n",
       "      <td>Impor</td>\n",
       "      <td>1.266591e+09</td>\n",
       "    </tr>\n",
       "    <tr>\n",
       "      <th>28</th>\n",
       "      <td>2017</td>\n",
       "      <td>Ekspor</td>\n",
       "      <td>6.946889e+08</td>\n",
       "    </tr>\n",
       "    <tr>\n",
       "      <th>29</th>\n",
       "      <td>2017</td>\n",
       "      <td>Impor</td>\n",
       "      <td>1.384376e+09</td>\n",
       "    </tr>\n",
       "    <tr>\n",
       "      <th>30</th>\n",
       "      <td>2018</td>\n",
       "      <td>Ekspor</td>\n",
       "      <td>7.932948e+08</td>\n",
       "    </tr>\n",
       "    <tr>\n",
       "      <th>31</th>\n",
       "      <td>2018</td>\n",
       "      <td>Impor</td>\n",
       "      <td>1.534256e+09</td>\n",
       "    </tr>\n",
       "    <tr>\n",
       "      <th>32</th>\n",
       "      <td>2019</td>\n",
       "      <td>Ekspor</td>\n",
       "      <td>7.995102e+08</td>\n",
       "    </tr>\n",
       "    <tr>\n",
       "      <th>33</th>\n",
       "      <td>2019</td>\n",
       "      <td>Impor</td>\n",
       "      <td>1.472521e+09</td>\n",
       "    </tr>\n",
       "    <tr>\n",
       "      <th>34</th>\n",
       "      <td>2020</td>\n",
       "      <td>Ekspor</td>\n",
       "      <td>6.759085e+08</td>\n",
       "    </tr>\n",
       "    <tr>\n",
       "      <th>35</th>\n",
       "      <td>2020</td>\n",
       "      <td>Impor</td>\n",
       "      <td>1.347242e+09</td>\n",
       "    </tr>\n",
       "    <tr>\n",
       "      <th>36</th>\n",
       "      <td>2021</td>\n",
       "      <td>Ekspor</td>\n",
       "      <td>9.177716e+08</td>\n",
       "    </tr>\n",
       "    <tr>\n",
       "      <th>37</th>\n",
       "      <td>2021</td>\n",
       "      <td>Impor</td>\n",
       "      <td>1.739594e+09</td>\n",
       "    </tr>\n",
       "    <tr>\n",
       "      <th>38</th>\n",
       "      <td>2022</td>\n",
       "      <td>Ekspor</td>\n",
       "      <td>1.109110e+09</td>\n",
       "    </tr>\n",
       "    <tr>\n",
       "      <th>39</th>\n",
       "      <td>2022</td>\n",
       "      <td>Impor</td>\n",
       "      <td>2.001044e+09</td>\n",
       "    </tr>\n",
       "    <tr>\n",
       "      <th>40</th>\n",
       "      <td>2023</td>\n",
       "      <td>Ekspor</td>\n",
       "      <td>6.614703e+08</td>\n",
       "    </tr>\n",
       "    <tr>\n",
       "      <th>41</th>\n",
       "      <td>2023</td>\n",
       "      <td>Impor</td>\n",
       "      <td>1.439711e+09</td>\n",
       "    </tr>\n",
       "  </tbody>\n",
       "</table>\n",
       "</div>"
      ],
      "text/plain": [
       "    Tahun Indikator        Jumlah\n",
       "0    2003    Ekspor  9.073101e+07\n",
       "1    2003     Impor  8.992527e+07\n",
       "2    2004    Ekspor  2.881418e+08\n",
       "3    2004     Impor  7.062367e+08\n",
       "4    2005    Ekspor  3.389396e+08\n",
       "5    2005     Impor  7.988338e+08\n",
       "6    2006    Ekspor  5.266414e+08\n",
       "7    2006     Impor  9.633541e+08\n",
       "8    2007    Ekspor  6.174775e+08\n",
       "9    2007     Impor  1.169206e+09\n",
       "10   2008    Ekspor  7.714539e+08\n",
       "11   2008     Impor  1.387212e+09\n",
       "12   2009    Ekspor  5.888769e+08\n",
       "13   2009     Impor  1.126891e+09\n",
       "14   2010    Ekspor  7.922166e+08\n",
       "15   2010     Impor  1.347418e+09\n",
       "16   2011    Ekspor  1.021809e+09\n",
       "17   2011     Impor  1.653549e+09\n",
       "18   2012    Ekspor  1.033139e+09\n",
       "19   2012     Impor  1.574406e+09\n",
       "20   2013    Ekspor  9.154639e+08\n",
       "21   2013     Impor  1.612015e+09\n",
       "22   2014    Ekspor  8.847495e+08\n",
       "23   2014     Impor  1.563224e+09\n",
       "24   2015    Ekspor  6.558093e+08\n",
       "25   2015     Impor  1.327239e+09\n",
       "26   2016    Ekspor  6.090906e+08\n",
       "27   2016     Impor  1.266591e+09\n",
       "28   2017    Ekspor  6.946889e+08\n",
       "29   2017     Impor  1.384376e+09\n",
       "30   2018    Ekspor  7.932948e+08\n",
       "31   2018     Impor  1.534256e+09\n",
       "32   2019    Ekspor  7.995102e+08\n",
       "33   2019     Impor  1.472521e+09\n",
       "34   2020    Ekspor  6.759085e+08\n",
       "35   2020     Impor  1.347242e+09\n",
       "36   2021    Ekspor  9.177716e+08\n",
       "37   2021     Impor  1.739594e+09\n",
       "38   2022    Ekspor  1.109110e+09\n",
       "39   2022     Impor  2.001044e+09\n",
       "40   2023    Ekspor  6.614703e+08\n",
       "41   2023     Impor  1.439711e+09"
      ]
     },
     "execution_count": 29,
     "metadata": {},
     "output_type": "execute_result"
    }
   ],
   "source": [
    "#1 Jumlah  ekspor,  jumlah  impor,  dan  neraca  perdagangan  dan  volume  perdagangan Indonesia tahun terakhir\n",
    "no1_df = final_df.groupby(['Tahun', 'Indikator']).agg({'Jumlah': 'sum'}).reset_index()\n",
    "\n",
    "no1_df"
   ]
  },
  {
   "cell_type": "code",
   "execution_count": 30,
   "id": "7fb36733",
   "metadata": {},
   "outputs": [
    {
     "name": "stdout",
     "output_type": "stream",
     "text": [
      "    Tahun Indikator      Jumlah\n",
      "40   2023    Ekspor   661470328\n",
      "41   2023     Impor  1439710962\n"
     ]
    }
   ],
   "source": [
    "no1_df['Jumlah'] = no1_df['Jumlah'].astype(int)\n",
    "print(no1_df.tail(2))"
   ]
  },
  {
   "cell_type": "code",
   "execution_count": 31,
   "id": "dc5ab6eb",
   "metadata": {},
   "outputs": [
    {
     "name": "stdout",
     "output_type": "stream",
     "text": [
      "Ekspor 2023: 661,470,328 USD\n",
      "Impor  2023: 1,439,710,962 USD\n",
      "Neraca 2023: -778,240,634 USD\n",
      "Volume 2023: 2,101,181,290 USD\n"
     ]
    }
   ],
   "source": [
    "# Jumlah ekspor, jumlah impor, dan neraca perdagangan Indonesia tahun terakhir\n",
    "ekspor_n1 = no1_df.query(\"Indikator == 'Ekspor' and Tahun == 2023\")['Jumlah'].values[0]\n",
    "impor_n1 = no1_df.query(\"Indikator == 'Impor' and Tahun == 2023\")['Jumlah'].values[0]\n",
    "\n",
    "neraca_n1 = ekspor_n1 - impor_n1\n",
    "volume_n1 = ekspor_n1 + impor_n1\n",
    "\n",
    "print(f\"Ekspor 2023: {ekspor_n1:,.0f} USD\")\n",
    "print(f\"Impor  2023: {impor_n1:,.0f} USD\")\n",
    "print(f\"Neraca 2023: {neraca_n1:,.0f} USD\")\n",
    "print(f\"Volume 2023: {volume_n1:,.0f} USD\")"
   ]
  },
  {
   "cell_type": "code",
   "execution_count": 119,
   "id": "cf0f024f",
   "metadata": {},
   "outputs": [
    {
     "data": {
      "image/png": "[encoded data removed]",
      "text/plain": [
       "<Figure size 1000x600 with 1 Axes>"
      ]
     },
     "metadata": {},
     "output_type": "display_data"
    }
   ],
   "source": [
    "# Visualization Card\n",
    "metrics = ['Ekspor', 'Impor', 'Neraca', 'Volume']\n",
    "values = [ekspor_n1, impor_n1, neraca_n1, volume_n1]\n",
    "values_in_billion = [v / 1e9 for v in values]\n",
    "\n",
    "plt.figure(figsize=(10, 6))\n",
    "bars = plt.bar(metrics, values_in_billion, color=['lightblue', 'indianred', 'seagreen', 'mediumpurple'], edgecolor='black')\n",
    "\n",
    "\n",
    "for bar, value in zip(bars, values_in_billion):\n",
    "    plt.text(bar.get_x() + bar.get_width() / 2, bar.get_height() + 0.03 if bar.get_height()>0 else bar.get_height()  -0.03, \n",
    "             f\"{value:.3f} M\", ha='center', va='bottom' if value>0 else 'top', fontsize=11)\n",
    "\n",
    "plt.title('Jumlah ekspor, jumlah impor, dan neraca perdagangan Indonesia (2023)', fontsize=14)\n",
    "plt.ylabel('Nilai (Milyar USD)', fontsize=12)\n",
    "plt.grid(axis='y', linestyle='--', alpha=0.7)\n",
    "plt.axhline(0, color='black', linestyle='--', linewidth=1)\n",
    "plt.tight_layout()\n",
    "plt.show()\n"
   ]
  },
  {
   "cell_type": "code",
   "execution_count": 32,
   "id": "f091d444",
   "metadata": {},
   "outputs": [],
   "source": [
    "#4 Top 10 negara ekspor dan impor Indonesia\n",
    "no2_df = final_df.groupby(['Negara', 'Indikator']).agg({'Jumlah': 'sum'}).reset_index()\n",
    "no2_df['Jumlah'] = no2_df['Jumlah'].astype(int)\n",
    "\n",
    "no2_df_ekspor = no2_df[no2_df['Indikator'] == 'Ekspor'].sort_values(by='Jumlah', ascending=False).head(10).reset_index()\n",
    "no2_df_impor = no2_df[no2_df['Indikator'] == 'Impor'].sort_values(by='Jumlah', ascending=False).head(10).reset_index()"
   ]
  },
  {
   "cell_type": "code",
   "execution_count": 33,
   "id": "02335cc9",
   "metadata": {},
   "outputs": [
    {
     "data": {
      "application/vnd.microsoft.datawrangler.viewer.v0+json": {
       "columns": [
        {
         "name": "index",
         "rawType": "int64",
         "type": "integer"
        },
        {
         "name": "index",
         "rawType": "int64",
         "type": "integer"
        },
        {
         "name": "Negara",
         "rawType": "object",
         "type": "string"
        },
        {
         "name": "Indikator",
         "rawType": "object",
         "type": "string"
        },
        {
         "name": "Jumlah",
         "rawType": "int64",
         "type": "integer"
        }
       ],
       "ref": "fc3a18fb-82fc-42cc-936f-a15947a534fb",
       "rows": [
        [
         "0",
         "21",
         "Australia",
         "Ekspor",
         "4562058309"
        ],
        [
         "1",
         "23",
         "Austria",
         "Ekspor",
         "3215066352"
        ],
        [
         "2",
         "52",
         "Nigeria",
         "Ekspor",
         "2369959527"
        ],
        [
         "3",
         "15",
         "Argentina",
         "Ekspor",
         "1265922938"
        ],
        [
         "4",
         "4",
         "Algeria",
         "Ekspor",
         "978634288"
        ],
        [
         "5",
         "10",
         "Angola",
         "Ekspor",
         "696058005"
        ],
        [
         "6",
         "31",
         "Bangladesh",
         "Ekspor",
         "543121249"
        ],
        [
         "7",
         "54",
         "Panama",
         "Ekspor",
         "407940373"
        ],
        [
         "8",
         "25",
         "Azerbaijan",
         "Ekspor",
         "357214714"
        ],
        [
         "9",
         "29",
         "Bahrain",
         "Ekspor",
         "288718050"
        ]
       ],
       "shape": {
        "columns": 4,
        "rows": 10
       }
      },
      "text/html": [
       "<div>\n",
       "<style scoped>\n",
       "    .dataframe tbody tr th:only-of-type {\n",
       "        vertical-align: middle;\n",
       "    }\n",
       "\n",
       "    .dataframe tbody tr th {\n",
       "        vertical-align: top;\n",
       "    }\n",
       "\n",
       "    .dataframe thead th {\n",
       "        text-align: right;\n",
       "    }\n",
       "</style>\n",
       "<table border=\"1\" class=\"dataframe\">\n",
       "  <thead>\n",
       "    <tr style=\"text-align: right;\">\n",
       "      <th></th>\n",
       "      <th>index</th>\n",
       "      <th>Negara</th>\n",
       "      <th>Indikator</th>\n",
       "      <th>Jumlah</th>\n",
       "    </tr>\n",
       "  </thead>\n",
       "  <tbody>\n",
       "    <tr>\n",
       "      <th>0</th>\n",
       "      <td>21</td>\n",
       "      <td>Australia</td>\n",
       "      <td>Ekspor</td>\n",
       "      <td>4562058309</td>\n",
       "    </tr>\n",
       "    <tr>\n",
       "      <th>1</th>\n",
       "      <td>23</td>\n",
       "      <td>Austria</td>\n",
       "      <td>Ekspor</td>\n",
       "      <td>3215066352</td>\n",
       "    </tr>\n",
       "    <tr>\n",
       "      <th>2</th>\n",
       "      <td>52</td>\n",
       "      <td>Nigeria</td>\n",
       "      <td>Ekspor</td>\n",
       "      <td>2369959527</td>\n",
       "    </tr>\n",
       "    <tr>\n",
       "      <th>3</th>\n",
       "      <td>15</td>\n",
       "      <td>Argentina</td>\n",
       "      <td>Ekspor</td>\n",
       "      <td>1265922938</td>\n",
       "    </tr>\n",
       "    <tr>\n",
       "      <th>4</th>\n",
       "      <td>4</td>\n",
       "      <td>Algeria</td>\n",
       "      <td>Ekspor</td>\n",
       "      <td>978634288</td>\n",
       "    </tr>\n",
       "    <tr>\n",
       "      <th>5</th>\n",
       "      <td>10</td>\n",
       "      <td>Angola</td>\n",
       "      <td>Ekspor</td>\n",
       "      <td>696058005</td>\n",
       "    </tr>\n",
       "    <tr>\n",
       "      <th>6</th>\n",
       "      <td>31</td>\n",
       "      <td>Bangladesh</td>\n",
       "      <td>Ekspor</td>\n",
       "      <td>543121249</td>\n",
       "    </tr>\n",
       "    <tr>\n",
       "      <th>7</th>\n",
       "      <td>54</td>\n",
       "      <td>Panama</td>\n",
       "      <td>Ekspor</td>\n",
       "      <td>407940373</td>\n",
       "    </tr>\n",
       "    <tr>\n",
       "      <th>8</th>\n",
       "      <td>25</td>\n",
       "      <td>Azerbaijan</td>\n",
       "      <td>Ekspor</td>\n",
       "      <td>357214714</td>\n",
       "    </tr>\n",
       "    <tr>\n",
       "      <th>9</th>\n",
       "      <td>29</td>\n",
       "      <td>Bahrain</td>\n",
       "      <td>Ekspor</td>\n",
       "      <td>288718050</td>\n",
       "    </tr>\n",
       "  </tbody>\n",
       "</table>\n",
       "</div>"
      ],
      "text/plain": [
       "   index      Negara Indikator      Jumlah\n",
       "0     21   Australia    Ekspor  4562058309\n",
       "1     23     Austria    Ekspor  3215066352\n",
       "2     52     Nigeria    Ekspor  2369959527\n",
       "3     15   Argentina    Ekspor  1265922938\n",
       "4      4     Algeria    Ekspor   978634288\n",
       "5     10      Angola    Ekspor   696058005\n",
       "6     31  Bangladesh    Ekspor   543121249\n",
       "7     54      Panama    Ekspor   407940373\n",
       "8     25  Azerbaijan    Ekspor   357214714\n",
       "9     29     Bahrain    Ekspor   288718050"
      ]
     },
     "execution_count": 33,
     "metadata": {},
     "output_type": "execute_result"
    }
   ],
   "source": [
    "no2_df_ekspor"
   ]
  },
  {
   "cell_type": "code",
   "execution_count": 34,
   "id": "256fece9",
   "metadata": {},
   "outputs": [
    {
     "data": {
      "application/vnd.microsoft.datawrangler.viewer.v0+json": {
       "columns": [
        {
         "name": "index",
         "rawType": "int64",
         "type": "integer"
        },
        {
         "name": "index",
         "rawType": "int64",
         "type": "integer"
        },
        {
         "name": "Negara",
         "rawType": "object",
         "type": "string"
        },
        {
         "name": "Indikator",
         "rawType": "object",
         "type": "string"
        },
        {
         "name": "Jumlah",
         "rawType": "int64",
         "type": "integer"
        }
       ],
       "ref": "7233636a-f23b-4952-82e2-bdd6f48b88af",
       "rows": [
        [
         "0",
         "35",
         "Belgium",
         "Impor",
         "8535129969"
        ],
        [
         "1",
         "22",
         "Australia",
         "Impor",
         "4126311449"
        ],
        [
         "2",
         "45",
         "Brazil",
         "Impor",
         "3560997772"
        ],
        [
         "3",
         "24",
         "Austria",
         "Impor",
         "3333724481"
        ],
        [
         "4",
         "53",
         "Nigeria",
         "Impor",
         "1407878455"
        ],
        [
         "5",
         "16",
         "Argentina",
         "Impor",
         "1113564550"
        ],
        [
         "6",
         "5",
         "Algeria",
         "Impor",
         "777286427"
        ],
        [
         "7",
         "32",
         "Bangladesh",
         "Impor",
         "732887715"
        ],
        [
         "8",
         "55",
         "Panama",
         "Impor",
         "700688525"
        ],
        [
         "9",
         "50",
         "Bulgaria",
         "Impor",
         "667242651"
        ]
       ],
       "shape": {
        "columns": 4,
        "rows": 10
       }
      },
      "text/html": [
       "<div>\n",
       "<style scoped>\n",
       "    .dataframe tbody tr th:only-of-type {\n",
       "        vertical-align: middle;\n",
       "    }\n",
       "\n",
       "    .dataframe tbody tr th {\n",
       "        vertical-align: top;\n",
       "    }\n",
       "\n",
       "    .dataframe thead th {\n",
       "        text-align: right;\n",
       "    }\n",
       "</style>\n",
       "<table border=\"1\" class=\"dataframe\">\n",
       "  <thead>\n",
       "    <tr style=\"text-align: right;\">\n",
       "      <th></th>\n",
       "      <th>index</th>\n",
       "      <th>Negara</th>\n",
       "      <th>Indikator</th>\n",
       "      <th>Jumlah</th>\n",
       "    </tr>\n",
       "  </thead>\n",
       "  <tbody>\n",
       "    <tr>\n",
       "      <th>0</th>\n",
       "      <td>35</td>\n",
       "      <td>Belgium</td>\n",
       "      <td>Impor</td>\n",
       "      <td>8535129969</td>\n",
       "    </tr>\n",
       "    <tr>\n",
       "      <th>1</th>\n",
       "      <td>22</td>\n",
       "      <td>Australia</td>\n",
       "      <td>Impor</td>\n",
       "      <td>4126311449</td>\n",
       "    </tr>\n",
       "    <tr>\n",
       "      <th>2</th>\n",
       "      <td>45</td>\n",
       "      <td>Brazil</td>\n",
       "      <td>Impor</td>\n",
       "      <td>3560997772</td>\n",
       "    </tr>\n",
       "    <tr>\n",
       "      <th>3</th>\n",
       "      <td>24</td>\n",
       "      <td>Austria</td>\n",
       "      <td>Impor</td>\n",
       "      <td>3333724481</td>\n",
       "    </tr>\n",
       "    <tr>\n",
       "      <th>4</th>\n",
       "      <td>53</td>\n",
       "      <td>Nigeria</td>\n",
       "      <td>Impor</td>\n",
       "      <td>1407878455</td>\n",
       "    </tr>\n",
       "    <tr>\n",
       "      <th>5</th>\n",
       "      <td>16</td>\n",
       "      <td>Argentina</td>\n",
       "      <td>Impor</td>\n",
       "      <td>1113564550</td>\n",
       "    </tr>\n",
       "    <tr>\n",
       "      <th>6</th>\n",
       "      <td>5</td>\n",
       "      <td>Algeria</td>\n",
       "      <td>Impor</td>\n",
       "      <td>777286427</td>\n",
       "    </tr>\n",
       "    <tr>\n",
       "      <th>7</th>\n",
       "      <td>32</td>\n",
       "      <td>Bangladesh</td>\n",
       "      <td>Impor</td>\n",
       "      <td>732887715</td>\n",
       "    </tr>\n",
       "    <tr>\n",
       "      <th>8</th>\n",
       "      <td>55</td>\n",
       "      <td>Panama</td>\n",
       "      <td>Impor</td>\n",
       "      <td>700688525</td>\n",
       "    </tr>\n",
       "    <tr>\n",
       "      <th>9</th>\n",
       "      <td>50</td>\n",
       "      <td>Bulgaria</td>\n",
       "      <td>Impor</td>\n",
       "      <td>667242651</td>\n",
       "    </tr>\n",
       "  </tbody>\n",
       "</table>\n",
       "</div>"
      ],
      "text/plain": [
       "   index      Negara Indikator      Jumlah\n",
       "0     35     Belgium     Impor  8535129969\n",
       "1     22   Australia     Impor  4126311449\n",
       "2     45      Brazil     Impor  3560997772\n",
       "3     24     Austria     Impor  3333724481\n",
       "4     53     Nigeria     Impor  1407878455\n",
       "5     16   Argentina     Impor  1113564550\n",
       "6      5     Algeria     Impor   777286427\n",
       "7     32  Bangladesh     Impor   732887715\n",
       "8     55      Panama     Impor   700688525\n",
       "9     50    Bulgaria     Impor   667242651"
      ]
     },
     "execution_count": 34,
     "metadata": {},
     "output_type": "execute_result"
    }
   ],
   "source": [
    "no2_df_impor"
   ]
  },
  {
   "cell_type": "code",
   "execution_count": 35,
   "id": "6ebb7e9c",
   "metadata": {},
   "outputs": [
    {
     "name": "stdout",
     "output_type": "stream",
     "text": [
      "Top 10 Negara Impor Indonesia\n",
      "       Negara         Jumlah\n",
      "0     Belgium  8,535,129,969\n",
      "1   Australia  4,126,311,449\n",
      "2      Brazil  3,560,997,772\n",
      "3     Austria  3,333,724,481\n",
      "4     Nigeria  1,407,878,455\n",
      "5   Argentina  1,113,564,550\n",
      "6     Algeria    777,286,427\n",
      "7  Bangladesh    732,887,715\n",
      "8      Panama    700,688,525\n",
      "9    Bulgaria    667,242,651\n",
      "\n",
      "Top 10 Negara Ekspor Indonesia\n",
      "       Negara         Jumlah\n",
      "0   Australia  4,562,058,309\n",
      "1     Austria  3,215,066,352\n",
      "2     Nigeria  2,369,959,527\n",
      "3   Argentina  1,265,922,938\n",
      "4     Algeria    978,634,288\n",
      "5      Angola    696,058,005\n",
      "6  Bangladesh    543,121,249\n",
      "7      Panama    407,940,373\n",
      "8  Azerbaijan    357,214,714\n",
      "9     Bahrain    288,718,050\n"
     ]
    }
   ],
   "source": [
    "print(\"Top 10 Negara Impor Indonesia\")\n",
    "print(no2_df_impor[['Negara', 'Jumlah']].assign(Jumlah=no2_df_impor['Jumlah'].apply(lambda x: f\"{x:,.0f}\")))\n",
    "print(\"\")\n",
    "print(\"Top 10 Negara Ekspor Indonesia\")\n",
    "print(no2_df_ekspor[['Negara', 'Jumlah']].assign(Jumlah=no2_df_ekspor['Jumlah'].apply(lambda x: f\"{x:,.0f}\")))"
   ]
  },
  {
   "cell_type": "code",
   "execution_count": 36,
   "id": "58366d3e",
   "metadata": {},
   "outputs": [
    {
     "data": {
      "image/png": "[encoded data removed]",
      "text/plain": [
       "<Figure size 1400x700 with 2 Axes>"
      ]
     },
     "metadata": {},
     "output_type": "display_data"
    }
   ],
   "source": [
    "# Plotting\n",
    "plt.figure(figsize=(14, 7))\n",
    "plt.subplot(1, 2, 1)\n",
    "plt.barh(no2_df_ekspor['Negara'], no2_df_ekspor['Jumlah'], color='blue')\n",
    "plt.title('Top 10 Negara Ekspor Indonesia (2023)')\n",
    "plt.xlabel('Jumlah (USD)')\n",
    "plt.subplot(1, 2, 2)\n",
    "plt.barh(no2_df_impor['Negara'], no2_df_impor['Jumlah'], color='red')\n",
    "plt.title('Top 10 Negara Impor Indonesia (2023)')\n",
    "plt.xlabel('Jumlah (USD)')\n",
    "plt.show()\n"
   ]
  },
  {
   "cell_type": "code",
   "execution_count": 37,
   "id": "02477e61",
   "metadata": {},
   "outputs": [
    {
     "data": {
      "image/png": "[encoded data removed]",
      "text/plain": [
       "<Figure size 1600x800 with 2 Axes>"
      ]
     },
     "metadata": {},
     "output_type": "display_data"
    }
   ],
   "source": [
    "# convert to mil\n",
    "no2_df_ekspor_vis = no2_df_ekspor.copy()\n",
    "no2_df_impor_vis = no2_df_impor.copy()\n",
    "\n",
    "no2_df_ekspor_vis['Jumlah'] = no2_df_ekspor_vis['Jumlah'] / 1e9\n",
    "no2_df_impor_vis['Jumlah'] = no2_df_impor_vis['Jumlah'] / 1e9\n",
    "\n",
    "plt.figure(figsize=(16, 8))\n",
    "\n",
    "# t10 ekspor\n",
    "plt.subplot(1, 2, 1)\n",
    "plt.barh(no2_df_ekspor_vis['Negara'], no2_df_ekspor_vis['Jumlah'], color='skyblue', edgecolor='black')\n",
    "plt.title('Top 10 Negara Ekspor Indonesia (2023)', fontsize=14)\n",
    "plt.xlabel('Jumlah (Milyar USD)', fontsize=12)\n",
    "plt.ylabel('Negara', fontsize=14)\n",
    "plt.grid(axis='x', linestyle='--', alpha=0.7)\n",
    "for i, v in enumerate(no2_df_ekspor_vis['Jumlah']):\n",
    "    plt.text(v, i, f\" {v:.2f}\", va='center', ha='left', rotation=45, fontsize=11)\n",
    "\n",
    "# t10 impor\n",
    "plt.subplot(1, 2, 2)\n",
    "plt.barh(no2_df_impor_vis['Negara'], no2_df_impor_vis['Jumlah'], color='salmon', edgecolor='black')\n",
    "plt.title('Top 10 Negara Impor Indonesia (2023)', fontsize=14)\n",
    "plt.xlabel('Jumlah (Milyar USD)', fontsize=12)\n",
    "plt.ylabel('Negara', fontsize=14)\n",
    "plt.grid(axis='x', linestyle='--', alpha=0.7)\n",
    "for i, v in enumerate(no2_df_impor_vis['Jumlah']):\n",
    "    plt.text(v, i, f\" {v:.2f}\", va='center', ha='left', rotation=45, fontsize=11)\n",
    "\n",
    "# Adjust layout and display the plots\n",
    "plt.tight_layout()\n",
    "plt.show()"
   ]
  },
  {
   "cell_type": "code",
   "execution_count": 38,
   "id": "0d477b02",
   "metadata": {},
   "outputs": [],
   "source": [
    "#5 Grafik  tren  nilai  ekspor,  impor,  neraca  perdagangan,  volume  perdagangan  (pilih: berdasarkan negara atau berdasarkan produk (kode hs/label)\n",
    "\n",
    "no5_trend_df = final_df.groupby(['Tahun', 'Indikator']).agg({'Jumlah': 'sum'}).reset_index()\n",
    "\n",
    "no5_trend_pivot = no5_trend_df.pivot(index='Tahun', columns='Indikator', values='Jumlah').reset_index()\n",
    "\n",
    "# get neraca & volume\n",
    "no5_trend_pivot['Neraca'] = no5_trend_pivot['Ekspor'] - no5_trend_pivot['Impor']\n",
    "no5_trend_pivot['Volume'] = no5_trend_pivot['Ekspor'] + no5_trend_pivot['Impor']\n"
   ]
  },
  {
   "cell_type": "code",
   "execution_count": 39,
   "id": "dd3c957b",
   "metadata": {},
   "outputs": [
    {
     "data": {
      "application/vnd.microsoft.datawrangler.viewer.v0+json": {
       "columns": [
        {
         "name": "index",
         "rawType": "int64",
         "type": "integer"
        },
        {
         "name": "Tahun",
         "rawType": "int64",
         "type": "integer"
        },
        {
         "name": "Ekspor",
         "rawType": "float64",
         "type": "float"
        },
        {
         "name": "Impor",
         "rawType": "float64",
         "type": "float"
        },
        {
         "name": "Neraca",
         "rawType": "float64",
         "type": "float"
        },
        {
         "name": "Volume",
         "rawType": "float64",
         "type": "float"
        }
       ],
       "ref": "80ed1fb3-622c-4ff0-a404-984551b05961",
       "rows": [
        [
         "0",
         "2003",
         "90731009.0",
         "89925272.0",
         "805737.0",
         "180656281.0"
        ],
        [
         "1",
         "2004",
         "288141791.0",
         "706236727.0",
         "-418094936.0",
         "994378518.0"
        ],
        [
         "2",
         "2005",
         "338939630.0",
         "798833834.0",
         "-459894204.0",
         "1137773464.0"
        ],
        [
         "3",
         "2006",
         "526641366.0",
         "963354075.0",
         "-436712709.0",
         "1489995441.0"
        ],
        [
         "4",
         "2007",
         "617477508.0",
         "1169205977.0",
         "-551728469.0",
         "1786683485.0"
        ],
        [
         "5",
         "2008",
         "771453879.0",
         "1387211734.0",
         "-615757855.0",
         "2158665613.0"
        ],
        [
         "6",
         "2009",
         "588876871.0",
         "1126891281.0",
         "-538014410.0",
         "1715768152.0"
        ],
        [
         "7",
         "2010",
         "792216613.0",
         "1347418160.0",
         "-555201547.0",
         "2139634773.0"
        ],
        [
         "8",
         "2011",
         "1021808545.0",
         "1653549498.0",
         "-631740953.0",
         "2675358043.0"
        ],
        [
         "9",
         "2012",
         "1033139490.0",
         "1574405707.0",
         "-541266217.0",
         "2607545197.0"
        ],
        [
         "10",
         "2013",
         "915463915.0",
         "1612014542.0",
         "-696550627.0",
         "2527478457.0"
        ],
        [
         "11",
         "2014",
         "884749545.0",
         "1563223761.0",
         "-678474216.0",
         "2447973306.0"
        ],
        [
         "12",
         "2015",
         "655809289.0",
         "1327238551.0",
         "-671429262.0",
         "1983047840.0"
        ],
        [
         "13",
         "2016",
         "609090601.0",
         "1266590871.0",
         "-657500270.0",
         "1875681472.0"
        ],
        [
         "14",
         "2017",
         "694688867.0",
         "1384375791.0",
         "-689686924.0",
         "2079064658.0"
        ],
        [
         "15",
         "2018",
         "793294836.0",
         "1534255586.0",
         "-740960750.0",
         "2327550422.0"
        ],
        [
         "16",
         "2019",
         "799510242.0",
         "1472521180.0",
         "-673010938.0",
         "2272031422.0"
        ],
        [
         "17",
         "2020",
         "675908546.0",
         "1347241620.0",
         "-671333074.0",
         "2023150166.0"
        ],
        [
         "18",
         "2021",
         "917771552.0",
         "1739594214.0",
         "-821822662.0",
         "2657365766.0"
        ],
        [
         "19",
         "2022",
         "1109110039.0",
         "2001043715.0",
         "-891933676.0",
         "3110153754.0"
        ],
        [
         "20",
         "2023",
         "661470328.0",
         "1439710962.0",
         "-778240634.0",
         "2101181290.0"
        ]
       ],
       "shape": {
        "columns": 5,
        "rows": 21
       }
      },
      "text/html": [
       "<div>\n",
       "<style scoped>\n",
       "    .dataframe tbody tr th:only-of-type {\n",
       "        vertical-align: middle;\n",
       "    }\n",
       "\n",
       "    .dataframe tbody tr th {\n",
       "        vertical-align: top;\n",
       "    }\n",
       "\n",
       "    .dataframe thead th {\n",
       "        text-align: right;\n",
       "    }\n",
       "</style>\n",
       "<table border=\"1\" class=\"dataframe\">\n",
       "  <thead>\n",
       "    <tr style=\"text-align: right;\">\n",
       "      <th>Indikator</th>\n",
       "      <th>Tahun</th>\n",
       "      <th>Ekspor</th>\n",
       "      <th>Impor</th>\n",
       "      <th>Neraca</th>\n",
       "      <th>Volume</th>\n",
       "    </tr>\n",
       "  </thead>\n",
       "  <tbody>\n",
       "    <tr>\n",
       "      <th>0</th>\n",
       "      <td>2003</td>\n",
       "      <td>9.073101e+07</td>\n",
       "      <td>8.992527e+07</td>\n",
       "      <td>805737.0</td>\n",
       "      <td>1.806563e+08</td>\n",
       "    </tr>\n",
       "    <tr>\n",
       "      <th>1</th>\n",
       "      <td>2004</td>\n",
       "      <td>2.881418e+08</td>\n",
       "      <td>7.062367e+08</td>\n",
       "      <td>-418094936.0</td>\n",
       "      <td>9.943785e+08</td>\n",
       "    </tr>\n",
       "    <tr>\n",
       "      <th>2</th>\n",
       "      <td>2005</td>\n",
       "      <td>3.389396e+08</td>\n",
       "      <td>7.988338e+08</td>\n",
       "      <td>-459894204.0</td>\n",
       "      <td>1.137773e+09</td>\n",
       "    </tr>\n",
       "    <tr>\n",
       "      <th>3</th>\n",
       "      <td>2006</td>\n",
       "      <td>5.266414e+08</td>\n",
       "      <td>9.633541e+08</td>\n",
       "      <td>-436712709.0</td>\n",
       "      <td>1.489995e+09</td>\n",
       "    </tr>\n",
       "    <tr>\n",
       "      <th>4</th>\n",
       "      <td>2007</td>\n",
       "      <td>6.174775e+08</td>\n",
       "      <td>1.169206e+09</td>\n",
       "      <td>-551728469.0</td>\n",
       "      <td>1.786683e+09</td>\n",
       "    </tr>\n",
       "    <tr>\n",
       "      <th>5</th>\n",
       "      <td>2008</td>\n",
       "      <td>7.714539e+08</td>\n",
       "      <td>1.387212e+09</td>\n",
       "      <td>-615757855.0</td>\n",
       "      <td>2.158666e+09</td>\n",
       "    </tr>\n",
       "    <tr>\n",
       "      <th>6</th>\n",
       "      <td>2009</td>\n",
       "      <td>5.888769e+08</td>\n",
       "      <td>1.126891e+09</td>\n",
       "      <td>-538014410.0</td>\n",
       "      <td>1.715768e+09</td>\n",
       "    </tr>\n",
       "    <tr>\n",
       "      <th>7</th>\n",
       "      <td>2010</td>\n",
       "      <td>7.922166e+08</td>\n",
       "      <td>1.347418e+09</td>\n",
       "      <td>-555201547.0</td>\n",
       "      <td>2.139635e+09</td>\n",
       "    </tr>\n",
       "    <tr>\n",
       "      <th>8</th>\n",
       "      <td>2011</td>\n",
       "      <td>1.021809e+09</td>\n",
       "      <td>1.653549e+09</td>\n",
       "      <td>-631740953.0</td>\n",
       "      <td>2.675358e+09</td>\n",
       "    </tr>\n",
       "    <tr>\n",
       "      <th>9</th>\n",
       "      <td>2012</td>\n",
       "      <td>1.033139e+09</td>\n",
       "      <td>1.574406e+09</td>\n",
       "      <td>-541266217.0</td>\n",
       "      <td>2.607545e+09</td>\n",
       "    </tr>\n",
       "    <tr>\n",
       "      <th>10</th>\n",
       "      <td>2013</td>\n",
       "      <td>9.154639e+08</td>\n",
       "      <td>1.612015e+09</td>\n",
       "      <td>-696550627.0</td>\n",
       "      <td>2.527478e+09</td>\n",
       "    </tr>\n",
       "    <tr>\n",
       "      <th>11</th>\n",
       "      <td>2014</td>\n",
       "      <td>8.847495e+08</td>\n",
       "      <td>1.563224e+09</td>\n",
       "      <td>-678474216.0</td>\n",
       "      <td>2.447973e+09</td>\n",
       "    </tr>\n",
       "    <tr>\n",
       "      <th>12</th>\n",
       "      <td>2015</td>\n",
       "      <td>6.558093e+08</td>\n",
       "      <td>1.327239e+09</td>\n",
       "      <td>-671429262.0</td>\n",
       "      <td>1.983048e+09</td>\n",
       "    </tr>\n",
       "    <tr>\n",
       "      <th>13</th>\n",
       "      <td>2016</td>\n",
       "      <td>6.090906e+08</td>\n",
       "      <td>1.266591e+09</td>\n",
       "      <td>-657500270.0</td>\n",
       "      <td>1.875681e+09</td>\n",
       "    </tr>\n",
       "    <tr>\n",
       "      <th>14</th>\n",
       "      <td>2017</td>\n",
       "      <td>6.946889e+08</td>\n",
       "      <td>1.384376e+09</td>\n",
       "      <td>-689686924.0</td>\n",
       "      <td>2.079065e+09</td>\n",
       "    </tr>\n",
       "    <tr>\n",
       "      <th>15</th>\n",
       "      <td>2018</td>\n",
       "      <td>7.932948e+08</td>\n",
       "      <td>1.534256e+09</td>\n",
       "      <td>-740960750.0</td>\n",
       "      <td>2.327550e+09</td>\n",
       "    </tr>\n",
       "    <tr>\n",
       "      <th>16</th>\n",
       "      <td>2019</td>\n",
       "      <td>7.995102e+08</td>\n",
       "      <td>1.472521e+09</td>\n",
       "      <td>-673010938.0</td>\n",
       "      <td>2.272031e+09</td>\n",
       "    </tr>\n",
       "    <tr>\n",
       "      <th>17</th>\n",
       "      <td>2020</td>\n",
       "      <td>6.759085e+08</td>\n",
       "      <td>1.347242e+09</td>\n",
       "      <td>-671333074.0</td>\n",
       "      <td>2.023150e+09</td>\n",
       "    </tr>\n",
       "    <tr>\n",
       "      <th>18</th>\n",
       "      <td>2021</td>\n",
       "      <td>9.177716e+08</td>\n",
       "      <td>1.739594e+09</td>\n",
       "      <td>-821822662.0</td>\n",
       "      <td>2.657366e+09</td>\n",
       "    </tr>\n",
       "    <tr>\n",
       "      <th>19</th>\n",
       "      <td>2022</td>\n",
       "      <td>1.109110e+09</td>\n",
       "      <td>2.001044e+09</td>\n",
       "      <td>-891933676.0</td>\n",
       "      <td>3.110154e+09</td>\n",
       "    </tr>\n",
       "    <tr>\n",
       "      <th>20</th>\n",
       "      <td>2023</td>\n",
       "      <td>6.614703e+08</td>\n",
       "      <td>1.439711e+09</td>\n",
       "      <td>-778240634.0</td>\n",
       "      <td>2.101181e+09</td>\n",
       "    </tr>\n",
       "  </tbody>\n",
       "</table>\n",
       "</div>"
      ],
      "text/plain": [
       "Indikator  Tahun        Ekspor         Impor       Neraca        Volume\n",
       "0           2003  9.073101e+07  8.992527e+07     805737.0  1.806563e+08\n",
       "1           2004  2.881418e+08  7.062367e+08 -418094936.0  9.943785e+08\n",
       "2           2005  3.389396e+08  7.988338e+08 -459894204.0  1.137773e+09\n",
       "3           2006  5.266414e+08  9.633541e+08 -436712709.0  1.489995e+09\n",
       "4           2007  6.174775e+08  1.169206e+09 -551728469.0  1.786683e+09\n",
       "5           2008  7.714539e+08  1.387212e+09 -615757855.0  2.158666e+09\n",
       "6           2009  5.888769e+08  1.126891e+09 -538014410.0  1.715768e+09\n",
       "7           2010  7.922166e+08  1.347418e+09 -555201547.0  2.139635e+09\n",
       "8           2011  1.021809e+09  1.653549e+09 -631740953.0  2.675358e+09\n",
       "9           2012  1.033139e+09  1.574406e+09 -541266217.0  2.607545e+09\n",
       "10          2013  9.154639e+08  1.612015e+09 -696550627.0  2.527478e+09\n",
       "11          2014  8.847495e+08  1.563224e+09 -678474216.0  2.447973e+09\n",
       "12          2015  6.558093e+08  1.327239e+09 -671429262.0  1.983048e+09\n",
       "13          2016  6.090906e+08  1.266591e+09 -657500270.0  1.875681e+09\n",
       "14          2017  6.946889e+08  1.384376e+09 -689686924.0  2.079065e+09\n",
       "15          2018  7.932948e+08  1.534256e+09 -740960750.0  2.327550e+09\n",
       "16          2019  7.995102e+08  1.472521e+09 -673010938.0  2.272031e+09\n",
       "17          2020  6.759085e+08  1.347242e+09 -671333074.0  2.023150e+09\n",
       "18          2021  9.177716e+08  1.739594e+09 -821822662.0  2.657366e+09\n",
       "19          2022  1.109110e+09  2.001044e+09 -891933676.0  3.110154e+09\n",
       "20          2023  6.614703e+08  1.439711e+09 -778240634.0  2.101181e+09"
      ]
     },
     "execution_count": 39,
     "metadata": {},
     "output_type": "execute_result"
    }
   ],
   "source": [
    "no5_trend_pivot"
   ]
  },
  {
   "cell_type": "code",
   "execution_count": 40,
   "id": "b897e77e",
   "metadata": {},
   "outputs": [
    {
     "data": {
      "application/vnd.microsoft.datawrangler.viewer.v0+json": {
       "columns": [
        {
         "name": "index",
         "rawType": "int64",
         "type": "integer"
        },
        {
         "name": "Tahun",
         "rawType": "int64",
         "type": "integer"
        },
        {
         "name": "Ekspor",
         "rawType": "float64",
         "type": "float"
        },
        {
         "name": "Impor",
         "rawType": "float64",
         "type": "float"
        },
        {
         "name": "Neraca",
         "rawType": "float64",
         "type": "float"
        },
        {
         "name": "Volume",
         "rawType": "float64",
         "type": "float"
        }
       ],
       "ref": "1559eb68-9dda-4ffb-941d-30977f51e5bc",
       "rows": [
        [
         "0",
         "2003",
         "0.090731009",
         "0.089925272",
         "0.000805737",
         "0.180656281"
        ],
        [
         "1",
         "2004",
         "0.288141791",
         "0.706236727",
         "-0.418094936",
         "0.994378518"
        ],
        [
         "2",
         "2005",
         "0.33893963",
         "0.798833834",
         "-0.459894204",
         "1.137773464"
        ],
        [
         "3",
         "2006",
         "0.526641366",
         "0.963354075",
         "-0.436712709",
         "1.489995441"
        ],
        [
         "4",
         "2007",
         "0.617477508",
         "1.169205977",
         "-0.551728469",
         "1.786683485"
        ],
        [
         "5",
         "2008",
         "0.771453879",
         "1.387211734",
         "-0.615757855",
         "2.158665613"
        ],
        [
         "6",
         "2009",
         "0.588876871",
         "1.126891281",
         "-0.53801441",
         "1.715768152"
        ],
        [
         "7",
         "2010",
         "0.792216613",
         "1.34741816",
         "-0.555201547",
         "2.139634773"
        ],
        [
         "8",
         "2011",
         "1.021808545",
         "1.653549498",
         "-0.631740953",
         "2.675358043"
        ],
        [
         "9",
         "2012",
         "1.03313949",
         "1.574405707",
         "-0.541266217",
         "2.607545197"
        ],
        [
         "10",
         "2013",
         "0.915463915",
         "1.612014542",
         "-0.696550627",
         "2.527478457"
        ],
        [
         "11",
         "2014",
         "0.884749545",
         "1.563223761",
         "-0.678474216",
         "2.447973306"
        ],
        [
         "12",
         "2015",
         "0.655809289",
         "1.327238551",
         "-0.671429262",
         "1.98304784"
        ],
        [
         "13",
         "2016",
         "0.609090601",
         "1.266590871",
         "-0.65750027",
         "1.875681472"
        ],
        [
         "14",
         "2017",
         "0.694688867",
         "1.384375791",
         "-0.689686924",
         "2.079064658"
        ],
        [
         "15",
         "2018",
         "0.793294836",
         "1.534255586",
         "-0.74096075",
         "2.327550422"
        ],
        [
         "16",
         "2019",
         "0.799510242",
         "1.47252118",
         "-0.673010938",
         "2.272031422"
        ],
        [
         "17",
         "2020",
         "0.675908546",
         "1.34724162",
         "-0.671333074",
         "2.023150166"
        ],
        [
         "18",
         "2021",
         "0.917771552",
         "1.739594214",
         "-0.821822662",
         "2.657365766"
        ],
        [
         "19",
         "2022",
         "1.109110039",
         "2.001043715",
         "-0.891933676",
         "3.110153754"
        ],
        [
         "20",
         "2023",
         "0.661470328",
         "1.439710962",
         "-0.778240634",
         "2.10118129"
        ]
       ],
       "shape": {
        "columns": 5,
        "rows": 21
       }
      },
      "text/html": [
       "<div>\n",
       "<style scoped>\n",
       "    .dataframe tbody tr th:only-of-type {\n",
       "        vertical-align: middle;\n",
       "    }\n",
       "\n",
       "    .dataframe tbody tr th {\n",
       "        vertical-align: top;\n",
       "    }\n",
       "\n",
       "    .dataframe thead th {\n",
       "        text-align: right;\n",
       "    }\n",
       "</style>\n",
       "<table border=\"1\" class=\"dataframe\">\n",
       "  <thead>\n",
       "    <tr style=\"text-align: right;\">\n",
       "      <th>Indikator</th>\n",
       "      <th>Tahun</th>\n",
       "      <th>Ekspor</th>\n",
       "      <th>Impor</th>\n",
       "      <th>Neraca</th>\n",
       "      <th>Volume</th>\n",
       "    </tr>\n",
       "  </thead>\n",
       "  <tbody>\n",
       "    <tr>\n",
       "      <th>0</th>\n",
       "      <td>2003</td>\n",
       "      <td>0.090731</td>\n",
       "      <td>0.089925</td>\n",
       "      <td>0.000806</td>\n",
       "      <td>0.180656</td>\n",
       "    </tr>\n",
       "    <tr>\n",
       "      <th>1</th>\n",
       "      <td>2004</td>\n",
       "      <td>0.288142</td>\n",
       "      <td>0.706237</td>\n",
       "      <td>-0.418095</td>\n",
       "      <td>0.994379</td>\n",
       "    </tr>\n",
       "    <tr>\n",
       "      <th>2</th>\n",
       "      <td>2005</td>\n",
       "      <td>0.338940</td>\n",
       "      <td>0.798834</td>\n",
       "      <td>-0.459894</td>\n",
       "      <td>1.137773</td>\n",
       "    </tr>\n",
       "    <tr>\n",
       "      <th>3</th>\n",
       "      <td>2006</td>\n",
       "      <td>0.526641</td>\n",
       "      <td>0.963354</td>\n",
       "      <td>-0.436713</td>\n",
       "      <td>1.489995</td>\n",
       "    </tr>\n",
       "    <tr>\n",
       "      <th>4</th>\n",
       "      <td>2007</td>\n",
       "      <td>0.617478</td>\n",
       "      <td>1.169206</td>\n",
       "      <td>-0.551728</td>\n",
       "      <td>1.786683</td>\n",
       "    </tr>\n",
       "    <tr>\n",
       "      <th>5</th>\n",
       "      <td>2008</td>\n",
       "      <td>0.771454</td>\n",
       "      <td>1.387212</td>\n",
       "      <td>-0.615758</td>\n",
       "      <td>2.158666</td>\n",
       "    </tr>\n",
       "    <tr>\n",
       "      <th>6</th>\n",
       "      <td>2009</td>\n",
       "      <td>0.588877</td>\n",
       "      <td>1.126891</td>\n",
       "      <td>-0.538014</td>\n",
       "      <td>1.715768</td>\n",
       "    </tr>\n",
       "    <tr>\n",
       "      <th>7</th>\n",
       "      <td>2010</td>\n",
       "      <td>0.792217</td>\n",
       "      <td>1.347418</td>\n",
       "      <td>-0.555202</td>\n",
       "      <td>2.139635</td>\n",
       "    </tr>\n",
       "    <tr>\n",
       "      <th>8</th>\n",
       "      <td>2011</td>\n",
       "      <td>1.021809</td>\n",
       "      <td>1.653549</td>\n",
       "      <td>-0.631741</td>\n",
       "      <td>2.675358</td>\n",
       "    </tr>\n",
       "    <tr>\n",
       "      <th>9</th>\n",
       "      <td>2012</td>\n",
       "      <td>1.033139</td>\n",
       "      <td>1.574406</td>\n",
       "      <td>-0.541266</td>\n",
       "      <td>2.607545</td>\n",
       "    </tr>\n",
       "    <tr>\n",
       "      <th>10</th>\n",
       "      <td>2013</td>\n",
       "      <td>0.915464</td>\n",
       "      <td>1.612015</td>\n",
       "      <td>-0.696551</td>\n",
       "      <td>2.527478</td>\n",
       "    </tr>\n",
       "    <tr>\n",
       "      <th>11</th>\n",
       "      <td>2014</td>\n",
       "      <td>0.884750</td>\n",
       "      <td>1.563224</td>\n",
       "      <td>-0.678474</td>\n",
       "      <td>2.447973</td>\n",
       "    </tr>\n",
       "    <tr>\n",
       "      <th>12</th>\n",
       "      <td>2015</td>\n",
       "      <td>0.655809</td>\n",
       "      <td>1.327239</td>\n",
       "      <td>-0.671429</td>\n",
       "      <td>1.983048</td>\n",
       "    </tr>\n",
       "    <tr>\n",
       "      <th>13</th>\n",
       "      <td>2016</td>\n",
       "      <td>0.609091</td>\n",
       "      <td>1.266591</td>\n",
       "      <td>-0.657500</td>\n",
       "      <td>1.875681</td>\n",
       "    </tr>\n",
       "    <tr>\n",
       "      <th>14</th>\n",
       "      <td>2017</td>\n",
       "      <td>0.694689</td>\n",
       "      <td>1.384376</td>\n",
       "      <td>-0.689687</td>\n",
       "      <td>2.079065</td>\n",
       "    </tr>\n",
       "    <tr>\n",
       "      <th>15</th>\n",
       "      <td>2018</td>\n",
       "      <td>0.793295</td>\n",
       "      <td>1.534256</td>\n",
       "      <td>-0.740961</td>\n",
       "      <td>2.327550</td>\n",
       "    </tr>\n",
       "    <tr>\n",
       "      <th>16</th>\n",
       "      <td>2019</td>\n",
       "      <td>0.799510</td>\n",
       "      <td>1.472521</td>\n",
       "      <td>-0.673011</td>\n",
       "      <td>2.272031</td>\n",
       "    </tr>\n",
       "    <tr>\n",
       "      <th>17</th>\n",
       "      <td>2020</td>\n",
       "      <td>0.675909</td>\n",
       "      <td>1.347242</td>\n",
       "      <td>-0.671333</td>\n",
       "      <td>2.023150</td>\n",
       "    </tr>\n",
       "    <tr>\n",
       "      <th>18</th>\n",
       "      <td>2021</td>\n",
       "      <td>0.917772</td>\n",
       "      <td>1.739594</td>\n",
       "      <td>-0.821823</td>\n",
       "      <td>2.657366</td>\n",
       "    </tr>\n",
       "    <tr>\n",
       "      <th>19</th>\n",
       "      <td>2022</td>\n",
       "      <td>1.109110</td>\n",
       "      <td>2.001044</td>\n",
       "      <td>-0.891934</td>\n",
       "      <td>3.110154</td>\n",
       "    </tr>\n",
       "    <tr>\n",
       "      <th>20</th>\n",
       "      <td>2023</td>\n",
       "      <td>0.661470</td>\n",
       "      <td>1.439711</td>\n",
       "      <td>-0.778241</td>\n",
       "      <td>2.101181</td>\n",
       "    </tr>\n",
       "  </tbody>\n",
       "</table>\n",
       "</div>"
      ],
      "text/plain": [
       "Indikator  Tahun    Ekspor     Impor    Neraca    Volume\n",
       "0           2003  0.090731  0.089925  0.000806  0.180656\n",
       "1           2004  0.288142  0.706237 -0.418095  0.994379\n",
       "2           2005  0.338940  0.798834 -0.459894  1.137773\n",
       "3           2006  0.526641  0.963354 -0.436713  1.489995\n",
       "4           2007  0.617478  1.169206 -0.551728  1.786683\n",
       "5           2008  0.771454  1.387212 -0.615758  2.158666\n",
       "6           2009  0.588877  1.126891 -0.538014  1.715768\n",
       "7           2010  0.792217  1.347418 -0.555202  2.139635\n",
       "8           2011  1.021809  1.653549 -0.631741  2.675358\n",
       "9           2012  1.033139  1.574406 -0.541266  2.607545\n",
       "10          2013  0.915464  1.612015 -0.696551  2.527478\n",
       "11          2014  0.884750  1.563224 -0.678474  2.447973\n",
       "12          2015  0.655809  1.327239 -0.671429  1.983048\n",
       "13          2016  0.609091  1.266591 -0.657500  1.875681\n",
       "14          2017  0.694689  1.384376 -0.689687  2.079065\n",
       "15          2018  0.793295  1.534256 -0.740961  2.327550\n",
       "16          2019  0.799510  1.472521 -0.673011  2.272031\n",
       "17          2020  0.675909  1.347242 -0.671333  2.023150\n",
       "18          2021  0.917772  1.739594 -0.821823  2.657366\n",
       "19          2022  1.109110  2.001044 -0.891934  3.110154\n",
       "20          2023  0.661470  1.439711 -0.778241  2.101181"
      ]
     },
     "execution_count": 40,
     "metadata": {},
     "output_type": "execute_result"
    }
   ],
   "source": [
    "no5_trend_pivot[['Ekspor', 'Impor', 'Neraca', 'Volume']] /= 1e9\n",
    "no5_trend_pivot"
   ]
  },
  {
   "cell_type": "code",
   "execution_count": 41,
   "id": "12bfd1ff",
   "metadata": {},
   "outputs": [
    {
     "data": {
      "image/png": "[encoded data removed]",
      "text/plain": [
       "<Figure size 1200x600 with 1 Axes>"
      ]
     },
     "metadata": {},
     "output_type": "display_data"
    }
   ],
   "source": [
    "plt.figure(figsize=(12, 6))\n",
    "\n",
    "plt.plot(no5_trend_pivot['Tahun'], no5_trend_pivot['Ekspor'], label='Ekspor', marker='o')\n",
    "plt.plot(no5_trend_pivot['Tahun'], no5_trend_pivot['Impor'], label='Impor', marker='o')\n",
    "plt.plot(no5_trend_pivot['Tahun'], no5_trend_pivot['Neraca'], label='Neraca Perdagangan', marker='o')\n",
    "plt.plot(no5_trend_pivot['Tahun'], no5_trend_pivot['Volume'], label='Volume Perdagangan', marker='o')\n",
    "\n",
    "plt.title('Tren Ekspor, Impor, Neraca Perdagangan, dan Volume Perdagangan Indonesia (2010-2023)', fontsize=14)\n",
    "plt.xlabel('Tahun', fontsize=12)\n",
    "plt.ylabel('Jumlah (Milyar USD)', fontsize=12)\n",
    "plt.xticks(no5_trend_pivot['Tahun'], rotation=45)\n",
    "plt.legend()\n",
    "plt.grid(linestyle='--', alpha=0.7)\n",
    "plt.tight_layout()\n",
    "plt.show()"
   ]
  },
  {
   "cell_type": "code",
   "execution_count": 88,
   "id": "2789c2c5",
   "metadata": {},
   "outputs": [
    {
     "data": {
      "image/png": "[encoded data removed]",
      "text/plain": [
       "<Figure size 1400x700 with 1 Axes>"
      ]
     },
     "metadata": {},
     "output_type": "display_data"
    }
   ],
   "source": [
    "plt.figure(figsize=(14, 7))\n",
    "plt.fill_between(no5_trend_pivot['Tahun'], no5_trend_pivot['Volume'], color='mediumpurple', alpha=0.3)\n",
    "plt.fill_between(no5_trend_pivot['Tahun'], no5_trend_pivot['Neraca'], color='lightgreen', alpha=0.3)\n",
    "plt.bar(no5_trend_pivot['Tahun'], no5_trend_pivot['Ekspor'], width=0.7, label='Ekspor', color='cornflowerblue')\n",
    "plt.bar(no5_trend_pivot['Tahun'], -no5_trend_pivot['Impor'], width=0.7, label='Impor', color='tomato')\n",
    "plt.plot(no5_trend_pivot['Tahun'], no5_trend_pivot['Neraca'], label='Neraca Perdagangan', color='darkgreen', marker='o', linewidth=3)\n",
    "plt.plot(no5_trend_pivot['Tahun'], no5_trend_pivot['Volume'], label='Volume Perdagangan', color='mediumpurple', marker='o', linewidth=2)\n",
    "\n",
    "\n",
    "for x, y in zip(no5_trend_pivot['Tahun'], no5_trend_pivot['Neraca']):\n",
    "    plt.text(x, y + 0.05, f\"{y:.1f}\", ha='center', va='bottom', fontsize=11, color='black')\n",
    "\n",
    "plt.axhline(0, color='black', linewidth=0.8, linestyle='--')\n",
    "\n",
    "plt.title('Tren Ekspor, Impor, dan Neraca Perdagangan Indonesia (2010-2023)', fontsize=14)\n",
    "plt.xlabel('Tahun', fontsize=12)\n",
    "plt.ylabel('Jumlah (Milyar USD)', fontsize=12)\n",
    "plt.legend()\n",
    "plt.xticks(no5_trend_pivot['Tahun'], rotation=45)\n",
    "plt.grid(axis='y', linestyle='--', alpha=0.7)\n",
    "plt.tight_layout()\n",
    "plt.show()\n"
   ]
  },
  {
   "cell_type": "markdown",
   "id": "c9db50cb",
   "metadata": {},
   "source": [
    "# NO2 Analisis ML"
   ]
  },
  {
   "cell_type": "code",
   "execution_count": 43,
   "id": "129d783a",
   "metadata": {},
   "outputs": [],
   "source": [
    "import pandas as pd\n",
    "from sklearn.preprocessing import StandardScaler\n",
    "from sklearn.cluster import KMeans\n",
    "from sklearn.linear_model import LinearRegression\n",
    "import matplotlib.pyplot as plt\n",
    "import numpy as np"
   ]
  },
  {
   "cell_type": "code",
   "execution_count": 44,
   "id": "750847fe",
   "metadata": {},
   "outputs": [
    {
     "data": {
      "application/vnd.microsoft.datawrangler.viewer.v0+json": {
       "columns": [
        {
         "name": "index",
         "rawType": "int64",
         "type": "integer"
        },
        {
         "name": "Negara",
         "rawType": "object",
         "type": "string"
        },
        {
         "name": "Ekspor",
         "rawType": "float64",
         "type": "float"
        },
        {
         "name": "Impor",
         "rawType": "float64",
         "type": "float"
        }
       ],
       "ref": "2c25a6c4-bae7-4d95-a18d-fcc6d71b0d7f",
       "rows": [
        [
         "0",
         "Afghanistan",
         "12333462.0",
         "100615473.0"
        ],
        [
         "1",
         "Albania",
         "38315248.0",
         "96485954.0"
        ],
        [
         "2",
         "Algeria",
         "978634288.0",
         "777286427.0"
        ],
        [
         "3",
         "American Samoa",
         "189647.0",
         "860859.0"
        ],
        [
         "4",
         "Andorra",
         "2550839.0",
         "30355415.0"
        ],
        [
         "5",
         "Angola",
         "696058005.0",
         "288922875.0"
        ],
        [
         "6",
         "Anguilla",
         "251228.0",
         "0.0"
        ],
        [
         "7",
         "Antigua and Barbuda",
         "849523.0",
         "8365829.0"
        ],
        [
         "8",
         "Argentina",
         "1265922938.0",
         "1113564550.0"
        ],
        [
         "9",
         "Armenia",
         "34134226.0",
         "76123334.0"
        ],
        [
         "10",
         "Aruba",
         "1959854.0",
         "21302042.0"
        ],
        [
         "11",
         "Australia",
         "4562058309.0",
         "4126311449.0"
        ],
        [
         "12",
         "Austria",
         "3215066352.0",
         "3333724481.0"
        ],
        [
         "13",
         "Azerbaijan",
         "357214714.0",
         "169068813.0"
        ],
        [
         "14",
         "Bahamas",
         "11016630.0",
         "61368099.0"
        ],
        [
         "15",
         "Bahrain",
         "288718050.0",
         "296386054.0"
        ],
        [
         "16",
         "Bangladesh",
         "543121249.0",
         "732887715.0"
        ],
        [
         "17",
         "Barbados",
         "0.0",
         "31538452.0"
        ],
        [
         "18",
         "Belarus",
         "0.0",
         "631368606.0"
        ],
        [
         "19",
         "Belgium",
         "0.0",
         "8535129969.0"
        ],
        [
         "20",
         "Belize",
         "0.0",
         "17448281.0"
        ],
        [
         "21",
         "Benin",
         "0.0",
         "45655782.0"
        ],
        [
         "22",
         "Bermuda",
         "0.0",
         "11143787.0"
        ],
        [
         "23",
         "Bhutan",
         "0.0",
         "12299652.0"
        ],
        [
         "24",
         "Bolivia  Plurinational State of",
         "0.0",
         "151721462.0"
        ],
        [
         "25",
         "Bonaire  Sint Eustatius and Saba",
         "0.0",
         "4147201.0"
        ],
        [
         "26",
         "Bosnia and Herzegovina",
         "0.0",
         "207441827.0"
        ],
        [
         "27",
         "Botswana",
         "0.0",
         "122779586.0"
        ],
        [
         "28",
         "Bouvet Island",
         "0.0",
         "536.0"
        ],
        [
         "29",
         "Brazil",
         "0.0",
         "3560997772.0"
        ],
        [
         "30",
         "British Antarctic Territory",
         "0.0",
         "144.0"
        ],
        [
         "31",
         "British Indian Ocean Territory",
         "0.0",
         "848558.0"
        ],
        [
         "32",
         "British Virgin Islands",
         "0.0",
         "53493383.0"
        ],
        [
         "33",
         "Brunei Darussalam",
         "0.0",
         "69752627.0"
        ],
        [
         "34",
         "Bulgaria",
         "0.0",
         "667242651.0"
        ],
        [
         "35",
         "Burkina Faso",
         "0.0",
         "39636433.0"
        ],
        [
         "36",
         "Nigeria",
         "2369959527.0",
         "1407878455.0"
        ],
        [
         "37",
         "Panama",
         "407940373.0",
         "700688525.0"
        ]
       ],
       "shape": {
        "columns": 3,
        "rows": 38
       }
      },
      "text/html": [
       "<div>\n",
       "<style scoped>\n",
       "    .dataframe tbody tr th:only-of-type {\n",
       "        vertical-align: middle;\n",
       "    }\n",
       "\n",
       "    .dataframe tbody tr th {\n",
       "        vertical-align: top;\n",
       "    }\n",
       "\n",
       "    .dataframe thead th {\n",
       "        text-align: right;\n",
       "    }\n",
       "</style>\n",
       "<table border=\"1\" class=\"dataframe\">\n",
       "  <thead>\n",
       "    <tr style=\"text-align: right;\">\n",
       "      <th>Indikator</th>\n",
       "      <th>Negara</th>\n",
       "      <th>Ekspor</th>\n",
       "      <th>Impor</th>\n",
       "    </tr>\n",
       "  </thead>\n",
       "  <tbody>\n",
       "    <tr>\n",
       "      <th>0</th>\n",
       "      <td>Afghanistan</td>\n",
       "      <td>1.233346e+07</td>\n",
       "      <td>1.006155e+08</td>\n",
       "    </tr>\n",
       "    <tr>\n",
       "      <th>1</th>\n",
       "      <td>Albania</td>\n",
       "      <td>3.831525e+07</td>\n",
       "      <td>9.648595e+07</td>\n",
       "    </tr>\n",
       "    <tr>\n",
       "      <th>2</th>\n",
       "      <td>Algeria</td>\n",
       "      <td>9.786343e+08</td>\n",
       "      <td>7.772864e+08</td>\n",
       "    </tr>\n",
       "    <tr>\n",
       "      <th>3</th>\n",
       "      <td>American Samoa</td>\n",
       "      <td>1.896470e+05</td>\n",
       "      <td>8.608590e+05</td>\n",
       "    </tr>\n",
       "    <tr>\n",
       "      <th>4</th>\n",
       "      <td>Andorra</td>\n",
       "      <td>2.550839e+06</td>\n",
       "      <td>3.035542e+07</td>\n",
       "    </tr>\n",
       "    <tr>\n",
       "      <th>5</th>\n",
       "      <td>Angola</td>\n",
       "      <td>6.960580e+08</td>\n",
       "      <td>2.889229e+08</td>\n",
       "    </tr>\n",
       "    <tr>\n",
       "      <th>6</th>\n",
       "      <td>Anguilla</td>\n",
       "      <td>2.512280e+05</td>\n",
       "      <td>0.000000e+00</td>\n",
       "    </tr>\n",
       "    <tr>\n",
       "      <th>7</th>\n",
       "      <td>Antigua and Barbuda</td>\n",
       "      <td>8.495230e+05</td>\n",
       "      <td>8.365829e+06</td>\n",
       "    </tr>\n",
       "    <tr>\n",
       "      <th>8</th>\n",
       "      <td>Argentina</td>\n",
       "      <td>1.265923e+09</td>\n",
       "      <td>1.113565e+09</td>\n",
       "    </tr>\n",
       "    <tr>\n",
       "      <th>9</th>\n",
       "      <td>Armenia</td>\n",
       "      <td>3.413423e+07</td>\n",
       "      <td>7.612333e+07</td>\n",
       "    </tr>\n",
       "    <tr>\n",
       "      <th>10</th>\n",
       "      <td>Aruba</td>\n",
       "      <td>1.959854e+06</td>\n",
       "      <td>2.130204e+07</td>\n",
       "    </tr>\n",
       "    <tr>\n",
       "      <th>11</th>\n",
       "      <td>Australia</td>\n",
       "      <td>4.562058e+09</td>\n",
       "      <td>4.126311e+09</td>\n",
       "    </tr>\n",
       "    <tr>\n",
       "      <th>12</th>\n",
       "      <td>Austria</td>\n",
       "      <td>3.215066e+09</td>\n",
       "      <td>3.333724e+09</td>\n",
       "    </tr>\n",
       "    <tr>\n",
       "      <th>13</th>\n",
       "      <td>Azerbaijan</td>\n",
       "      <td>3.572147e+08</td>\n",
       "      <td>1.690688e+08</td>\n",
       "    </tr>\n",
       "    <tr>\n",
       "      <th>14</th>\n",
       "      <td>Bahamas</td>\n",
       "      <td>1.101663e+07</td>\n",
       "      <td>6.136810e+07</td>\n",
       "    </tr>\n",
       "    <tr>\n",
       "      <th>15</th>\n",
       "      <td>Bahrain</td>\n",
       "      <td>2.887180e+08</td>\n",
       "      <td>2.963861e+08</td>\n",
       "    </tr>\n",
       "    <tr>\n",
       "      <th>16</th>\n",
       "      <td>Bangladesh</td>\n",
       "      <td>5.431212e+08</td>\n",
       "      <td>7.328877e+08</td>\n",
       "    </tr>\n",
       "    <tr>\n",
       "      <th>17</th>\n",
       "      <td>Barbados</td>\n",
       "      <td>0.000000e+00</td>\n",
       "      <td>3.153845e+07</td>\n",
       "    </tr>\n",
       "    <tr>\n",
       "      <th>18</th>\n",
       "      <td>Belarus</td>\n",
       "      <td>0.000000e+00</td>\n",
       "      <td>6.313686e+08</td>\n",
       "    </tr>\n",
       "    <tr>\n",
       "      <th>19</th>\n",
       "      <td>Belgium</td>\n",
       "      <td>0.000000e+00</td>\n",
       "      <td>8.535130e+09</td>\n",
       "    </tr>\n",
       "    <tr>\n",
       "      <th>20</th>\n",
       "      <td>Belize</td>\n",
       "      <td>0.000000e+00</td>\n",
       "      <td>1.744828e+07</td>\n",
       "    </tr>\n",
       "    <tr>\n",
       "      <th>21</th>\n",
       "      <td>Benin</td>\n",
       "      <td>0.000000e+00</td>\n",
       "      <td>4.565578e+07</td>\n",
       "    </tr>\n",
       "    <tr>\n",
       "      <th>22</th>\n",
       "      <td>Bermuda</td>\n",
       "      <td>0.000000e+00</td>\n",
       "      <td>1.114379e+07</td>\n",
       "    </tr>\n",
       "    <tr>\n",
       "      <th>23</th>\n",
       "      <td>Bhutan</td>\n",
       "      <td>0.000000e+00</td>\n",
       "      <td>1.229965e+07</td>\n",
       "    </tr>\n",
       "    <tr>\n",
       "      <th>24</th>\n",
       "      <td>Bolivia  Plurinational State of</td>\n",
       "      <td>0.000000e+00</td>\n",
       "      <td>1.517215e+08</td>\n",
       "    </tr>\n",
       "    <tr>\n",
       "      <th>25</th>\n",
       "      <td>Bonaire  Sint Eustatius and Saba</td>\n",
       "      <td>0.000000e+00</td>\n",
       "      <td>4.147201e+06</td>\n",
       "    </tr>\n",
       "    <tr>\n",
       "      <th>26</th>\n",
       "      <td>Bosnia and Herzegovina</td>\n",
       "      <td>0.000000e+00</td>\n",
       "      <td>2.074418e+08</td>\n",
       "    </tr>\n",
       "    <tr>\n",
       "      <th>27</th>\n",
       "      <td>Botswana</td>\n",
       "      <td>0.000000e+00</td>\n",
       "      <td>1.227796e+08</td>\n",
       "    </tr>\n",
       "    <tr>\n",
       "      <th>28</th>\n",
       "      <td>Bouvet Island</td>\n",
       "      <td>0.000000e+00</td>\n",
       "      <td>5.360000e+02</td>\n",
       "    </tr>\n",
       "    <tr>\n",
       "      <th>29</th>\n",
       "      <td>Brazil</td>\n",
       "      <td>0.000000e+00</td>\n",
       "      <td>3.560998e+09</td>\n",
       "    </tr>\n",
       "    <tr>\n",
       "      <th>30</th>\n",
       "      <td>British Antarctic Territory</td>\n",
       "      <td>0.000000e+00</td>\n",
       "      <td>1.440000e+02</td>\n",
       "    </tr>\n",
       "    <tr>\n",
       "      <th>31</th>\n",
       "      <td>British Indian Ocean Territory</td>\n",
       "      <td>0.000000e+00</td>\n",
       "      <td>8.485580e+05</td>\n",
       "    </tr>\n",
       "    <tr>\n",
       "      <th>32</th>\n",
       "      <td>British Virgin Islands</td>\n",
       "      <td>0.000000e+00</td>\n",
       "      <td>5.349338e+07</td>\n",
       "    </tr>\n",
       "    <tr>\n",
       "      <th>33</th>\n",
       "      <td>Brunei Darussalam</td>\n",
       "      <td>0.000000e+00</td>\n",
       "      <td>6.975263e+07</td>\n",
       "    </tr>\n",
       "    <tr>\n",
       "      <th>34</th>\n",
       "      <td>Bulgaria</td>\n",
       "      <td>0.000000e+00</td>\n",
       "      <td>6.672427e+08</td>\n",
       "    </tr>\n",
       "    <tr>\n",
       "      <th>35</th>\n",
       "      <td>Burkina Faso</td>\n",
       "      <td>0.000000e+00</td>\n",
       "      <td>3.963643e+07</td>\n",
       "    </tr>\n",
       "    <tr>\n",
       "      <th>36</th>\n",
       "      <td>Nigeria</td>\n",
       "      <td>2.369960e+09</td>\n",
       "      <td>1.407878e+09</td>\n",
       "    </tr>\n",
       "    <tr>\n",
       "      <th>37</th>\n",
       "      <td>Panama</td>\n",
       "      <td>4.079404e+08</td>\n",
       "      <td>7.006885e+08</td>\n",
       "    </tr>\n",
       "  </tbody>\n",
       "</table>\n",
       "</div>"
      ],
      "text/plain": [
       "Indikator                            Negara        Ekspor         Impor\n",
       "0                               Afghanistan  1.233346e+07  1.006155e+08\n",
       "1                                   Albania  3.831525e+07  9.648595e+07\n",
       "2                                   Algeria  9.786343e+08  7.772864e+08\n",
       "3                            American Samoa  1.896470e+05  8.608590e+05\n",
       "4                                   Andorra  2.550839e+06  3.035542e+07\n",
       "5                                    Angola  6.960580e+08  2.889229e+08\n",
       "6                                  Anguilla  2.512280e+05  0.000000e+00\n",
       "7                       Antigua and Barbuda  8.495230e+05  8.365829e+06\n",
       "8                                 Argentina  1.265923e+09  1.113565e+09\n",
       "9                                   Armenia  3.413423e+07  7.612333e+07\n",
       "10                                    Aruba  1.959854e+06  2.130204e+07\n",
       "11                                Australia  4.562058e+09  4.126311e+09\n",
       "12                                  Austria  3.215066e+09  3.333724e+09\n",
       "13                               Azerbaijan  3.572147e+08  1.690688e+08\n",
       "14                                  Bahamas  1.101663e+07  6.136810e+07\n",
       "15                                  Bahrain  2.887180e+08  2.963861e+08\n",
       "16                               Bangladesh  5.431212e+08  7.328877e+08\n",
       "17                                 Barbados  0.000000e+00  3.153845e+07\n",
       "18                                  Belarus  0.000000e+00  6.313686e+08\n",
       "19                                  Belgium  0.000000e+00  8.535130e+09\n",
       "20                                   Belize  0.000000e+00  1.744828e+07\n",
       "21                                    Benin  0.000000e+00  4.565578e+07\n",
       "22                                  Bermuda  0.000000e+00  1.114379e+07\n",
       "23                                   Bhutan  0.000000e+00  1.229965e+07\n",
       "24          Bolivia  Plurinational State of  0.000000e+00  1.517215e+08\n",
       "25         Bonaire  Sint Eustatius and Saba  0.000000e+00  4.147201e+06\n",
       "26                   Bosnia and Herzegovina  0.000000e+00  2.074418e+08\n",
       "27                                 Botswana  0.000000e+00  1.227796e+08\n",
       "28                            Bouvet Island  0.000000e+00  5.360000e+02\n",
       "29                                   Brazil  0.000000e+00  3.560998e+09\n",
       "30              British Antarctic Territory  0.000000e+00  1.440000e+02\n",
       "31           British Indian Ocean Territory  0.000000e+00  8.485580e+05\n",
       "32                   British Virgin Islands  0.000000e+00  5.349338e+07\n",
       "33                        Brunei Darussalam  0.000000e+00  6.975263e+07\n",
       "34                                 Bulgaria  0.000000e+00  6.672427e+08\n",
       "35                             Burkina Faso  0.000000e+00  3.963643e+07\n",
       "36                                  Nigeria  2.369960e+09  1.407878e+09\n",
       "37                                   Panama  4.079404e+08  7.006885e+08"
      ]
     },
     "execution_count": 44,
     "metadata": {},
     "output_type": "execute_result"
    }
   ],
   "source": [
    "country_df = final_df.groupby(['Negara','Indikator'])['Jumlah'].sum().unstack(fill_value=0).reset_index()\n",
    "# country_df['Neraca'] = country_df['Ekspor'] - country_df['Impor']\n",
    "\n",
    "country_df"
   ]
  },
  {
   "cell_type": "code",
   "execution_count": 45,
   "id": "3f7e8b91",
   "metadata": {},
   "outputs": [],
   "source": [
    "feature = country_df[['Ekspor', 'Impor']]\n",
    "Scaler = StandardScaler()\n",
    "feature_scaled = Scaler.fit_transform(feature)\n",
    "\n",
    "kmeans = KMeans(n_clusters=3, random_state=42)\n",
    "country_df['Cluster'] = kmeans.fit_predict(feature_scaled)"
   ]
  },
  {
   "cell_type": "code",
   "execution_count": null,
   "id": "f4ac7093",
   "metadata": {},
   "outputs": [
    {
     "data": {
      "image/png": "[encoded data removed]",
      "text/plain": [
       "<Figure size 800x600 with 1 Axes>"
      ]
     },
     "metadata": {},
     "output_type": "display_data"
    }
   ],
   "source": [
    "plt.figure(figsize=(8, 6))\n",
    "plt.scatter(country_df['Ekspor']/1e8, country_df['Impor']/1e8, c=country_df['Cluster'], cmap='viridis', marker='o', s=40)\n",
    "plt.title('Clustering Negara Berdasarkan Ekspor dan Impor', fontsize=14)\n",
    "plt.xlabel('Ekspor (Milyar USD)', fontsize=12)\n",
    "plt.ylabel('Impor (Milyar USD)', fontsize=12)\n",
    "plt.grid(True, linestyle='--', alpha=0.6)\n",
    "plt.show()"
   ]
  },
  {
   "cell_type": "code",
   "execution_count": 47,
   "id": "d2b7bede",
   "metadata": {},
   "outputs": [
    {
     "data": {
      "application/vnd.microsoft.datawrangler.viewer.v0+json": {
       "columns": [
        {
         "name": "index",
         "rawType": "int64",
         "type": "integer"
        },
        {
         "name": "Negara",
         "rawType": "object",
         "type": "string"
        },
        {
         "name": "Ekspor",
         "rawType": "float64",
         "type": "float"
        },
        {
         "name": "Impor",
         "rawType": "float64",
         "type": "float"
        },
        {
         "name": "Cluster",
         "rawType": "int32",
         "type": "integer"
        }
       ],
       "ref": "bd71bd39-ff90-4309-81b8-c7fef44c61b4",
       "rows": [
        [
         "0",
         "Afghanistan",
         "12333462.0",
         "100615473.0",
         "0"
        ],
        [
         "1",
         "Albania",
         "38315248.0",
         "96485954.0",
         "0"
        ],
        [
         "2",
         "Algeria",
         "978634288.0",
         "777286427.0",
         "0"
        ],
        [
         "3",
         "American Samoa",
         "189647.0",
         "860859.0",
         "0"
        ],
        [
         "4",
         "Andorra",
         "2550839.0",
         "30355415.0",
         "0"
        ],
        [
         "5",
         "Angola",
         "696058005.0",
         "288922875.0",
         "0"
        ],
        [
         "6",
         "Anguilla",
         "251228.0",
         "0.0",
         "0"
        ],
        [
         "7",
         "Antigua and Barbuda",
         "849523.0",
         "8365829.0",
         "0"
        ],
        [
         "8",
         "Argentina",
         "1265922938.0",
         "1113564550.0",
         "0"
        ],
        [
         "9",
         "Armenia",
         "34134226.0",
         "76123334.0",
         "0"
        ],
        [
         "10",
         "Aruba",
         "1959854.0",
         "21302042.0",
         "0"
        ],
        [
         "11",
         "Australia",
         "4562058309.0",
         "4126311449.0",
         "2"
        ],
        [
         "12",
         "Austria",
         "3215066352.0",
         "3333724481.0",
         "2"
        ],
        [
         "13",
         "Azerbaijan",
         "357214714.0",
         "169068813.0",
         "0"
        ],
        [
         "14",
         "Bahamas",
         "11016630.0",
         "61368099.0",
         "0"
        ],
        [
         "15",
         "Bahrain",
         "288718050.0",
         "296386054.0",
         "0"
        ],
        [
         "16",
         "Bangladesh",
         "543121249.0",
         "732887715.0",
         "0"
        ],
        [
         "17",
         "Barbados",
         "0.0",
         "31538452.0",
         "0"
        ],
        [
         "18",
         "Belarus",
         "0.0",
         "631368606.0",
         "0"
        ],
        [
         "19",
         "Belgium",
         "0.0",
         "8535129969.0",
         "1"
        ],
        [
         "20",
         "Belize",
         "0.0",
         "17448281.0",
         "0"
        ],
        [
         "21",
         "Benin",
         "0.0",
         "45655782.0",
         "0"
        ],
        [
         "22",
         "Bermuda",
         "0.0",
         "11143787.0",
         "0"
        ],
        [
         "23",
         "Bhutan",
         "0.0",
         "12299652.0",
         "0"
        ],
        [
         "24",
         "Bolivia  Plurinational State of",
         "0.0",
         "151721462.0",
         "0"
        ],
        [
         "25",
         "Bonaire  Sint Eustatius and Saba",
         "0.0",
         "4147201.0",
         "0"
        ],
        [
         "26",
         "Bosnia and Herzegovina",
         "0.0",
         "207441827.0",
         "0"
        ],
        [
         "27",
         "Botswana",
         "0.0",
         "122779586.0",
         "0"
        ],
        [
         "28",
         "Bouvet Island",
         "0.0",
         "536.0",
         "0"
        ],
        [
         "29",
         "Brazil",
         "0.0",
         "3560997772.0",
         "1"
        ],
        [
         "30",
         "British Antarctic Territory",
         "0.0",
         "144.0",
         "0"
        ],
        [
         "31",
         "British Indian Ocean Territory",
         "0.0",
         "848558.0",
         "0"
        ],
        [
         "32",
         "British Virgin Islands",
         "0.0",
         "53493383.0",
         "0"
        ],
        [
         "33",
         "Brunei Darussalam",
         "0.0",
         "69752627.0",
         "0"
        ],
        [
         "34",
         "Bulgaria",
         "0.0",
         "667242651.0",
         "0"
        ],
        [
         "35",
         "Burkina Faso",
         "0.0",
         "39636433.0",
         "0"
        ],
        [
         "36",
         "Nigeria",
         "2369959527.0",
         "1407878455.0",
         "2"
        ],
        [
         "37",
         "Panama",
         "407940373.0",
         "700688525.0",
         "0"
        ]
       ],
       "shape": {
        "columns": 4,
        "rows": 38
       }
      },
      "text/html": [
       "<div>\n",
       "<style scoped>\n",
       "    .dataframe tbody tr th:only-of-type {\n",
       "        vertical-align: middle;\n",
       "    }\n",
       "\n",
       "    .dataframe tbody tr th {\n",
       "        vertical-align: top;\n",
       "    }\n",
       "\n",
       "    .dataframe thead th {\n",
       "        text-align: right;\n",
       "    }\n",
       "</style>\n",
       "<table border=\"1\" class=\"dataframe\">\n",
       "  <thead>\n",
       "    <tr style=\"text-align: right;\">\n",
       "      <th>Indikator</th>\n",
       "      <th>Negara</th>\n",
       "      <th>Ekspor</th>\n",
       "      <th>Impor</th>\n",
       "      <th>Cluster</th>\n",
       "    </tr>\n",
       "  </thead>\n",
       "  <tbody>\n",
       "    <tr>\n",
       "      <th>0</th>\n",
       "      <td>Afghanistan</td>\n",
       "      <td>1.233346e+07</td>\n",
       "      <td>1.006155e+08</td>\n",
       "      <td>0</td>\n",
       "    </tr>\n",
       "    <tr>\n",
       "      <th>1</th>\n",
       "      <td>Albania</td>\n",
       "      <td>3.831525e+07</td>\n",
       "      <td>9.648595e+07</td>\n",
       "      <td>0</td>\n",
       "    </tr>\n",
       "    <tr>\n",
       "      <th>2</th>\n",
       "      <td>Algeria</td>\n",
       "      <td>9.786343e+08</td>\n",
       "      <td>7.772864e+08</td>\n",
       "      <td>0</td>\n",
       "    </tr>\n",
       "    <tr>\n",
       "      <th>3</th>\n",
       "      <td>American Samoa</td>\n",
       "      <td>1.896470e+05</td>\n",
       "      <td>8.608590e+05</td>\n",
       "      <td>0</td>\n",
       "    </tr>\n",
       "    <tr>\n",
       "      <th>4</th>\n",
       "      <td>Andorra</td>\n",
       "      <td>2.550839e+06</td>\n",
       "      <td>3.035542e+07</td>\n",
       "      <td>0</td>\n",
       "    </tr>\n",
       "    <tr>\n",
       "      <th>5</th>\n",
       "      <td>Angola</td>\n",
       "      <td>6.960580e+08</td>\n",
       "      <td>2.889229e+08</td>\n",
       "      <td>0</td>\n",
       "    </tr>\n",
       "    <tr>\n",
       "      <th>6</th>\n",
       "      <td>Anguilla</td>\n",
       "      <td>2.512280e+05</td>\n",
       "      <td>0.000000e+00</td>\n",
       "      <td>0</td>\n",
       "    </tr>\n",
       "    <tr>\n",
       "      <th>7</th>\n",
       "      <td>Antigua and Barbuda</td>\n",
       "      <td>8.495230e+05</td>\n",
       "      <td>8.365829e+06</td>\n",
       "      <td>0</td>\n",
       "    </tr>\n",
       "    <tr>\n",
       "      <th>8</th>\n",
       "      <td>Argentina</td>\n",
       "      <td>1.265923e+09</td>\n",
       "      <td>1.113565e+09</td>\n",
       "      <td>0</td>\n",
       "    </tr>\n",
       "    <tr>\n",
       "      <th>9</th>\n",
       "      <td>Armenia</td>\n",
       "      <td>3.413423e+07</td>\n",
       "      <td>7.612333e+07</td>\n",
       "      <td>0</td>\n",
       "    </tr>\n",
       "    <tr>\n",
       "      <th>10</th>\n",
       "      <td>Aruba</td>\n",
       "      <td>1.959854e+06</td>\n",
       "      <td>2.130204e+07</td>\n",
       "      <td>0</td>\n",
       "    </tr>\n",
       "    <tr>\n",
       "      <th>11</th>\n",
       "      <td>Australia</td>\n",
       "      <td>4.562058e+09</td>\n",
       "      <td>4.126311e+09</td>\n",
       "      <td>2</td>\n",
       "    </tr>\n",
       "    <tr>\n",
       "      <th>12</th>\n",
       "      <td>Austria</td>\n",
       "      <td>3.215066e+09</td>\n",
       "      <td>3.333724e+09</td>\n",
       "      <td>2</td>\n",
       "    </tr>\n",
       "    <tr>\n",
       "      <th>13</th>\n",
       "      <td>Azerbaijan</td>\n",
       "      <td>3.572147e+08</td>\n",
       "      <td>1.690688e+08</td>\n",
       "      <td>0</td>\n",
       "    </tr>\n",
       "    <tr>\n",
       "      <th>14</th>\n",
       "      <td>Bahamas</td>\n",
       "      <td>1.101663e+07</td>\n",
       "      <td>6.136810e+07</td>\n",
       "      <td>0</td>\n",
       "    </tr>\n",
       "    <tr>\n",
       "      <th>15</th>\n",
       "      <td>Bahrain</td>\n",
       "      <td>2.887180e+08</td>\n",
       "      <td>2.963861e+08</td>\n",
       "      <td>0</td>\n",
       "    </tr>\n",
       "    <tr>\n",
       "      <th>16</th>\n",
       "      <td>Bangladesh</td>\n",
       "      <td>5.431212e+08</td>\n",
       "      <td>7.328877e+08</td>\n",
       "      <td>0</td>\n",
       "    </tr>\n",
       "    <tr>\n",
       "      <th>17</th>\n",
       "      <td>Barbados</td>\n",
       "      <td>0.000000e+00</td>\n",
       "      <td>3.153845e+07</td>\n",
       "      <td>0</td>\n",
       "    </tr>\n",
       "    <tr>\n",
       "      <th>18</th>\n",
       "      <td>Belarus</td>\n",
       "      <td>0.000000e+00</td>\n",
       "      <td>6.313686e+08</td>\n",
       "      <td>0</td>\n",
       "    </tr>\n",
       "    <tr>\n",
       "      <th>19</th>\n",
       "      <td>Belgium</td>\n",
       "      <td>0.000000e+00</td>\n",
       "      <td>8.535130e+09</td>\n",
       "      <td>1</td>\n",
       "    </tr>\n",
       "    <tr>\n",
       "      <th>20</th>\n",
       "      <td>Belize</td>\n",
       "      <td>0.000000e+00</td>\n",
       "      <td>1.744828e+07</td>\n",
       "      <td>0</td>\n",
       "    </tr>\n",
       "    <tr>\n",
       "      <th>21</th>\n",
       "      <td>Benin</td>\n",
       "      <td>0.000000e+00</td>\n",
       "      <td>4.565578e+07</td>\n",
       "      <td>0</td>\n",
       "    </tr>\n",
       "    <tr>\n",
       "      <th>22</th>\n",
       "      <td>Bermuda</td>\n",
       "      <td>0.000000e+00</td>\n",
       "      <td>1.114379e+07</td>\n",
       "      <td>0</td>\n",
       "    </tr>\n",
       "    <tr>\n",
       "      <th>23</th>\n",
       "      <td>Bhutan</td>\n",
       "      <td>0.000000e+00</td>\n",
       "      <td>1.229965e+07</td>\n",
       "      <td>0</td>\n",
       "    </tr>\n",
       "    <tr>\n",
       "      <th>24</th>\n",
       "      <td>Bolivia  Plurinational State of</td>\n",
       "      <td>0.000000e+00</td>\n",
       "      <td>1.517215e+08</td>\n",
       "      <td>0</td>\n",
       "    </tr>\n",
       "    <tr>\n",
       "      <th>25</th>\n",
       "      <td>Bonaire  Sint Eustatius and Saba</td>\n",
       "      <td>0.000000e+00</td>\n",
       "      <td>4.147201e+06</td>\n",
       "      <td>0</td>\n",
       "    </tr>\n",
       "    <tr>\n",
       "      <th>26</th>\n",
       "      <td>Bosnia and Herzegovina</td>\n",
       "      <td>0.000000e+00</td>\n",
       "      <td>2.074418e+08</td>\n",
       "      <td>0</td>\n",
       "    </tr>\n",
       "    <tr>\n",
       "      <th>27</th>\n",
       "      <td>Botswana</td>\n",
       "      <td>0.000000e+00</td>\n",
       "      <td>1.227796e+08</td>\n",
       "      <td>0</td>\n",
       "    </tr>\n",
       "    <tr>\n",
       "      <th>28</th>\n",
       "      <td>Bouvet Island</td>\n",
       "      <td>0.000000e+00</td>\n",
       "      <td>5.360000e+02</td>\n",
       "      <td>0</td>\n",
       "    </tr>\n",
       "    <tr>\n",
       "      <th>29</th>\n",
       "      <td>Brazil</td>\n",
       "      <td>0.000000e+00</td>\n",
       "      <td>3.560998e+09</td>\n",
       "      <td>1</td>\n",
       "    </tr>\n",
       "    <tr>\n",
       "      <th>30</th>\n",
       "      <td>British Antarctic Territory</td>\n",
       "      <td>0.000000e+00</td>\n",
       "      <td>1.440000e+02</td>\n",
       "      <td>0</td>\n",
       "    </tr>\n",
       "    <tr>\n",
       "      <th>31</th>\n",
       "      <td>British Indian Ocean Territory</td>\n",
       "      <td>0.000000e+00</td>\n",
       "      <td>8.485580e+05</td>\n",
       "      <td>0</td>\n",
       "    </tr>\n",
       "    <tr>\n",
       "      <th>32</th>\n",
       "      <td>British Virgin Islands</td>\n",
       "      <td>0.000000e+00</td>\n",
       "      <td>5.349338e+07</td>\n",
       "      <td>0</td>\n",
       "    </tr>\n",
       "    <tr>\n",
       "      <th>33</th>\n",
       "      <td>Brunei Darussalam</td>\n",
       "      <td>0.000000e+00</td>\n",
       "      <td>6.975263e+07</td>\n",
       "      <td>0</td>\n",
       "    </tr>\n",
       "    <tr>\n",
       "      <th>34</th>\n",
       "      <td>Bulgaria</td>\n",
       "      <td>0.000000e+00</td>\n",
       "      <td>6.672427e+08</td>\n",
       "      <td>0</td>\n",
       "    </tr>\n",
       "    <tr>\n",
       "      <th>35</th>\n",
       "      <td>Burkina Faso</td>\n",
       "      <td>0.000000e+00</td>\n",
       "      <td>3.963643e+07</td>\n",
       "      <td>0</td>\n",
       "    </tr>\n",
       "    <tr>\n",
       "      <th>36</th>\n",
       "      <td>Nigeria</td>\n",
       "      <td>2.369960e+09</td>\n",
       "      <td>1.407878e+09</td>\n",
       "      <td>2</td>\n",
       "    </tr>\n",
       "    <tr>\n",
       "      <th>37</th>\n",
       "      <td>Panama</td>\n",
       "      <td>4.079404e+08</td>\n",
       "      <td>7.006885e+08</td>\n",
       "      <td>0</td>\n",
       "    </tr>\n",
       "  </tbody>\n",
       "</table>\n",
       "</div>"
      ],
      "text/plain": [
       "Indikator                            Negara        Ekspor         Impor  \\\n",
       "0                               Afghanistan  1.233346e+07  1.006155e+08   \n",
       "1                                   Albania  3.831525e+07  9.648595e+07   \n",
       "2                                   Algeria  9.786343e+08  7.772864e+08   \n",
       "3                            American Samoa  1.896470e+05  8.608590e+05   \n",
       "4                                   Andorra  2.550839e+06  3.035542e+07   \n",
       "5                                    Angola  6.960580e+08  2.889229e+08   \n",
       "6                                  Anguilla  2.512280e+05  0.000000e+00   \n",
       "7                       Antigua and Barbuda  8.495230e+05  8.365829e+06   \n",
       "8                                 Argentina  1.265923e+09  1.113565e+09   \n",
       "9                                   Armenia  3.413423e+07  7.612333e+07   \n",
       "10                                    Aruba  1.959854e+06  2.130204e+07   \n",
       "11                                Australia  4.562058e+09  4.126311e+09   \n",
       "12                                  Austria  3.215066e+09  3.333724e+09   \n",
       "13                               Azerbaijan  3.572147e+08  1.690688e+08   \n",
       "14                                  Bahamas  1.101663e+07  6.136810e+07   \n",
       "15                                  Bahrain  2.887180e+08  2.963861e+08   \n",
       "16                               Bangladesh  5.431212e+08  7.328877e+08   \n",
       "17                                 Barbados  0.000000e+00  3.153845e+07   \n",
       "18                                  Belarus  0.000000e+00  6.313686e+08   \n",
       "19                                  Belgium  0.000000e+00  8.535130e+09   \n",
       "20                                   Belize  0.000000e+00  1.744828e+07   \n",
       "21                                    Benin  0.000000e+00  4.565578e+07   \n",
       "22                                  Bermuda  0.000000e+00  1.114379e+07   \n",
       "23                                   Bhutan  0.000000e+00  1.229965e+07   \n",
       "24          Bolivia  Plurinational State of  0.000000e+00  1.517215e+08   \n",
       "25         Bonaire  Sint Eustatius and Saba  0.000000e+00  4.147201e+06   \n",
       "26                   Bosnia and Herzegovina  0.000000e+00  2.074418e+08   \n",
       "27                                 Botswana  0.000000e+00  1.227796e+08   \n",
       "28                            Bouvet Island  0.000000e+00  5.360000e+02   \n",
       "29                                   Brazil  0.000000e+00  3.560998e+09   \n",
       "30              British Antarctic Territory  0.000000e+00  1.440000e+02   \n",
       "31           British Indian Ocean Territory  0.000000e+00  8.485580e+05   \n",
       "32                   British Virgin Islands  0.000000e+00  5.349338e+07   \n",
       "33                        Brunei Darussalam  0.000000e+00  6.975263e+07   \n",
       "34                                 Bulgaria  0.000000e+00  6.672427e+08   \n",
       "35                             Burkina Faso  0.000000e+00  3.963643e+07   \n",
       "36                                  Nigeria  2.369960e+09  1.407878e+09   \n",
       "37                                   Panama  4.079404e+08  7.006885e+08   \n",
       "\n",
       "Indikator  Cluster  \n",
       "0                0  \n",
       "1                0  \n",
       "2                0  \n",
       "3                0  \n",
       "4                0  \n",
       "5                0  \n",
       "6                0  \n",
       "7                0  \n",
       "8                0  \n",
       "9                0  \n",
       "10               0  \n",
       "11               2  \n",
       "12               2  \n",
       "13               0  \n",
       "14               0  \n",
       "15               0  \n",
       "16               0  \n",
       "17               0  \n",
       "18               0  \n",
       "19               1  \n",
       "20               0  \n",
       "21               0  \n",
       "22               0  \n",
       "23               0  \n",
       "24               0  \n",
       "25               0  \n",
       "26               0  \n",
       "27               0  \n",
       "28               0  \n",
       "29               1  \n",
       "30               0  \n",
       "31               0  \n",
       "32               0  \n",
       "33               0  \n",
       "34               0  \n",
       "35               0  \n",
       "36               2  \n",
       "37               0  "
      ]
     },
     "execution_count": 47,
     "metadata": {},
     "output_type": "execute_result"
    }
   ],
   "source": [
    "country_df"
   ]
  },
  {
   "cell_type": "code",
   "execution_count": 118,
   "id": "8fcb3695",
   "metadata": {},
   "outputs": [
    {
     "data": {
      "image/png": "[encoded data removed]",
      "text/plain": [
       "<Figure size 1000x600 with 1 Axes>"
      ]
     },
     "metadata": {},
     "output_type": "display_data"
    }
   ],
   "source": [
    "trend_df = final_df.groupby(['Tahun','Indikator'])['Jumlah'].sum().unstack().reset_index()\n",
    "\n",
    "\n",
    "X = trend_df['Tahun']\n",
    "Y = trend_df['Ekspor']\n",
    "\n",
    "reg = LinearRegression()\n",
    "reg.fit(X.values.reshape(-1, 1), Y)\n",
    "\n",
    "trend_df['Pred_Ekspor'] = reg.predict(X.values.reshape(-1, 1))\n",
    "future_years = pd.DataFrame({'Tahun': np.arange(2023, 2028)})\n",
    "future_preds = reg.predict(future_years['Tahun'].values.reshape(-1, 1))\n",
    "\n",
    "plt.figure(figsize=(10,6))\n",
    "plt.plot(trend_df['Tahun'], trend_df['Ekspor']/1e9, label='Nilai Ekspor asli', marker='o')\n",
    "plt.plot(trend_df['Tahun'], trend_df['Pred_Ekspor']/1e9, label='Regression Fit')\n",
    "plt.plot(future_years['Tahun'], future_preds/1e9, label='Perkiraan (LR)', color='red', linestyle='--', marker='o')\n",
    "\n",
    "plt.title(\"Total Ekspor Indonesia (2003-2027) dan perkiraan masa depan\", fontsize=16)\n",
    "plt.xlabel(\"Tahun\")\n",
    "plt.ylabel(\"Ekspor (USD Miliar)\")\n",
    "plt.legend()\n",
    "plt.grid(linestyle='--', alpha=0.6)\n",
    "plt.xticks(np.arange(2003, 2028, 2))\n",
    "plt.tight_layout()\n",
    "plt.show()"
   ]
  },
  {
   "cell_type": "code",
   "execution_count": 49,
   "id": "94fd1b18",
   "metadata": {},
   "outputs": [],
   "source": [
    "from sklearn.ensemble import RandomForestRegressor\n",
    "from sklearn.metrics import mean_squared_error, r2_score"
   ]
  },
  {
   "cell_type": "code",
   "execution_count": 50,
   "id": "3494415e",
   "metadata": {},
   "outputs": [],
   "source": [
    "RF_trend_df = final_df.groupby(['Tahun','Indikator'])['Jumlah'].sum().unstack().reset_index()\n",
    "RF_trend_df['Ekspor_lag1'] = RF_trend_df['Ekspor'].shift(1)\n",
    "RF_trend_df = RF_trend_df.dropna().reset_index(drop=True)"
   ]
  },
  {
   "cell_type": "code",
   "execution_count": 51,
   "id": "013bd1f6",
   "metadata": {},
   "outputs": [],
   "source": [
    "RF_X = RF_trend_df[['Tahun','Ekspor_lag1']]\n",
    "RF_y = RF_trend_df['Ekspor']\n",
    "\n",
    "RF_train_spl = RF_trend_df['Tahun'] <= 2015\n",
    "X_train, Y_train = RF_X[RF_train_spl], RF_y[RF_train_spl]\n",
    "X_test, Y_test = RF_X[~RF_train_spl], RF_y[~RF_train_spl]\n",
    "\n",
    "rf = RandomForestRegressor(n_estimators=200, random_state=42)\n",
    "rf.fit(X_train, Y_train)\n",
    "\n",
    "Y_pred = rf.predict(X_test)"
   ]
  },
  {
   "cell_type": "code",
   "execution_count": 52,
   "id": "eafb1135",
   "metadata": {},
   "outputs": [
    {
     "name": "stdout",
     "output_type": "stream",
     "text": [
      "Random Forest with Lag Features\n",
      "R² Score: -0.06101716878096819\n",
      "RMSE: 2.5089054976209644e+16\n"
     ]
    }
   ],
   "source": [
    "print(\"Random Forest with Lag Features\")\n",
    "print(\"R² Score:\", r2_score(Y_test, Y_pred))\n",
    "print(\"RMSE:\", mean_squared_error(Y_test, Y_pred))"
   ]
  },
  {
   "cell_type": "code",
   "execution_count": 53,
   "id": "6947182e",
   "metadata": {},
   "outputs": [],
   "source": [
    "RF_trend_df['Pred_Ekspor'] = rf.predict(RF_X)"
   ]
  },
  {
   "cell_type": "code",
   "execution_count": 54,
   "id": "6989f195",
   "metadata": {},
   "outputs": [],
   "source": [
    "predicted_yrs = []\n",
    "last_year = RF_trend_df.iloc[-1]['Tahun']\n",
    "last_lag1 = RF_trend_df.iloc[-1]['Ekspor']\n",
    "\n",
    "for year in range(int(last_year) + 1, 2028):\n",
    "    X_future = pd.DataFrame([[year, last_lag1]], columns=RF_X.columns)\n",
    "    pred = rf.predict(X_future)[0]\n",
    "    predicted_yrs.append((year, pred))\n",
    "    \n",
    "    last_lag1 = pred\n",
    "\n",
    "future_df = pd.DataFrame(predicted_yrs, columns=['Tahun', 'Pred_Ekspor'])"
   ]
  },
  {
   "cell_type": "code",
   "execution_count": 117,
   "id": "f6d78184",
   "metadata": {},
   "outputs": [
    {
     "data": {
      "image/png": "[encoded data removed]",
      "text/plain": [
       "<Figure size 1200x600 with 1 Axes>"
      ]
     },
     "metadata": {},
     "output_type": "display_data"
    }
   ],
   "source": [
    "plt.figure(figsize=(12,6))\n",
    "\n",
    "# Actual\n",
    "plt.plot(RF_trend_df['Tahun'], RF_trend_df['Ekspor']/1e9, label=\"Nilai Ekspor Asli\", marker='o')\n",
    "plt.plot(RF_trend_df[RF_train_spl]['Tahun'], RF_trend_df[RF_train_spl]['Pred_Ekspor']/1e9, label=\"RF Fit (Train)\", linestyle='--', color='blue')\n",
    "plt.plot(RF_trend_df[~RF_train_spl]['Tahun'], RF_trend_df[~RF_train_spl]['Pred_Ekspor']/1e9, label=\"RF Pred (Test)\", linestyle='--', color='orange')\n",
    "plt.plot(future_df['Tahun'], future_df['Pred_Ekspor']/1e9, 'rx-', label=\"Perkiraan (RF)\")\n",
    "\n",
    "plt.title(\"Perkiraan Ekspor Indonesia Dengan Regresi Random Forest\", fontsize=16)\n",
    "plt.xlabel(\"Tahun\")\n",
    "plt.ylabel(\"Ekspor (USD Miliar)\")\n",
    "plt.legend()\n",
    "plt.grid(linestyle='--', alpha=0.6)\n",
    "plt.xticks(np.arange(2003, 2028, 2))\n",
    "plt.show()"
   ]
  }
 ],
 "metadata": {
  "kernelspec": {
   "display_name": "Python 3",
   "language": "python",
   "name": "python3"
  },
  "language_info": {
   "codemirror_mode": {
    "name": "ipython",
    "version": 3
   },
   "file_extension": ".py",
   "mimetype": "text/x-python",
   "name": "python",
   "nbconvert_exporter": "python",
   "pygments_lexer": "ipython3",
   "version": "3.11.9"
  }
 },
 "nbformat": 4,
 "nbformat_minor": 5
}
